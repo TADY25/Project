{
 "cells": [
  {
   "cell_type": "markdown",
   "metadata": {
    "id": "8ZKqCFFbNZ04"
   },
   "source": [
    "# Data Mining and Machine Learning - Project\n",
    "\n",
    "## Detecting Difficulty Level of French Texts\n",
    "\n",
    "### Step by step guidelines\n",
    "\n",
    "The following are a set of step by step guidelines to help you get started with your project for the Data Mining and Machine Learning class. \n",
    "\n",
    "#### 1. 📂 Create a public GitHub repository for your team using this naming convention `DMML2021_[your_team_name]` with the following structure:\n",
    "- data (subfolder) \n",
    "- code (subfolder) \n",
    "- documentation (subfolder)\n",
    "- a readme file (.md): *mention team name, participants, brief description of the project, approach and summary of results table.*\n",
    "\n",
    "All team members should contribute to the GitHub repository.\n",
    "\n",
    "#### 2. 🇰 Join the competititon on Kaggle using an invitation link like this one: https://www.kaggle.com/t/69884669004b482c96dd59e5d0c52044 \n",
    "\n",
    "Under the Team tab, save your team name (`UNIL_your_team_name`) and make sure your team members join in as well. You can merge your user account with your teammates in order to create a team.\n",
    "\n",
    "#### 3. 📓 Read the data into your colab notebook. There should be one code notebook per team, but all team members can participate and contribute code. \n",
    "\n",
    "You can use either direct the Kaggle API and your Kaggle credentials (as explained below and **entirely optional**), or dowload the data form Kaggle and upload it onto your team's GitHub repository under the data subfolder.\n",
    "\n",
    "#### 4. 💎 Train your models and upload the code under your team's GitHub repo. Set the `random_state=0`.\n",
    "- baseline\n",
    "- logistic regression with TFidf vectoriser (simple, no data cleaning)\n",
    "- KNN & hyperparameter optimisation (simple, no data cleaning)\n",
    "- Decision Tree classifier & hyperparameter optimisation (simple, no data cleaning)\n",
    "- Random Forests classifier (simple, no data cleaning)\n",
    "- another technique or combination of techniques of your choice\n",
    "\n",
    "#### 5. 🎥 Create a YouTube video (10-15 minutes) of your solution and embed it in your notebook. Explain the algorithms used and the evaluation of your solutions. All projects will also be presented live by the group during the last class.\n",
    "\n",
    "DONE\n",
    "\n",
    "### Submission details (one per team)\n",
    "1. Add the link to your team's GitHub repository here: https://moodle.unil.ch/mod/url/view.php?id=841193\n",
    "\n",
    "2. Download a ZIPped file of your team's repositiory and submit it in Moodle here: https://moodle.unil.ch/mod/assign/view.php?id=1194395\n",
    "\n",
    "3. Post a link to your video in Slack under the project channel.\n",
    "\n",
    "### Grading (one per team)\n",
    "- 5 points presentation\n",
    "- 5 points video \n",
    "- 10 points notebook quality \n",
    "- 10 points your solution"
   ]
  },
  {
   "cell_type": "markdown",
   "metadata": {
    "id": "9-14CAdOoinM"
   },
   "source": [
    "## Some further details for points 3 and 4 above.\n",
    "\n",
    "### 3. Read data into your notebook with the Kaggle API (entirely optional). \n",
    "\n",
    "You can also download the data from Kaggle and put it in your team's repo the data folder."
   ]
  },
  {
   "cell_type": "code",
   "execution_count": 1,
   "metadata": {},
   "outputs": [],
   "source": [
    "import os\n",
    "import sys\n",
    "import get_dataset\n",
    "import pandas as pd\n",
    "import numpy as np\n",
    "import numpy\n",
    "import functs\n",
    "from functs import evaluate\n",
    "import matplotlib.pyplot as plt\n",
    "import seaborn as sns\n",
    "from sklearn.metrics import confusion_matrix\n",
    "from sklearn.model_selection import train_test_split\n",
    "from sklearn.pipeline import Pipeline\n",
    "from sklearn.feature_extraction.text import TfidfVectorizer\n",
    "from sklearn.linear_model import LogisticRegression\n",
    "from sklearn.feature_extraction.text import CountVectorizer\n",
    "import csv\n",
    "import tensorflow as tf\n",
    "from tensorflow import keras\n",
    "\n",
    "import spacy as spacy\n",
    "from spacy.attrs import LOWER, POS, ENT_TYPE, IS_ALPHA\n",
    "from spacy.tokens import Doc\n",
    "import numpy as np\n",
    "from tqdm import tqdm\n",
    "from gensim.models import word2vec\n",
    "from keras_funct import *\n",
    "import fr_core_news_md\n",
    "np.random.seed = 0\n"
   ]
  },
  {
   "cell_type": "code",
   "execution_count": 2,
   "metadata": {
    "id": "daqvj7feTx60"
   },
   "outputs": [],
   "source": [
    "# read in your training data\n",
    "\n",
    "\n",
    "df = get_dataset.get_train_data()"
   ]
  },
  {
   "cell_type": "code",
   "execution_count": 3,
   "metadata": {
    "colab": {
     "base_uri": "https://localhost:8080/",
     "height": 206
    },
    "id": "VxRSnk5bhTp8",
    "outputId": "80616e55-545c-4b80-fd32-99de0b0e4124"
   },
   "outputs": [
    {
     "data": {
      "text/html": [
       "<div>\n",
       "<style scoped>\n",
       "    .dataframe tbody tr th:only-of-type {\n",
       "        vertical-align: middle;\n",
       "    }\n",
       "\n",
       "    .dataframe tbody tr th {\n",
       "        vertical-align: top;\n",
       "    }\n",
       "\n",
       "    .dataframe thead th {\n",
       "        text-align: right;\n",
       "    }\n",
       "</style>\n",
       "<table border=\"1\" class=\"dataframe\">\n",
       "  <thead>\n",
       "    <tr style=\"text-align: right;\">\n",
       "      <th></th>\n",
       "      <th>sentence</th>\n",
       "      <th>difficulty</th>\n",
       "    </tr>\n",
       "  </thead>\n",
       "  <tbody>\n",
       "    <tr>\n",
       "      <th>0</th>\n",
       "      <td>Les coûts kilométriques réels peuvent diverger...</td>\n",
       "      <td>C1</td>\n",
       "    </tr>\n",
       "    <tr>\n",
       "      <th>1</th>\n",
       "      <td>Le bleu, c'est ma couleur préférée mais je n'a...</td>\n",
       "      <td>A1</td>\n",
       "    </tr>\n",
       "    <tr>\n",
       "      <th>2</th>\n",
       "      <td>Le test de niveau en français est sur le site ...</td>\n",
       "      <td>A1</td>\n",
       "    </tr>\n",
       "    <tr>\n",
       "      <th>3</th>\n",
       "      <td>Est-ce que ton mari est aussi de Boston?</td>\n",
       "      <td>A1</td>\n",
       "    </tr>\n",
       "    <tr>\n",
       "      <th>4</th>\n",
       "      <td>Dans les écoles de commerce, dans les couloirs...</td>\n",
       "      <td>B1</td>\n",
       "    </tr>\n",
       "  </tbody>\n",
       "</table>\n",
       "</div>"
      ],
      "text/plain": [
       "                                            sentence difficulty\n",
       "0  Les coûts kilométriques réels peuvent diverger...         C1\n",
       "1  Le bleu, c'est ma couleur préférée mais je n'a...         A1\n",
       "2  Le test de niveau en français est sur le site ...         A1\n",
       "3           Est-ce que ton mari est aussi de Boston?         A1\n",
       "4  Dans les écoles de commerce, dans les couloirs...         B1"
      ]
     },
     "execution_count": 3,
     "metadata": {},
     "output_type": "execute_result"
    }
   ],
   "source": [
    "df.head()"
   ]
  },
  {
   "cell_type": "markdown",
   "metadata": {
    "id": "1kpfbtndj0jL"
   },
   "source": [
    "Have a look at the data on which to make predictions."
   ]
  },
  {
   "cell_type": "code",
   "execution_count": 4,
   "metadata": {
    "colab": {
     "base_uri": "https://localhost:8080/",
     "height": 206
    },
    "id": "7G75Q1gRj49l",
    "outputId": "0fdf7e2a-db10-4cf8-9416-f36f6851a1d2"
   },
   "outputs": [
    {
     "data": {
      "text/html": [
       "<div>\n",
       "<style scoped>\n",
       "    .dataframe tbody tr th:only-of-type {\n",
       "        vertical-align: middle;\n",
       "    }\n",
       "\n",
       "    .dataframe tbody tr th {\n",
       "        vertical-align: top;\n",
       "    }\n",
       "\n",
       "    .dataframe thead th {\n",
       "        text-align: right;\n",
       "    }\n",
       "</style>\n",
       "<table border=\"1\" class=\"dataframe\">\n",
       "  <thead>\n",
       "    <tr style=\"text-align: right;\">\n",
       "      <th></th>\n",
       "      <th>sentence</th>\n",
       "    </tr>\n",
       "  </thead>\n",
       "  <tbody>\n",
       "    <tr>\n",
       "      <th>0</th>\n",
       "      <td>Nous dûmes nous excuser des propos que nous eû...</td>\n",
       "    </tr>\n",
       "    <tr>\n",
       "      <th>1</th>\n",
       "      <td>Vous ne pouvez pas savoir le plaisir que j'ai ...</td>\n",
       "    </tr>\n",
       "    <tr>\n",
       "      <th>2</th>\n",
       "      <td>Et, paradoxalement, boire froid n'est pas la b...</td>\n",
       "    </tr>\n",
       "    <tr>\n",
       "      <th>3</th>\n",
       "      <td>Ce n'est pas étonnant, car c'est une saison my...</td>\n",
       "    </tr>\n",
       "    <tr>\n",
       "      <th>4</th>\n",
       "      <td>Le corps de Golo lui-même, d'une essence aussi...</td>\n",
       "    </tr>\n",
       "  </tbody>\n",
       "</table>\n",
       "</div>"
      ],
      "text/plain": [
       "                                            sentence\n",
       "0  Nous dûmes nous excuser des propos que nous eû...\n",
       "1  Vous ne pouvez pas savoir le plaisir que j'ai ...\n",
       "2  Et, paradoxalement, boire froid n'est pas la b...\n",
       "3  Ce n'est pas étonnant, car c'est une saison my...\n",
       "4  Le corps de Golo lui-même, d'une essence aussi..."
      ]
     },
     "execution_count": 4,
     "metadata": {},
     "output_type": "execute_result"
    }
   ],
   "source": [
    "df_pred = get_dataset.get_unlabelled_data()\n",
    "df_pred.head()"
   ]
  },
  {
   "cell_type": "markdown",
   "metadata": {
    "id": "a37hWJ_ckBlk"
   },
   "source": [
    "And this is the format for your submissions."
   ]
  },
  {
   "cell_type": "code",
   "execution_count": 5,
   "metadata": {
    "colab": {
     "base_uri": "https://localhost:8080/",
     "height": 206
    },
    "id": "gk9H2dLHkFBa",
    "outputId": "e823ec1a-db03-4b6b-ca0c-7f89a93f02a8"
   },
   "outputs": [
    {
     "data": {
      "text/html": [
       "<div>\n",
       "<style scoped>\n",
       "    .dataframe tbody tr th:only-of-type {\n",
       "        vertical-align: middle;\n",
       "    }\n",
       "\n",
       "    .dataframe tbody tr th {\n",
       "        vertical-align: top;\n",
       "    }\n",
       "\n",
       "    .dataframe thead th {\n",
       "        text-align: right;\n",
       "    }\n",
       "</style>\n",
       "<table border=\"1\" class=\"dataframe\">\n",
       "  <thead>\n",
       "    <tr style=\"text-align: right;\">\n",
       "      <th></th>\n",
       "      <th>difficulty</th>\n",
       "    </tr>\n",
       "  </thead>\n",
       "  <tbody>\n",
       "    <tr>\n",
       "      <th>0</th>\n",
       "      <td>A1</td>\n",
       "    </tr>\n",
       "    <tr>\n",
       "      <th>1</th>\n",
       "      <td>A1</td>\n",
       "    </tr>\n",
       "    <tr>\n",
       "      <th>2</th>\n",
       "      <td>A1</td>\n",
       "    </tr>\n",
       "    <tr>\n",
       "      <th>3</th>\n",
       "      <td>A1</td>\n",
       "    </tr>\n",
       "    <tr>\n",
       "      <th>4</th>\n",
       "      <td>A1</td>\n",
       "    </tr>\n",
       "  </tbody>\n",
       "</table>\n",
       "</div>"
      ],
      "text/plain": [
       "  difficulty\n",
       "0         A1\n",
       "1         A1\n",
       "2         A1\n",
       "3         A1\n",
       "4         A1"
      ]
     },
     "execution_count": 5,
     "metadata": {},
     "output_type": "execute_result"
    }
   ],
   "source": [
    "df_example_submission = get_dataset.get_sub_data()\n",
    "df_example_submission.head()"
   ]
  },
  {
   "cell_type": "markdown",
   "metadata": {
    "id": "FfTgL1erjqQ6"
   },
   "source": [
    "### 4. Train your models\n",
    "\n",
    "Set your X and y variables. \n",
    "Set the `random_state=0`\n",
    "Split the data into a train and test set using the following parameters `train_test_split(X, y, test_size=0.2, random_state=0)`.\n",
    "\n",
    "#### 4.1.Baseline\n",
    "What is the baseline for this classification problem? (you can use the highest label frequency from the entire training data, the df above)"
   ]
  },
  {
   "cell_type": "code",
   "execution_count": 6,
   "metadata": {},
   "outputs": [
    {
     "name": "stdout",
     "output_type": "stream",
     "text": [
      "The baseline accuracy is 16.94%\n"
     ]
    }
   ],
   "source": [
    "pred = df.groupby('difficulty').count()\n",
    "baseline_accuracy = pred['sentence'].max()/len(df)\n",
    "print(f'The baseline accuracy is {round(baseline_accuracy*100,2)}%')"
   ]
  },
  {
   "cell_type": "markdown",
   "metadata": {
    "id": "SlvbPYa0k78l"
   },
   "source": [
    "#### 4.2. Logistic Regression (without data cleaning)\n",
    "\n",
    "Train a simple logistic regression model using a Tfidf vectoriser."
   ]
  },
  {
   "cell_type": "code",
   "execution_count": 7,
   "metadata": {
    "id": "t4O_pYiHpiRd"
   },
   "outputs": [],
   "source": [
    "corpus = df['sentence'].tolist()\n",
    "\n",
    "X_train, X_test, y_train, y_test = train_test_split(corpus, df['difficulty'].tolist(),\n",
    "                                                    test_size = 0.2,\n",
    "                                                    random_state = 0)"
   ]
  },
  {
   "cell_type": "code",
   "execution_count": 8,
   "metadata": {
    "id": "eEe3-QNlow4H"
   },
   "outputs": [],
   "source": [
    "pipe = Pipeline([('tfidf', TfidfVectorizer()), ('log_reg', LogisticRegression())])\n",
    "pipe.fit(X_train, y_train)\n",
    "\n",
    "pred = pipe.predict(X_test)"
   ]
  },
  {
   "cell_type": "markdown",
   "metadata": {
    "id": "bZ-qO8C5oyov"
   },
   "source": [
    "Calculate accuracy, precision, recall and F1 score on the test set."
   ]
  },
  {
   "cell_type": "code",
   "execution_count": 9,
   "metadata": {
    "id": "PViIQdnDpASy"
   },
   "outputs": [
    {
     "name": "stdout",
     "output_type": "stream",
     "text": [
      "AxesSubplot(0.125,0.125;0.62x0.755)\n",
      "ACCURACY SCORE:\n",
      "0.4667\n",
      "CLASSIFICATION REPORT:\n",
      "\tPrecision: 0.4645\n",
      "\tRecall: 0.4677\n",
      "\tF1_Score: 0.4640\n"
     ]
    },
    {
     "data": {
      "image/png": "[encoded data removed]",
      "text/plain": [
       "<Figure size 432x288 with 2 Axes>"
      ]
     },
     "metadata": {
      "needs_background": "light"
     },
     "output_type": "display_data"
    }
   ],
   "source": [
    "evaluate(y_test, pred)"
   ]
  },
  {
   "cell_type": "markdown",
   "metadata": {
    "id": "9D3_dp3apcmr"
   },
   "source": [
    "Have a look at the confusion matrix and identify a few examples of sentences that are not well classified."
   ]
  },
  {
   "cell_type": "code",
   "execution_count": 11,
   "metadata": {},
   "outputs": [
    {
     "data": {
      "text/html": [
       "<div>\n",
       "<style scoped>\n",
       "    .dataframe tbody tr th:only-of-type {\n",
       "        vertical-align: middle;\n",
       "    }\n",
       "\n",
       "    .dataframe tbody tr th {\n",
       "        vertical-align: top;\n",
       "    }\n",
       "\n",
       "    .dataframe thead th {\n",
       "        text-align: right;\n",
       "    }\n",
       "</style>\n",
       "<table border=\"1\" class=\"dataframe\">\n",
       "  <thead>\n",
       "    <tr style=\"text-align: right;\">\n",
       "      <th></th>\n",
       "      <th>sentence</th>\n",
       "      <th>true</th>\n",
       "      <th>pred</th>\n",
       "    </tr>\n",
       "  </thead>\n",
       "  <tbody>\n",
       "    <tr>\n",
       "      <th>0</th>\n",
       "      <td>C'est en décembre 1967, après bien des invecti...</td>\n",
       "      <td>C1</td>\n",
       "      <td>C2</td>\n",
       "    </tr>\n",
       "    <tr>\n",
       "      <th>1</th>\n",
       "      <td>Giscard va pourtant réussir à transformer ce r...</td>\n",
       "      <td>C1</td>\n",
       "      <td>B2</td>\n",
       "    </tr>\n",
       "    <tr>\n",
       "      <th>2</th>\n",
       "      <td>Un choix difficile mais important : le public ...</td>\n",
       "      <td>A2</td>\n",
       "      <td>B1</td>\n",
       "    </tr>\n",
       "    <tr>\n",
       "      <th>3</th>\n",
       "      <td>Le débat porte plutôt sur l'utilité d'une tell...</td>\n",
       "      <td>B1</td>\n",
       "      <td>C1</td>\n",
       "    </tr>\n",
       "    <tr>\n",
       "      <th>6</th>\n",
       "      <td>Il faut du temps et du courage pour soigner to...</td>\n",
       "      <td>A2</td>\n",
       "      <td>B1</td>\n",
       "    </tr>\n",
       "  </tbody>\n",
       "</table>\n",
       "</div>"
      ],
      "text/plain": [
       "                                            sentence true pred\n",
       "0  C'est en décembre 1967, après bien des invecti...   C1   C2\n",
       "1  Giscard va pourtant réussir à transformer ce r...   C1   B2\n",
       "2  Un choix difficile mais important : le public ...   A2   B1\n",
       "3  Le débat porte plutôt sur l'utilité d'une tell...   B1   C1\n",
       "6  Il faut du temps et du courage pour soigner to...   A2   B1"
      ]
     },
     "execution_count": 11,
     "metadata": {},
     "output_type": "execute_result"
    }
   ],
   "source": [
    "examples=pd.DataFrame(X_test, columns=[\"sentence\"])\n",
    "examples[\"true\"]=y_test\n",
    "examples[\"pred\"]=pred\n",
    "examples = examples[examples[\"true\"] != examples[\"pred\"]]\n",
    "\n",
    "examples.head()\n"
   ]
  },
  {
   "cell_type": "code",
   "execution_count": 13,
   "metadata": {},
   "outputs": [],
   "source": [
    "log_reg = pd.DataFrame(pred, columns=['difficulty'])\n",
    "log_reg.to_csv('log_reg_pred.csv')"
   ]
  },
  {
   "cell_type": "markdown",
   "metadata": {
    "id": "9TTEiuXasNFg"
   },
   "source": [
    "Generate your first predictions on the `unlabelled_test_data.csv`. make sure your predictions match the format of the `unlabelled_test_data.csv`."
   ]
  },
  {
   "cell_type": "markdown",
   "metadata": {
    "id": "vXG_yIG_pQ8t"
   },
   "source": [
    "#### 4.3. KNN (without data cleaning)\n",
    "\n",
    "Train a KNN classification model using a Tfidf vectoriser. Show the accuracy, precision, recall and F1 score on the test set."
   ]
  },
  {
   "cell_type": "code",
   "execution_count": 18,
   "metadata": {
    "id": "GPRjD1rSqKKZ"
   },
   "outputs": [
    {
     "name": "stdout",
     "output_type": "stream",
     "text": [
      "AxesSubplot(0.125,0.125;0.62x0.755)\n",
      "ACCURACY SCORE:\n",
      "0.3187\n",
      "CLASSIFICATION REPORT:\n",
      "\tPrecision: 0.4007\n",
      "\tRecall: 0.3183\n",
      "\tF1_Score: 0.3022\n"
     ]
    },
    {
     "data": {
      "image/png": "[encoded data removed]",
      "text/plain": [
       "<Figure size 432x288 with 2 Axes>"
      ]
     },
     "metadata": {
      "needs_background": "light"
     },
     "output_type": "display_data"
    }
   ],
   "source": [
    "from sklearn.model_selection import GridSearchCV\n",
    "from sklearn.neighbors import KNeighborsClassifier\n",
    "\n",
    "KNN = KNeighborsClassifier()\n",
    "pipe = Pipeline([('tfidf', TfidfVectorizer()), ('KNN', KNN)])\n",
    "\n",
    "pipe.fit(X_train, y_train)\n",
    "pred = pipe.predict(X_test)\n",
    "evaluate(y_test, pred)\n"
   ]
  },
  {
   "cell_type": "markdown",
   "metadata": {
    "id": "D6rH2Hx0qtB2"
   },
   "source": [
    "Try to improve it by tuning the hyper parameters (`n_neighbors`,   `p`, `weights`)."
   ]
  },
  {
   "cell_type": "code",
   "execution_count": 19,
   "metadata": {},
   "outputs": [
    {
     "name": "stdout",
     "output_type": "stream",
     "text": [
      "Best hyperparameters: {'n_neighbors': 11, 'p': 2, 'weights': 'distance'}\n",
      "AxesSubplot(0.125,0.125;0.62x0.755)\n",
      "ACCURACY SCORE:\n",
      "0.3542\n",
      "CLASSIFICATION REPORT:\n",
      "\tPrecision: 0.4197\n",
      "\tRecall: 0.3543\n",
      "\tF1_Score: 0.3450\n"
     ]
    },
    {
     "data": {
      "image/png": "[encoded data removed]",
      "text/plain": [
       "<Figure size 432x288 with 2 Axes>"
      ]
     },
     "metadata": {
      "needs_background": "light"
     },
     "output_type": "display_data"
    }
   ],
   "source": [
    "from sklearn.model_selection import GridSearchCV\n",
    "from sklearn.neighbors import KNeighborsClassifier\n",
    "\n",
    "knn_grid = {'n_neighbors' : np.arange(1,500,5),\n",
    "            'p': np.arange(1,3),\n",
    "            'weights' : ['uniform', 'distance']}\n",
    "\n",
    "KNN = KNeighborsClassifier()\n",
    "KNN_CV = GridSearchCV(KNN, knn_grid, cv = 5)\n",
    "pipe = Pipeline([('tfidf', TfidfVectorizer()), ('KNN', KNN_CV)])\n",
    "\n",
    "pipe.fit(X_train, y_train)\n",
    "print('Best hyperparameters:', KNN_CV.best_params_)\n",
    "pred = pipe.predict(X_test)\n",
    "\n",
    "\n",
    "evaluate(y_test, pred)"
   ]
  },
  {
   "cell_type": "markdown",
   "metadata": {
    "id": "FFNH1WgNqc62"
   },
   "source": [
    "#### 4.4. Decision Tree Classifier (without data cleaning)\n",
    "\n",
    "Train a Decison Tree classifier, using a Tfidf vectoriser. Show the accuracy, precision, recall and F1 score on the test set."
   ]
  },
  {
   "cell_type": "code",
   "execution_count": 20,
   "metadata": {
    "id": "d4PByPdGq0FV"
   },
   "outputs": [
    {
     "name": "stdout",
     "output_type": "stream",
     "text": [
      "AxesSubplot(0.125,0.125;0.62x0.755)\n",
      "ACCURACY SCORE:\n",
      "0.3104\n",
      "CLASSIFICATION REPORT:\n",
      "\tPrecision: 0.3106\n",
      "\tRecall: 0.3108\n",
      "\tF1_Score: 0.3083\n"
     ]
    },
    {
     "data": {
      "image/png": "[encoded data removed]",
      "text/plain": [
       "<Figure size 432x288 with 2 Axes>"
      ]
     },
     "metadata": {
      "needs_background": "light"
     },
     "output_type": "display_data"
    }
   ],
   "source": [
    "from sklearn.tree import DecisionTreeClassifier\n",
    "\n",
    "pipe = Pipeline([('tfidf', TfidfVectorizer()), ('decision_tree', DecisionTreeClassifier())])\n",
    "pipe.fit(X_train, y_train)\n",
    "\n",
    "pred = pipe.predict(X_test)\n",
    "evaluate(y_test, pred)"
   ]
  },
  {
   "cell_type": "markdown",
   "metadata": {
    "id": "yQHjvOp7q11L"
   },
   "source": [
    "Try to improve it by tuning the hyper parameters (`max_depth`, the depth of the decision tree)."
   ]
  },
  {
   "cell_type": "code",
   "execution_count": 21,
   "metadata": {
    "id": "x1Fzl5BUq8JN"
   },
   "outputs": [
    {
     "name": "stdout",
     "output_type": "stream",
     "text": [
      "Hyperparameters: {'max_depth': 205}\n",
      "AxesSubplot(0.125,0.125;0.62x0.755)\n",
      "ACCURACY SCORE:\n",
      "0.3031\n",
      "CLASSIFICATION REPORT:\n",
      "\tPrecision: 0.3048\n",
      "\tRecall: 0.3031\n",
      "\tF1_Score: 0.3005\n"
     ]
    },
    {
     "data": {
      "image/png": "[encoded data removed]",
      "text/plain": [
       "<Figure size 432x288 with 2 Axes>"
      ]
     },
     "metadata": {
      "needs_background": "light"
     },
     "output_type": "display_data"
    }
   ],
   "source": [
    "grid_tree = {'max_depth': np.arange(5,1000, 50)}\n",
    "\n",
    "dec_tree = DecisionTreeClassifier()\n",
    "dec_tree_CV = GridSearchCV(dec_tree, grid_tree, cv = 5)\n",
    "pipe = Pipeline([('tfidf', TfidfVectorizer()), ('decision_tree_CV', dec_tree_CV)])\n",
    "\n",
    "pipe.fit(X_train, y_train)\n",
    "pred = pipe.predict(X_test)\n",
    "print(\"Hyperparameters:\", dec_tree_CV.best_params_)\n",
    "evaluate(y_test, pred)"
   ]
  },
  {
   "cell_type": "markdown",
   "metadata": {
    "id": "M52Ys3hcq7ku"
   },
   "source": [
    "#### 4.5. Random Forest Classifier (without data cleaning)\n",
    "\n",
    "Try a Random Forest Classifier, using a Tfidf vectoriser. Show the accuracy, precision, recall and F1 score on the test set."
   ]
  },
  {
   "cell_type": "code",
   "execution_count": 22,
   "metadata": {
    "id": "sssF4NIGrNLa"
   },
   "outputs": [
    {
     "name": "stdout",
     "output_type": "stream",
     "text": [
      "AxesSubplot(0.125,0.125;0.62x0.755)\n",
      "ACCURACY SCORE:\n",
      "0.4042\n",
      "CLASSIFICATION REPORT:\n",
      "\tPrecision: 0.4064\n",
      "\tRecall: 0.4062\n",
      "\tF1_Score: 0.3925\n"
     ]
    },
    {
     "data": {
      "image/png": "[encoded data removed]",
      "text/plain": [
       "<Figure size 432x288 with 2 Axes>"
      ]
     },
     "metadata": {
      "needs_background": "light"
     },
     "output_type": "display_data"
    }
   ],
   "source": [
    "from sklearn.ensemble import RandomForestClassifier\n",
    "random_forest_classifier = RandomForestClassifier()\n",
    "pipe = Pipeline([('tfidf', TfidfVectorizer()), ('random_forest_clf', random_forest_classifier)])\n",
    "pipe.fit(X_train, y_train)\n",
    "pred = pipe.predict(X_test)\n",
    "evaluate(y_test, pred)"
   ]
  },
  {
   "cell_type": "markdown",
   "metadata": {
    "id": "z-8_3MK1rpZr"
   },
   "source": [
    "#### 4.6. Any other technique, including data cleaning if necessary\n",
    "\n",
    "Try to improve accuracy by training a better model using the techniques seen in class, or combinations of them.\n",
    "\n",
    "As usual, show the accuracy, precision, recall and f1 score on the test set."
   ]
  },
  {
   "cell_type": "code",
   "execution_count": 23,
   "metadata": {
    "id": "wX5AjvvKr_nW"
   },
   "outputs": [],
   "source": [
    "data = get_dataset.get_train_data()"
   ]
  },
  {
   "cell_type": "code",
   "execution_count": 3,
   "metadata": {},
   "outputs": [
    {
     "name": "stdout",
     "output_type": "stream",
     "text": [
      "1\n",
      "2\n",
      "3\n",
      "4\n"
     ]
    }
   ],
   "source": [
    "feature1 = type_counter(data)\n",
    "print(\"Feature 1 is done computing\")\n",
    "feature2 = vectorizer(data)\n",
    "print(\"Feature 2 is done computing\")\n",
    "feature3 = word_len_counter(data)\n",
    "print(\"Feature 3 is done computing\")\n",
    "feature4 = sk_vec(data)\n",
    "print(\"Feature 4 is done computing\")\n",
    "feature = np.concatenate((feature1, feature2),axis = 1)\n",
    "feature = np.concatenate((feature, feature3), axis = 1)\n",
    "feature = np.concatenate((feature, feature4), axis = 1)\n",
    "\n",
    "print(\"Features ready to be used\")"
   ]
  },
  {
   "cell_type": "code",
   "execution_count": 4,
   "metadata": {},
   "outputs": [],
   "source": [
    "y1, y2 = prepare_output(data)\n",
    "print(\"Data ready to be used\")"
   ]
  },
  {
   "cell_type": "code",
   "execution_count": 5,
   "metadata": {},
   "outputs": [],
   "source": [
    "#X_train\n",
    "feature_train = np.array(feature[:4000])\n",
    "feature4_train = np.array(feature4[:4000])\n",
    "\n",
    "#y_train\n",
    "y2_train = np.asarray(y2[:4000])\n",
    "y1_train = np.asarray(y1[:4000])\n",
    "\n",
    "#X_test\n",
    "feature_test = np.array(feature[4000:])\n",
    "feature4_test = np.array(feature4[4000:])\n",
    "\n",
    "#y_test\n",
    "y2_test = np.asarray(y2[4000:])\n",
    "y1_test = np.asarray(y1[4000:])\n",
    "\n",
    "print(\"Data has been split\")"
   ]
  },
  {
   "cell_type": "code",
   "execution_count": 6,
   "metadata": {
    "scrolled": true
   },
   "outputs": [
    {
     "name": "stdout",
     "output_type": "stream",
     "text": [
      "Model: \"sequential\"\n",
      "_________________________________________________________________\n",
      " Layer (type)                Output Shape              Param #   \n",
      "=================================================================\n",
      " dense (Dense)               (None, 32)                2171264   \n",
      "                                                                 \n",
      " dropout (Dropout)           (None, 32)                0         \n",
      "                                                                 \n",
      " dense_1 (Dense)             (None, 6)                 198       \n",
      "                                                                 \n",
      "=================================================================\n",
      "Total params: 2,171,462\n",
      "Trainable params: 2,171,462\n",
      "Non-trainable params: 0\n",
      "_________________________________________________________________\n",
      "None\n",
      "Epoch 1/100\n",
      "500/500 [==============================] - 5s 8ms/step - loss: 1.5755 - accuracy: 0.3212 - val_loss: 1.4074 - val_accuracy: 0.3750\n",
      "Epoch 2/100\n",
      "500/500 [==============================] - 4s 8ms/step - loss: 1.4399 - accuracy: 0.3765 - val_loss: 1.3522 - val_accuracy: 0.4000\n",
      "Epoch 3/100\n",
      "500/500 [==============================] - 4s 8ms/step - loss: 1.3847 - accuracy: 0.4070 - val_loss: 1.2814 - val_accuracy: 0.4750\n",
      "Epoch 4/100\n",
      "500/500 [==============================] - 4s 8ms/step - loss: 1.3309 - accuracy: 0.4353 - val_loss: 1.2601 - val_accuracy: 0.4000\n",
      "Epoch 5/100\n",
      "500/500 [==============================] - 4s 8ms/step - loss: 1.2695 - accuracy: 0.4602 - val_loss: 1.2225 - val_accuracy: 0.4000\n",
      "Epoch 6/100\n",
      "500/500 [==============================] - 4s 8ms/step - loss: 1.2413 - accuracy: 0.4737 - val_loss: 1.2480 - val_accuracy: 0.3750\n",
      "Epoch 7/100\n",
      "500/500 [==============================] - 4s 8ms/step - loss: 1.2148 - accuracy: 0.4893 - val_loss: 1.2070 - val_accuracy: 0.4250\n",
      "Epoch 8/100\n",
      "500/500 [==============================] - 4s 8ms/step - loss: 1.1644 - accuracy: 0.5090 - val_loss: 1.1114 - val_accuracy: 0.5250\n",
      "Epoch 9/100\n",
      "500/500 [==============================] - 4s 8ms/step - loss: 1.1562 - accuracy: 0.5140 - val_loss: 1.1248 - val_accuracy: 0.5500\n",
      "Epoch 10/100\n",
      "500/500 [==============================] - 4s 8ms/step - loss: 1.1216 - accuracy: 0.5293 - val_loss: 1.1495 - val_accuracy: 0.4750\n",
      "Epoch 11/100\n",
      "500/500 [==============================] - 4s 8ms/step - loss: 1.0991 - accuracy: 0.5378 - val_loss: 1.1209 - val_accuracy: 0.5000\n",
      "Epoch 12/100\n",
      "500/500 [==============================] - 4s 8ms/step - loss: 1.0623 - accuracy: 0.5623 - val_loss: 1.1404 - val_accuracy: 0.4500\n",
      "Epoch 13/100\n",
      "500/500 [==============================] - 4s 8ms/step - loss: 1.0322 - accuracy: 0.5763 - val_loss: 1.0666 - val_accuracy: 0.5000\n",
      "Epoch 14/100\n",
      "500/500 [==============================] - 4s 8ms/step - loss: 1.0055 - accuracy: 0.5922 - val_loss: 1.1205 - val_accuracy: 0.4500\n",
      "Epoch 15/100\n",
      "500/500 [==============================] - 4s 8ms/step - loss: 0.9942 - accuracy: 0.5907 - val_loss: 1.1249 - val_accuracy: 0.5250\n",
      "Epoch 16/100\n",
      "500/500 [==============================] - 4s 8ms/step - loss: 0.9586 - accuracy: 0.6170 - val_loss: 1.1289 - val_accuracy: 0.5000\n",
      "Epoch 17/100\n",
      "500/500 [==============================] - 4s 8ms/step - loss: 0.9458 - accuracy: 0.6125 - val_loss: 1.1196 - val_accuracy: 0.5250\n",
      "Epoch 18/100\n",
      "500/500 [==============================] - 4s 8ms/step - loss: 0.9066 - accuracy: 0.6300 - val_loss: 1.0495 - val_accuracy: 0.5500\n",
      "Epoch 19/100\n",
      "500/500 [==============================] - 4s 8ms/step - loss: 0.8985 - accuracy: 0.6467 - val_loss: 1.1040 - val_accuracy: 0.5000\n",
      "Epoch 20/100\n",
      "500/500 [==============================] - 4s 8ms/step - loss: 0.8602 - accuracy: 0.6582 - val_loss: 1.0550 - val_accuracy: 0.4750\n",
      "Epoch 21/100\n",
      "500/500 [==============================] - 4s 9ms/step - loss: 0.8322 - accuracy: 0.6733 - val_loss: 1.1244 - val_accuracy: 0.5000\n",
      "Epoch 22/100\n",
      "500/500 [==============================] - 4s 8ms/step - loss: 0.8326 - accuracy: 0.6777 - val_loss: 1.1197 - val_accuracy: 0.4500\n",
      "Epoch 23/100\n",
      "500/500 [==============================] - 4s 8ms/step - loss: 0.8126 - accuracy: 0.6860 - val_loss: 1.1231 - val_accuracy: 0.4500\n",
      "Epoch 24/100\n",
      "500/500 [==============================] - 4s 8ms/step - loss: 0.7743 - accuracy: 0.7055 - val_loss: 1.0726 - val_accuracy: 0.5250\n",
      "Epoch 25/100\n",
      "500/500 [==============================] - 4s 8ms/step - loss: 0.7478 - accuracy: 0.7160 - val_loss: 1.0309 - val_accuracy: 0.4750\n",
      "Epoch 26/100\n",
      "500/500 [==============================] - 4s 8ms/step - loss: 0.7302 - accuracy: 0.7247 - val_loss: 1.0180 - val_accuracy: 0.5500\n",
      "Epoch 27/100\n",
      "500/500 [==============================] - 4s 8ms/step - loss: 0.7039 - accuracy: 0.7327 - val_loss: 1.0934 - val_accuracy: 0.4750\n",
      "Epoch 28/100\n",
      "500/500 [==============================] - 4s 8ms/step - loss: 0.6921 - accuracy: 0.7327 - val_loss: 1.1054 - val_accuracy: 0.5000\n",
      "Epoch 29/100\n",
      "500/500 [==============================] - 4s 8ms/step - loss: 0.6766 - accuracy: 0.7427 - val_loss: 1.0731 - val_accuracy: 0.5250\n",
      "Epoch 30/100\n",
      "500/500 [==============================] - 4s 8ms/step - loss: 0.6394 - accuracy: 0.7630 - val_loss: 1.0706 - val_accuracy: 0.4750\n",
      "Epoch 31/100\n",
      "500/500 [==============================] - 4s 8ms/step - loss: 0.6244 - accuracy: 0.7682 - val_loss: 1.0239 - val_accuracy: 0.4750\n",
      "Epoch 32/100\n",
      "500/500 [==============================] - 4s 8ms/step - loss: 0.6276 - accuracy: 0.7670 - val_loss: 1.0664 - val_accuracy: 0.4750\n",
      "Epoch 33/100\n",
      "500/500 [==============================] - 4s 8ms/step - loss: 0.5967 - accuracy: 0.7793 - val_loss: 1.0697 - val_accuracy: 0.5000\n",
      "Epoch 34/100\n",
      "500/500 [==============================] - 4s 8ms/step - loss: 0.5812 - accuracy: 0.7893 - val_loss: 1.0719 - val_accuracy: 0.4750\n",
      "Epoch 35/100\n",
      "500/500 [==============================] - 4s 8ms/step - loss: 0.5610 - accuracy: 0.8010 - val_loss: 1.1740 - val_accuracy: 0.4500\n",
      "Epoch 36/100\n",
      "500/500 [==============================] - 4s 8ms/step - loss: 0.5456 - accuracy: 0.8095 - val_loss: 1.0878 - val_accuracy: 0.5000\n",
      "Epoch 37/100\n",
      "500/500 [==============================] - 4s 8ms/step - loss: 0.5421 - accuracy: 0.8012 - val_loss: 1.1200 - val_accuracy: 0.4750\n",
      "Epoch 38/100\n",
      "500/500 [==============================] - 4s 8ms/step - loss: 0.5403 - accuracy: 0.7995 - val_loss: 1.0700 - val_accuracy: 0.5000\n",
      "Epoch 39/100\n",
      "500/500 [==============================] - 4s 8ms/step - loss: 0.5025 - accuracy: 0.8165 - val_loss: 1.1303 - val_accuracy: 0.4500\n",
      "Epoch 40/100\n",
      "500/500 [==============================] - 4s 8ms/step - loss: 0.4955 - accuracy: 0.8213 - val_loss: 1.1114 - val_accuracy: 0.4750\n",
      "Epoch 41/100\n",
      "500/500 [==============================] - 4s 8ms/step - loss: 0.4803 - accuracy: 0.8273 - val_loss: 1.0455 - val_accuracy: 0.5250\n",
      "Epoch 42/100\n",
      "500/500 [==============================] - 4s 8ms/step - loss: 0.4757 - accuracy: 0.8282 - val_loss: 1.1006 - val_accuracy: 0.4750\n",
      "Epoch 43/100\n",
      "500/500 [==============================] - 4s 8ms/step - loss: 0.4614 - accuracy: 0.8350 - val_loss: 1.0146 - val_accuracy: 0.4750\n",
      "Epoch 44/100\n",
      "500/500 [==============================] - 4s 8ms/step - loss: 0.4347 - accuracy: 0.8453 - val_loss: 1.0710 - val_accuracy: 0.5250\n",
      "Epoch 45/100\n",
      "500/500 [==============================] - 4s 8ms/step - loss: 0.4252 - accuracy: 0.8493 - val_loss: 1.0997 - val_accuracy: 0.5750\n",
      "Epoch 46/100\n",
      "500/500 [==============================] - 4s 8ms/step - loss: 0.4256 - accuracy: 0.8485 - val_loss: 1.0910 - val_accuracy: 0.5500\n",
      "Epoch 47/100\n",
      "500/500 [==============================] - 4s 8ms/step - loss: 0.4122 - accuracy: 0.8522 - val_loss: 1.1258 - val_accuracy: 0.5000\n",
      "Epoch 48/100\n",
      "500/500 [==============================] - 4s 8ms/step - loss: 0.4065 - accuracy: 0.8522 - val_loss: 1.1224 - val_accuracy: 0.5000\n",
      "Epoch 49/100\n",
      "500/500 [==============================] - 4s 8ms/step - loss: 0.3793 - accuracy: 0.8690 - val_loss: 1.0851 - val_accuracy: 0.5500\n",
      "Epoch 50/100\n",
      "500/500 [==============================] - 4s 8ms/step - loss: 0.3773 - accuracy: 0.8690 - val_loss: 1.1120 - val_accuracy: 0.4750\n",
      "Epoch 51/100\n",
      "500/500 [==============================] - 4s 8ms/step - loss: 0.3707 - accuracy: 0.8685 - val_loss: 1.1724 - val_accuracy: 0.5000\n",
      "Epoch 52/100\n",
      "500/500 [==============================] - 4s 8ms/step - loss: 0.3661 - accuracy: 0.8685 - val_loss: 1.1429 - val_accuracy: 0.5250\n",
      "Epoch 53/100\n",
      "500/500 [==============================] - 4s 8ms/step - loss: 0.3540 - accuracy: 0.8733 - val_loss: 1.1280 - val_accuracy: 0.4750\n",
      "Epoch 54/100\n",
      "500/500 [==============================] - 4s 8ms/step - loss: 0.3386 - accuracy: 0.8802 - val_loss: 1.1640 - val_accuracy: 0.5000\n",
      "Epoch 55/100\n",
      "500/500 [==============================] - 4s 8ms/step - loss: 0.3543 - accuracy: 0.8777 - val_loss: 1.0907 - val_accuracy: 0.5250\n",
      "Epoch 56/100\n",
      "500/500 [==============================] - 4s 8ms/step - loss: 0.3310 - accuracy: 0.8817 - val_loss: 1.2149 - val_accuracy: 0.4750\n",
      "Epoch 57/100\n",
      "500/500 [==============================] - 4s 8ms/step - loss: 0.3266 - accuracy: 0.8848 - val_loss: 1.1972 - val_accuracy: 0.4500\n",
      "Epoch 58/100\n",
      "500/500 [==============================] - 4s 8ms/step - loss: 0.3248 - accuracy: 0.8845 - val_loss: 1.3129 - val_accuracy: 0.5500\n",
      "Epoch 59/100\n",
      "500/500 [==============================] - 4s 8ms/step - loss: 0.3167 - accuracy: 0.8857 - val_loss: 1.0748 - val_accuracy: 0.5000\n",
      "Epoch 60/100\n",
      "500/500 [==============================] - 4s 8ms/step - loss: 0.3024 - accuracy: 0.8907 - val_loss: 1.1134 - val_accuracy: 0.4750\n",
      "Epoch 61/100\n",
      "500/500 [==============================] - 4s 8ms/step - loss: 0.3086 - accuracy: 0.8903 - val_loss: 1.1655 - val_accuracy: 0.4750\n",
      "Epoch 62/100\n",
      "500/500 [==============================] - 4s 8ms/step - loss: 0.3051 - accuracy: 0.8930 - val_loss: 1.1942 - val_accuracy: 0.5500\n",
      "Epoch 63/100\n",
      "500/500 [==============================] - 4s 8ms/step - loss: 0.2928 - accuracy: 0.8910 - val_loss: 1.2081 - val_accuracy: 0.5500\n",
      "Epoch 64/100\n",
      "500/500 [==============================] - 4s 8ms/step - loss: 0.2874 - accuracy: 0.8972 - val_loss: 1.2958 - val_accuracy: 0.5000\n",
      "Epoch 65/100\n",
      "500/500 [==============================] - 4s 8ms/step - loss: 0.2905 - accuracy: 0.8930 - val_loss: 1.2079 - val_accuracy: 0.5250\n",
      "Epoch 66/100\n",
      "500/500 [==============================] - 4s 8ms/step - loss: 0.2726 - accuracy: 0.8985 - val_loss: 1.2396 - val_accuracy: 0.5250\n",
      "Epoch 67/100\n",
      "500/500 [==============================] - 4s 8ms/step - loss: 0.2703 - accuracy: 0.9057 - val_loss: 1.3035 - val_accuracy: 0.4750\n",
      "Epoch 68/100\n",
      "500/500 [==============================] - 4s 8ms/step - loss: 0.2703 - accuracy: 0.9015 - val_loss: 1.1958 - val_accuracy: 0.5500\n",
      "Epoch 69/100\n",
      "500/500 [==============================] - 4s 8ms/step - loss: 0.2680 - accuracy: 0.9018 - val_loss: 1.2410 - val_accuracy: 0.5000\n",
      "Epoch 70/100\n",
      "500/500 [==============================] - 4s 8ms/step - loss: 0.2642 - accuracy: 0.9068 - val_loss: 1.3768 - val_accuracy: 0.5000\n",
      "Epoch 71/100\n",
      "500/500 [==============================] - 4s 8ms/step - loss: 0.2526 - accuracy: 0.9078 - val_loss: 1.3457 - val_accuracy: 0.4250\n",
      "Epoch 72/100\n",
      "500/500 [==============================] - 4s 8ms/step - loss: 0.2506 - accuracy: 0.9070 - val_loss: 1.1787 - val_accuracy: 0.4750\n",
      "Epoch 73/100\n",
      "500/500 [==============================] - 4s 8ms/step - loss: 0.2406 - accuracy: 0.9197 - val_loss: 1.3110 - val_accuracy: 0.5000\n",
      "Epoch 74/100\n",
      "500/500 [==============================] - 4s 8ms/step - loss: 0.2464 - accuracy: 0.9105 - val_loss: 1.2577 - val_accuracy: 0.5000\n",
      "Epoch 75/100\n",
      "500/500 [==============================] - 4s 8ms/step - loss: 0.2281 - accuracy: 0.9185 - val_loss: 1.4877 - val_accuracy: 0.4750\n",
      "Epoch 76/100\n",
      "500/500 [==============================] - 4s 8ms/step - loss: 0.2274 - accuracy: 0.9180 - val_loss: 1.2199 - val_accuracy: 0.5000\n",
      "Epoch 77/100\n",
      "500/500 [==============================] - 4s 8ms/step - loss: 0.2282 - accuracy: 0.9195 - val_loss: 1.3029 - val_accuracy: 0.5000\n",
      "Epoch 78/100\n",
      "500/500 [==============================] - 4s 8ms/step - loss: 0.2202 - accuracy: 0.9202 - val_loss: 1.2682 - val_accuracy: 0.5250\n",
      "Epoch 79/100\n",
      "500/500 [==============================] - 4s 8ms/step - loss: 0.2139 - accuracy: 0.9220 - val_loss: 1.2091 - val_accuracy: 0.5500\n",
      "Epoch 80/100\n",
      "500/500 [==============================] - 4s 8ms/step - loss: 0.2239 - accuracy: 0.9215 - val_loss: 1.2576 - val_accuracy: 0.5500\n",
      "Epoch 81/100\n",
      "500/500 [==============================] - 4s 8ms/step - loss: 0.2253 - accuracy: 0.9200 - val_loss: 1.3447 - val_accuracy: 0.4750\n",
      "Epoch 82/100\n",
      "500/500 [==============================] - 4s 8ms/step - loss: 0.2074 - accuracy: 0.9275 - val_loss: 1.4062 - val_accuracy: 0.5000\n",
      "Epoch 83/100\n",
      "500/500 [==============================] - 4s 8ms/step - loss: 0.2163 - accuracy: 0.9208 - val_loss: 1.6027 - val_accuracy: 0.4750\n",
      "Epoch 84/100\n",
      "500/500 [==============================] - 4s 9ms/step - loss: 0.2138 - accuracy: 0.9237 - val_loss: 1.3108 - val_accuracy: 0.4750\n",
      "Epoch 85/100\n",
      "500/500 [==============================] - 4s 8ms/step - loss: 0.2095 - accuracy: 0.9273 - val_loss: 1.3618 - val_accuracy: 0.5250\n",
      "Epoch 86/100\n",
      "500/500 [==============================] - 4s 8ms/step - loss: 0.1994 - accuracy: 0.9302 - val_loss: 1.5191 - val_accuracy: 0.4500\n",
      "Epoch 87/100\n",
      "500/500 [==============================] - 4s 9ms/step - loss: 0.1958 - accuracy: 0.9310 - val_loss: 1.2315 - val_accuracy: 0.5250\n",
      "Epoch 88/100\n",
      "500/500 [==============================] - 4s 9ms/step - loss: 0.1872 - accuracy: 0.9352 - val_loss: 1.4182 - val_accuracy: 0.5250\n",
      "Epoch 89/100\n",
      "500/500 [==============================] - 4s 9ms/step - loss: 0.2017 - accuracy: 0.9335 - val_loss: 1.3250 - val_accuracy: 0.4750\n",
      "Epoch 90/100\n",
      "500/500 [==============================] - 4s 8ms/step - loss: 0.2002 - accuracy: 0.9260 - val_loss: 1.3521 - val_accuracy: 0.4750\n",
      "Epoch 91/100\n",
      "500/500 [==============================] - 4s 9ms/step - loss: 0.1847 - accuracy: 0.9310 - val_loss: 1.3812 - val_accuracy: 0.4750\n",
      "Epoch 92/100\n",
      "500/500 [==============================] - 4s 8ms/step - loss: 0.1881 - accuracy: 0.9333 - val_loss: 1.3636 - val_accuracy: 0.4750\n",
      "Epoch 93/100\n",
      "500/500 [==============================] - 4s 8ms/step - loss: 0.1823 - accuracy: 0.9340 - val_loss: 1.4621 - val_accuracy: 0.4500\n",
      "Epoch 94/100\n",
      "500/500 [==============================] - 4s 8ms/step - loss: 0.1793 - accuracy: 0.9405 - val_loss: 1.3414 - val_accuracy: 0.4750\n",
      "Epoch 95/100\n",
      "500/500 [==============================] - 4s 8ms/step - loss: 0.1798 - accuracy: 0.9377 - val_loss: 1.2469 - val_accuracy: 0.5000\n",
      "Epoch 96/100\n",
      "500/500 [==============================] - 4s 8ms/step - loss: 0.1780 - accuracy: 0.9365 - val_loss: 1.4266 - val_accuracy: 0.4750\n",
      "Epoch 97/100\n",
      "500/500 [==============================] - 4s 8ms/step - loss: 0.1725 - accuracy: 0.9383 - val_loss: 1.5628 - val_accuracy: 0.5000\n",
      "Epoch 98/100\n",
      "500/500 [==============================] - 4s 8ms/step - loss: 0.1762 - accuracy: 0.9352 - val_loss: 1.4888 - val_accuracy: 0.4750\n",
      "Epoch 99/100\n",
      "500/500 [==============================] - 4s 8ms/step - loss: 0.1715 - accuracy: 0.9392 - val_loss: 1.3783 - val_accuracy: 0.4500\n",
      "Epoch 100/100\n",
      "WARNING:tensorflow:Your input ran out of data; interrupting training. Make sure that your dataset or generator can generate at least `steps_per_epoch * epochs` batches (in this case, 50000 batches). You may need to use the repeat() function when building your dataset.\n",
      "500/500 [==============================] - 2s 3ms/step - loss: 0.1715 - accuracy: 0.9392 - val_loss: 1.3783 - val_accuracy: 0.4500\n"
     ]
    },
    {
     "data": {
      "text/plain": [
       "<keras.callbacks.History at 0x201d251a790>"
      ]
     },
     "execution_count": 6,
     "metadata": {},
     "output_type": "execute_result"
    }
   ],
   "source": [
    "model = keras.Sequential([\n",
    "    keras.layers.Dense(input_shape = feature_train[0].shape, units=32, activation='relu'),\n",
    "    keras.layers.Dropout(0.5),\n",
    "    keras.layers.Dense(units=6, activation='softmax')\n",
    "    \n",
    "    \n",
    "])\n",
    "print(model.summary())\n",
    "model.compile(optimizer='adamax', \n",
    "              loss=tf.losses.CategoricalCrossentropy(),\n",
    "              metrics=['accuracy'])\n",
    "model.fit(np.asarray(feature_train), np.asarray(y2_train), epochs = 100, steps_per_epoch = 500, validation_split=0.01)"
   ]
  },
  {
   "cell_type": "code",
   "execution_count": 7,
   "metadata": {},
   "outputs": [
    {
     "name": "stdout",
     "output_type": "stream",
     "text": [
      "AxesSubplot(0.125,0.125;0.62x0.755)\n",
      "ACCURACY SCORE:\n",
      "0.5225\n",
      "CLASSIFICATION REPORT:\n",
      "\tPrecision: 0.5247\n",
      "\tRecall: 0.5267\n",
      "\tF1_Score: 0.5236\n"
     ]
    },
    {
     "data": {
      "image/png": "[encoded data removed]",
      "text/plain": [
       "<Figure size 432x288 with 2 Axes>"
      ]
     },
     "metadata": {
      "needs_background": "light"
     },
     "output_type": "display_data"
    }
   ],
   "source": [
    "pred_train=model.predict(feature_test)\n",
    "prediction_keras_train= []\n",
    "for i in pred_train:\n",
    "    prediction_keras_train.append(np.argmax(i))\n",
    "\n",
    "\n",
    "reverse={0:\"A1\", 1:\"A2\", 2:\"B1\",3:\"B2\",4:\"C1\", 5:\"C2\"}\n",
    "\n",
    "reversed_list_train=[reverse[k] for k in prediction_keras_train]\n",
    "\n",
    "evaluate(y1_test, prediction_keras_train)"
   ]
  },
  {
   "cell_type": "code",
   "execution_count": 4,
   "metadata": {},
   "outputs": [],
   "source": [
    "unlabelled = get_dataset.get_unlabelled_data()\n",
    "\n",
    "unlabelled_feature1=type_counter_unlabelled(data, unlabelled)\n",
    "print(\"Feature 1 is done computing\")\n",
    "unlabelled_feature2=vectorizer(unlabelled)\n",
    "print(\"Feature 2 is done computing\")\n",
    "unlabelled_feature3=word_len_counter(unlabelled)\n",
    "print(\"Feature 3 is done computing\")\n",
    "unlabelled_feature4=sk_vec_unlabelled(data,unlabelled)\n",
    "print(\"Feature 3 is done computing\")\n",
    "\n",
    "unlabelled_feature = np.concatenate((unlabelled_feature1, unlabelled_feature2),axis = 1)\n",
    "unlabelled_feature = np.concatenate((unlabelled_feature, unlabelled_feature3), axis = 1)\n",
    "unlabelled_feature = np.concatenate((unlabelled_feature, unlabelled_feature4), axis = 1)\n",
    "print(\"Features ready to be used\")"
   ]
  },
  {
   "cell_type": "code",
   "execution_count": 8,
   "metadata": {},
   "outputs": [
    {
     "name": "stdout",
     "output_type": "stream",
     "text": [
      "Model: \"sequential\"\n",
      "_________________________________________________________________\n",
      " Layer (type)                Output Shape              Param #   \n",
      "=================================================================\n",
      " dense (Dense)               (None, 32)                2171264   \n",
      "                                                                 \n",
      " dropout (Dropout)           (None, 32)                0         \n",
      "                                                                 \n",
      " dense_1 (Dense)             (None, 6)                 198       \n",
      "                                                                 \n",
      "=================================================================\n",
      "Total params: 2,171,462\n",
      "Trainable params: 2,171,462\n",
      "Non-trainable params: 0\n",
      "_________________________________________________________________\n",
      "None\n",
      "Epoch 1/100\n",
      "500/500 [==============================] - 4s 8ms/step - loss: 1.6102 - accuracy: 0.2841 - val_loss: 1.5323 - val_accuracy: 0.2708\n",
      "Epoch 2/100\n",
      "500/500 [==============================] - 4s 8ms/step - loss: 1.5006 - accuracy: 0.3435 - val_loss: 1.4330 - val_accuracy: 0.3125\n",
      "Epoch 3/100\n",
      "500/500 [==============================] - 4s 8ms/step - loss: 1.4269 - accuracy: 0.3742 - val_loss: 1.3656 - val_accuracy: 0.5000\n",
      "Epoch 4/100\n",
      "500/500 [==============================] - 4s 8ms/step - loss: 1.3932 - accuracy: 0.3838 - val_loss: 1.3346 - val_accuracy: 0.4167\n",
      "Epoch 5/100\n",
      "500/500 [==============================] - 4s 8ms/step - loss: 1.3540 - accuracy: 0.3992 - val_loss: 1.3314 - val_accuracy: 0.5417\n",
      "Epoch 6/100\n",
      "500/500 [==============================] - 4s 8ms/step - loss: 1.3253 - accuracy: 0.4103 - val_loss: 1.2533 - val_accuracy: 0.4792\n",
      "Epoch 7/100\n",
      "500/500 [==============================] - 4s 8ms/step - loss: 1.3049 - accuracy: 0.4225 - val_loss: 1.2278 - val_accuracy: 0.4375\n",
      "Epoch 8/100\n",
      "500/500 [==============================] - 4s 9ms/step - loss: 1.2639 - accuracy: 0.4403 - val_loss: 1.2079 - val_accuracy: 0.4583\n",
      "Epoch 9/100\n",
      "500/500 [==============================] - 4s 8ms/step - loss: 1.2655 - accuracy: 0.4475 - val_loss: 1.2333 - val_accuracy: 0.4375\n",
      "Epoch 10/100\n",
      "500/500 [==============================] - 4s 9ms/step - loss: 1.2231 - accuracy: 0.4643 - val_loss: 1.1941 - val_accuracy: 0.5417\n",
      "Epoch 11/100\n",
      "500/500 [==============================] - 4s 9ms/step - loss: 1.2123 - accuracy: 0.4657 - val_loss: 1.1889 - val_accuracy: 0.4792\n",
      "Epoch 12/100\n",
      "500/500 [==============================] - 5s 9ms/step - loss: 1.1939 - accuracy: 0.4756 - val_loss: 1.1490 - val_accuracy: 0.5000\n",
      "Epoch 13/100\n",
      "500/500 [==============================] - 4s 8ms/step - loss: 1.1717 - accuracy: 0.4930 - val_loss: 1.1783 - val_accuracy: 0.5000\n",
      "Epoch 14/100\n",
      "500/500 [==============================] - 4s 8ms/step - loss: 1.1476 - accuracy: 0.5100 - val_loss: 1.1724 - val_accuracy: 0.4167\n",
      "Epoch 15/100\n",
      "500/500 [==============================] - 4s 8ms/step - loss: 1.1249 - accuracy: 0.5166 - val_loss: 1.1483 - val_accuracy: 0.5208\n",
      "Epoch 16/100\n",
      "500/500 [==============================] - 4s 8ms/step - loss: 1.1174 - accuracy: 0.5266 - val_loss: 1.1690 - val_accuracy: 0.5000\n",
      "Epoch 17/100\n",
      "500/500 [==============================] - 4s 8ms/step - loss: 1.0916 - accuracy: 0.5367 - val_loss: 1.1906 - val_accuracy: 0.4167\n",
      "Epoch 18/100\n",
      "500/500 [==============================] - 4s 9ms/step - loss: 1.0639 - accuracy: 0.5495 - val_loss: 1.1863 - val_accuracy: 0.4375\n",
      "Epoch 19/100\n",
      "500/500 [==============================] - 4s 9ms/step - loss: 1.0672 - accuracy: 0.5477 - val_loss: 1.1635 - val_accuracy: 0.4167\n",
      "Epoch 20/100\n",
      "500/500 [==============================] - 4s 8ms/step - loss: 1.0439 - accuracy: 0.5528 - val_loss: 1.1588 - val_accuracy: 0.5208\n",
      "Epoch 21/100\n",
      "500/500 [==============================] - 4s 8ms/step - loss: 1.0087 - accuracy: 0.5739 - val_loss: 1.1558 - val_accuracy: 0.4792\n",
      "Epoch 22/100\n",
      "500/500 [==============================] - 4s 9ms/step - loss: 1.0049 - accuracy: 0.5857 - val_loss: 1.1369 - val_accuracy: 0.4583\n",
      "Epoch 23/100\n",
      "500/500 [==============================] - 4s 8ms/step - loss: 0.9765 - accuracy: 0.5982 - val_loss: 1.1570 - val_accuracy: 0.4375\n",
      "Epoch 24/100\n",
      "500/500 [==============================] - 4s 8ms/step - loss: 0.9708 - accuracy: 0.5954 - val_loss: 1.1160 - val_accuracy: 0.5417\n",
      "Epoch 25/100\n",
      "500/500 [==============================] - 4s 8ms/step - loss: 0.9645 - accuracy: 0.6054 - val_loss: 1.1092 - val_accuracy: 0.4792\n",
      "Epoch 26/100\n",
      "500/500 [==============================] - 4s 8ms/step - loss: 0.9158 - accuracy: 0.6222 - val_loss: 1.1155 - val_accuracy: 0.5208\n",
      "Epoch 27/100\n",
      "500/500 [==============================] - 4s 8ms/step - loss: 0.9215 - accuracy: 0.6188 - val_loss: 1.1379 - val_accuracy: 0.5208\n",
      "Epoch 28/100\n",
      "500/500 [==============================] - 4s 8ms/step - loss: 0.9044 - accuracy: 0.6284 - val_loss: 1.1088 - val_accuracy: 0.4375\n",
      "Epoch 29/100\n",
      "500/500 [==============================] - 4s 8ms/step - loss: 0.8902 - accuracy: 0.6312 - val_loss: 1.1554 - val_accuracy: 0.3750\n",
      "Epoch 30/100\n",
      "500/500 [==============================] - 4s 8ms/step - loss: 0.8824 - accuracy: 0.6412 - val_loss: 1.1129 - val_accuracy: 0.5000\n",
      "Epoch 31/100\n",
      "500/500 [==============================] - 4s 9ms/step - loss: 0.8500 - accuracy: 0.6536 - val_loss: 1.1421 - val_accuracy: 0.5208\n",
      "Epoch 32/100\n",
      "500/500 [==============================] - 4s 8ms/step - loss: 0.8334 - accuracy: 0.6673 - val_loss: 1.1672 - val_accuracy: 0.5000\n",
      "Epoch 33/100\n",
      "500/500 [==============================] - 4s 8ms/step - loss: 0.8279 - accuracy: 0.6609 - val_loss: 1.1402 - val_accuracy: 0.5000\n",
      "Epoch 34/100\n",
      "500/500 [==============================] - 4s 8ms/step - loss: 0.8058 - accuracy: 0.6795 - val_loss: 1.1161 - val_accuracy: 0.5417\n",
      "Epoch 35/100\n",
      "500/500 [==============================] - 4s 9ms/step - loss: 0.7897 - accuracy: 0.6845 - val_loss: 1.1262 - val_accuracy: 0.4792\n",
      "Epoch 36/100\n",
      "500/500 [==============================] - 4s 8ms/step - loss: 0.7702 - accuracy: 0.6903 - val_loss: 1.1549 - val_accuracy: 0.5000\n",
      "Epoch 37/100\n",
      "500/500 [==============================] - 4s 8ms/step - loss: 0.7680 - accuracy: 0.7019 - val_loss: 1.1201 - val_accuracy: 0.4375\n",
      "Epoch 38/100\n",
      "500/500 [==============================] - 4s 8ms/step - loss: 0.7556 - accuracy: 0.7069 - val_loss: 1.1424 - val_accuracy: 0.5000\n",
      "Epoch 39/100\n",
      "500/500 [==============================] - 4s 8ms/step - loss: 0.7399 - accuracy: 0.7133 - val_loss: 1.1346 - val_accuracy: 0.5417\n",
      "Epoch 40/100\n",
      "500/500 [==============================] - 4s 8ms/step - loss: 0.7285 - accuracy: 0.7151 - val_loss: 1.1760 - val_accuracy: 0.4583\n",
      "Epoch 41/100\n",
      "500/500 [==============================] - 4s 8ms/step - loss: 0.7430 - accuracy: 0.7025 - val_loss: 1.1469 - val_accuracy: 0.5208\n",
      "Epoch 42/100\n",
      "500/500 [==============================] - 4s 8ms/step - loss: 0.6950 - accuracy: 0.7240 - val_loss: 1.1621 - val_accuracy: 0.5000\n",
      "Epoch 43/100\n",
      "500/500 [==============================] - 4s 8ms/step - loss: 0.6896 - accuracy: 0.7306 - val_loss: 1.2078 - val_accuracy: 0.4583\n",
      "Epoch 44/100\n",
      "500/500 [==============================] - 4s 8ms/step - loss: 0.6748 - accuracy: 0.7386 - val_loss: 1.1724 - val_accuracy: 0.4792\n",
      "Epoch 45/100\n",
      "500/500 [==============================] - 4s 8ms/step - loss: 0.6674 - accuracy: 0.7414 - val_loss: 1.2345 - val_accuracy: 0.4583\n",
      "Epoch 46/100\n",
      "500/500 [==============================] - 4s 8ms/step - loss: 0.6407 - accuracy: 0.7502 - val_loss: 1.1869 - val_accuracy: 0.5208\n",
      "Epoch 47/100\n",
      "500/500 [==============================] - 4s 8ms/step - loss: 0.6492 - accuracy: 0.7450 - val_loss: 1.1877 - val_accuracy: 0.4792\n",
      "Epoch 48/100\n",
      "500/500 [==============================] - 4s 8ms/step - loss: 0.6236 - accuracy: 0.7570 - val_loss: 1.2101 - val_accuracy: 0.5000\n",
      "Epoch 49/100\n",
      "500/500 [==============================] - 4s 8ms/step - loss: 0.6350 - accuracy: 0.7504 - val_loss: 1.2218 - val_accuracy: 0.5208\n",
      "Epoch 50/100\n",
      "500/500 [==============================] - 4s 8ms/step - loss: 0.6098 - accuracy: 0.7598 - val_loss: 1.2142 - val_accuracy: 0.5417\n",
      "Epoch 51/100\n",
      "500/500 [==============================] - 4s 8ms/step - loss: 0.5966 - accuracy: 0.7654 - val_loss: 1.2469 - val_accuracy: 0.5208\n",
      "Epoch 52/100\n",
      "500/500 [==============================] - 4s 8ms/step - loss: 0.6004 - accuracy: 0.7656 - val_loss: 1.2502 - val_accuracy: 0.5000\n",
      "Epoch 53/100\n",
      "500/500 [==============================] - 4s 8ms/step - loss: 0.5802 - accuracy: 0.7720 - val_loss: 1.2672 - val_accuracy: 0.5208\n",
      "Epoch 54/100\n",
      "500/500 [==============================] - 4s 8ms/step - loss: 0.5869 - accuracy: 0.7678 - val_loss: 1.2523 - val_accuracy: 0.5000\n",
      "Epoch 55/100\n",
      "500/500 [==============================] - 4s 8ms/step - loss: 0.5638 - accuracy: 0.7889 - val_loss: 1.3110 - val_accuracy: 0.4792\n",
      "Epoch 56/100\n",
      "500/500 [==============================] - 4s 8ms/step - loss: 0.5663 - accuracy: 0.7810 - val_loss: 1.3110 - val_accuracy: 0.5625\n",
      "Epoch 57/100\n",
      "500/500 [==============================] - 4s 8ms/step - loss: 0.5537 - accuracy: 0.7909 - val_loss: 1.2878 - val_accuracy: 0.5208\n",
      "Epoch 58/100\n",
      "500/500 [==============================] - 4s 8ms/step - loss: 0.5402 - accuracy: 0.7953 - val_loss: 1.2687 - val_accuracy: 0.5833\n",
      "Epoch 59/100\n",
      "500/500 [==============================] - 4s 8ms/step - loss: 0.5410 - accuracy: 0.7957 - val_loss: 1.3093 - val_accuracy: 0.5000\n",
      "Epoch 60/100\n",
      "500/500 [==============================] - 4s 8ms/step - loss: 0.5330 - accuracy: 0.7967 - val_loss: 1.3420 - val_accuracy: 0.5417\n",
      "Epoch 61/100\n",
      "500/500 [==============================] - 4s 8ms/step - loss: 0.5251 - accuracy: 0.7993 - val_loss: 1.3127 - val_accuracy: 0.5208\n",
      "Epoch 62/100\n",
      "500/500 [==============================] - 4s 8ms/step - loss: 0.5190 - accuracy: 0.7975 - val_loss: 1.3111 - val_accuracy: 0.4167\n",
      "Epoch 63/100\n",
      "500/500 [==============================] - 4s 8ms/step - loss: 0.5236 - accuracy: 0.7953 - val_loss: 1.3569 - val_accuracy: 0.4792\n",
      "Epoch 64/100\n",
      "500/500 [==============================] - 4s 8ms/step - loss: 0.4922 - accuracy: 0.8101 - val_loss: 1.3184 - val_accuracy: 0.4583\n",
      "Epoch 65/100\n",
      "500/500 [==============================] - 4s 8ms/step - loss: 0.5111 - accuracy: 0.8099 - val_loss: 1.3225 - val_accuracy: 0.5417\n",
      "Epoch 66/100\n",
      "500/500 [==============================] - 4s 8ms/step - loss: 0.4868 - accuracy: 0.8125 - val_loss: 1.3427 - val_accuracy: 0.5417\n",
      "Epoch 67/100\n",
      "500/500 [==============================] - 4s 9ms/step - loss: 0.4936 - accuracy: 0.8127 - val_loss: 1.3770 - val_accuracy: 0.5625\n",
      "Epoch 68/100\n",
      "500/500 [==============================] - 4s 8ms/step - loss: 0.4933 - accuracy: 0.8131 - val_loss: 1.3902 - val_accuracy: 0.5625\n",
      "Epoch 69/100\n",
      "500/500 [==============================] - 4s 8ms/step - loss: 0.4773 - accuracy: 0.8133 - val_loss: 1.3577 - val_accuracy: 0.5208\n",
      "Epoch 70/100\n",
      "500/500 [==============================] - 4s 8ms/step - loss: 0.4610 - accuracy: 0.8237 - val_loss: 1.4074 - val_accuracy: 0.5417\n",
      "Epoch 71/100\n",
      "500/500 [==============================] - 4s 9ms/step - loss: 0.4755 - accuracy: 0.8153 - val_loss: 1.3978 - val_accuracy: 0.5000\n",
      "Epoch 72/100\n",
      "500/500 [==============================] - 4s 8ms/step - loss: 0.4470 - accuracy: 0.8325 - val_loss: 1.4141 - val_accuracy: 0.5208\n",
      "Epoch 73/100\n",
      "500/500 [==============================] - 4s 8ms/step - loss: 0.4550 - accuracy: 0.8319 - val_loss: 1.4820 - val_accuracy: 0.4792\n",
      "Epoch 74/100\n",
      "500/500 [==============================] - 4s 8ms/step - loss: 0.4340 - accuracy: 0.8355 - val_loss: 1.4591 - val_accuracy: 0.4583\n",
      "Epoch 75/100\n",
      "500/500 [==============================] - 4s 8ms/step - loss: 0.4458 - accuracy: 0.8333 - val_loss: 1.5045 - val_accuracy: 0.4583\n",
      "Epoch 76/100\n",
      "500/500 [==============================] - 4s 8ms/step - loss: 0.4413 - accuracy: 0.8331 - val_loss: 1.4818 - val_accuracy: 0.5208\n",
      "Epoch 77/100\n",
      "500/500 [==============================] - 4s 8ms/step - loss: 0.4319 - accuracy: 0.8375 - val_loss: 1.4728 - val_accuracy: 0.5000\n",
      "Epoch 78/100\n",
      "500/500 [==============================] - 4s 9ms/step - loss: 0.4106 - accuracy: 0.8460 - val_loss: 1.4291 - val_accuracy: 0.5208\n",
      "Epoch 79/100\n",
      "500/500 [==============================] - 4s 8ms/step - loss: 0.4114 - accuracy: 0.8508 - val_loss: 1.4670 - val_accuracy: 0.5625\n",
      "Epoch 80/100\n",
      "500/500 [==============================] - 4s 8ms/step - loss: 0.4121 - accuracy: 0.8435 - val_loss: 1.5085 - val_accuracy: 0.4792\n",
      "Epoch 81/100\n",
      "500/500 [==============================] - 4s 8ms/step - loss: 0.4115 - accuracy: 0.8484 - val_loss: 1.4760 - val_accuracy: 0.5208\n",
      "Epoch 82/100\n",
      "500/500 [==============================] - 4s 7ms/step - loss: 0.3958 - accuracy: 0.8508 - val_loss: 1.4689 - val_accuracy: 0.5208\n",
      "Epoch 83/100\n",
      "500/500 [==============================] - 4s 8ms/step - loss: 0.3942 - accuracy: 0.8530 - val_loss: 1.5719 - val_accuracy: 0.5000\n",
      "Epoch 84/100\n",
      "500/500 [==============================] - 4s 9ms/step - loss: 0.3885 - accuracy: 0.8552 - val_loss: 1.5557 - val_accuracy: 0.5000\n",
      "Epoch 85/100\n",
      "500/500 [==============================] - 4s 8ms/step - loss: 0.3973 - accuracy: 0.8500 - val_loss: 1.5540 - val_accuracy: 0.5208\n",
      "Epoch 86/100\n",
      "500/500 [==============================] - 4s 8ms/step - loss: 0.3855 - accuracy: 0.8490 - val_loss: 1.5109 - val_accuracy: 0.5417\n",
      "Epoch 87/100\n",
      "500/500 [==============================] - 4s 8ms/step - loss: 0.3876 - accuracy: 0.8532 - val_loss: 1.5815 - val_accuracy: 0.4375\n",
      "Epoch 88/100\n",
      "500/500 [==============================] - 4s 9ms/step - loss: 0.3877 - accuracy: 0.8572 - val_loss: 1.5155 - val_accuracy: 0.5208\n",
      "Epoch 89/100\n",
      "500/500 [==============================] - 4s 8ms/step - loss: 0.3612 - accuracy: 0.8676 - val_loss: 1.5353 - val_accuracy: 0.5000\n",
      "Epoch 90/100\n",
      "500/500 [==============================] - 4s 9ms/step - loss: 0.3584 - accuracy: 0.8616 - val_loss: 1.5793 - val_accuracy: 0.5208\n",
      "Epoch 91/100\n",
      "500/500 [==============================] - 5s 9ms/step - loss: 0.3628 - accuracy: 0.8682 - val_loss: 1.6049 - val_accuracy: 0.5000\n",
      "Epoch 92/100\n",
      "500/500 [==============================] - 4s 8ms/step - loss: 0.3653 - accuracy: 0.8684 - val_loss: 1.5914 - val_accuracy: 0.5625\n",
      "Epoch 93/100\n",
      "500/500 [==============================] - 4s 8ms/step - loss: 0.3700 - accuracy: 0.8634 - val_loss: 1.5810 - val_accuracy: 0.5000\n",
      "Epoch 94/100\n",
      "500/500 [==============================] - 4s 8ms/step - loss: 0.3623 - accuracy: 0.8672 - val_loss: 1.5918 - val_accuracy: 0.5000\n",
      "Epoch 95/100\n",
      "500/500 [==============================] - 4s 8ms/step - loss: 0.3556 - accuracy: 0.8754 - val_loss: 1.6365 - val_accuracy: 0.6042\n",
      "Epoch 96/100\n",
      " 99/500 [====>.........................] - ETA: 3s - loss: 0.3467 - accuracy: 0.8707WARNING:tensorflow:Your input ran out of data; interrupting training. Make sure that your dataset or generator can generate at least `steps_per_epoch * epochs` batches (in this case, 50000 batches). You may need to use the repeat() function when building your dataset.\n",
      "500/500 [==============================] - 1s 2ms/step - loss: 0.3460 - accuracy: 0.8710 - val_loss: 1.6607 - val_accuracy: 0.4792\n"
     ]
    },
    {
     "data": {
      "text/plain": [
       "<keras.callbacks.History at 0x284c61d95e0>"
      ]
     },
     "execution_count": 8,
     "metadata": {},
     "output_type": "execute_result"
    }
   ],
   "source": [
    "model = keras.Sequential([\n",
    "    keras.layers.Dense(input_shape = feature[0].shape, units=32, activation='relu'),\n",
    "    keras.layers.Dropout(0.5),\n",
    "    keras.layers.Dense(units=6, activation='softmax'),\n",
    " \n",
    "])\n",
    "print(model.summary())\n",
    "model.compile(optimizer='adamax', \n",
    "              loss=tf.losses.CategoricalCrossentropy(),\n",
    "              metrics=['accuracy'])\n",
    "model.fit(np.asarray(feature), np.asarray(y2), epochs = 100, steps_per_epoch = 500, validation_split=0.01)"
   ]
  },
  {
   "cell_type": "code",
   "execution_count": 9,
   "metadata": {},
   "outputs": [
    {
     "name": "stdout",
     "output_type": "stream",
     "text": [
      "['C2', 'B1', 'A1', 'A1', 'C2', 'C2', 'A2', 'A2', 'C2', 'A2', 'A1', 'A2', 'B2', 'C1', 'A1', 'A2', 'C2', 'A1', 'B1', 'A1', 'C2', 'A1', 'B2', 'C1', 'C1', 'C2', 'A1', 'A1', 'C2', 'B1', 'A2', 'A2', 'A2', 'A1', 'A2', 'B1', 'C1', 'B2', 'A1', 'A1', 'A2', 'B2', 'C2', 'C1', 'C1', 'C2', 'B2', 'C1', 'A1', 'A1', 'C1', 'A1', 'C1', 'A1', 'A1', 'C1', 'C1', 'B1', 'C1', 'B1', 'B2', 'A2', 'C2', 'C1', 'C2', 'B2', 'B1', 'A2', 'B1', 'C2', 'A1', 'C1', 'B2', 'B1', 'C1', 'A2', 'A1', 'C1', 'B1', 'B2', 'A2', 'A1', 'B1', 'B1', 'A1', 'C2', 'B1', 'B2', 'B2', 'B1', 'C2', 'A2', 'C1', 'C2', 'B1', 'A2', 'A1', 'A2', 'B1', 'C2', 'B1', 'B2', 'A1', 'A2', 'C2', 'C2', 'B2', 'A1', 'A2', 'C1', 'B2', 'A1', 'C1', 'C1', 'C2', 'B1', 'C1', 'B1', 'A2', 'B2', 'A1', 'B1', 'B1', 'C2', 'A2', 'C2', 'C1', 'C1', 'C1', 'C1', 'A1', 'A2', 'C1', 'C2', 'C2', 'C2', 'A2', 'C2', 'B1', 'B1', 'A1', 'C1', 'C2', 'C2', 'C1', 'C1', 'A1', 'C2', 'C2', 'C1', 'B2', 'B1', 'A1', 'A2', 'A2', 'C2', 'C1', 'A1', 'A1', 'A1', 'A2', 'A1', 'B2', 'B2', 'C2', 'C1', 'A1', 'A1', 'B1', 'C1', 'A1', 'C2', 'A1', 'B1', 'B1', 'C1', 'C1', 'C2', 'B1', 'C2', 'A2', 'C2', 'B2', 'B1', 'B2', 'A1', 'A2', 'B1', 'C2', 'C2', 'A1', 'B2', 'C1', 'B1', 'B1', 'A2', 'C2', 'A1', 'C2', 'B2', 'B2', 'C2', 'A1', 'A1', 'C1', 'A1', 'A2', 'B1', 'A1', 'A1', 'B1', 'A1', 'A2', 'C1', 'B2', 'C1', 'B2', 'C1', 'B1', 'B1', 'B2', 'C2', 'A1', 'C1', 'A1', 'C1', 'A2', 'B1', 'A2', 'A1', 'C1', 'C2', 'C2', 'A1', 'B1', 'C1', 'C2', 'B1', 'C2', 'C2', 'B1', 'B1', 'A1', 'A2', 'C1', 'A2', 'B2', 'C1', 'A2', 'B2', 'B1', 'B1', 'A1', 'B2', 'C1', 'C2', 'A2', 'A1', 'A1', 'C2', 'A1', 'B1', 'A1', 'A2', 'C1', 'C2', 'B1', 'B1', 'C1', 'C2', 'C2', 'B1', 'B1', 'C1', 'A1', 'C1', 'B2', 'C2', 'C1', 'B2', 'A1', 'C1', 'C2', 'A2', 'A2', 'C2', 'C1', 'C2', 'C1', 'C2', 'C1', 'B1', 'B1', 'B2', 'C2', 'C1', 'B2', 'B1', 'B1', 'A1', 'A2', 'B1', 'C2', 'A1', 'C1', 'A1', 'B2', 'C2', 'C2', 'B1', 'C2', 'B2', 'B2', 'C2', 'C2', 'C2', 'A1', 'C2', 'B1', 'A1', 'C2', 'A1', 'C1', 'C2', 'A1', 'A1', 'C2', 'C1', 'A2', 'B1', 'C1', 'A2', 'A1', 'B2', 'A2', 'A2', 'A2', 'A1', 'C2', 'C2', 'B2', 'A1', 'B1', 'B1', 'C2', 'A2', 'B1', 'C2', 'A1', 'B1', 'C1', 'C2', 'C1', 'B2', 'B2', 'C2', 'B2', 'B1', 'C1', 'C2', 'A2', 'C1', 'C1', 'B1', 'B2', 'C2', 'A2', 'B1', 'A1', 'C2', 'C1', 'A1', 'C2', 'A1', 'C2', 'B1', 'A1', 'B1', 'A2', 'A2', 'A2', 'A1', 'B2', 'B1', 'C2', 'C2', 'C2', 'A1', 'C2', 'B1', 'C2', 'B1', 'A1', 'C2', 'C2', 'C1', 'A2', 'B2', 'B1', 'A1', 'B2', 'A2', 'A1', 'B2', 'A2', 'C1', 'B2', 'A1', 'A1', 'B2', 'C1', 'C1', 'C2', 'C2', 'B2', 'B2', 'B2', 'B2', 'B1', 'A2', 'A1', 'C2', 'B2', 'A1', 'B1', 'B1', 'A2', 'B2', 'B1', 'B1', 'A1', 'A1', 'B2', 'B2', 'A1', 'A1', 'C2', 'C2', 'A1', 'A1', 'B1', 'B1', 'C1', 'B2', 'B1', 'A1', 'B1', 'B1', 'B2', 'B1', 'C2', 'A1', 'A1', 'A2', 'A1', 'A1', 'C2', 'B2', 'A1', 'C2', 'B1', 'B1', 'C2', 'A1', 'A2', 'C1', 'B1', 'A1', 'B2', 'A1', 'A1', 'A1', 'B1', 'A1', 'C2', 'B2', 'C1', 'C1', 'A2', 'B2', 'B2', 'A2', 'A1', 'C1', 'C2', 'C2', 'B1', 'A2', 'C2', 'C1', 'C1', 'A2', 'A1', 'A2', 'C1', 'A1', 'C2', 'C1', 'C2', 'C1', 'B1', 'C1', 'A1', 'C1', 'C2', 'B2', 'A1', 'C1', 'C1', 'A2', 'B2', 'C1', 'B1', 'C1', 'B1', 'C1', 'A1', 'A1', 'B2', 'B2', 'B2', 'C1', 'A2', 'B1', 'A1', 'B1', 'C1', 'A1', 'B1', 'C1', 'C1', 'C2', 'C2', 'C1', 'C2', 'C2', 'A1', 'A1', 'C1', 'C2', 'B1', 'A1', 'A1', 'A1', 'A1', 'C2', 'A1', 'A2', 'B2', 'B1', 'B1', 'A2', 'B1', 'C2', 'C1', 'B2', 'A2', 'C1', 'A2', 'C2', 'B2', 'B1', 'C1', 'A1', 'B2', 'B2', 'A2', 'C1', 'C1', 'B1', 'C2', 'C2', 'B2', 'A1', 'B2', 'B1', 'C1', 'B2', 'A2', 'C2', 'B1', 'A2', 'C2', 'A1', 'B2', 'A2', 'B2', 'B2', 'B1', 'A1', 'A1', 'A1', 'B1', 'A1', 'A1', 'C2', 'B1', 'A2', 'B2', 'C1', 'B2', 'A2', 'A1', 'A1', 'C2', 'B2', 'A1', 'B1', 'A1', 'A2', 'B2', 'B1', 'C2', 'C2', 'B1', 'B2', 'A1', 'B2', 'A1', 'C1', 'C2', 'A2', 'A1', 'A2', 'B2', 'A2', 'A2', 'B1', 'C2', 'A1', 'B1', 'C1', 'B1', 'A1', 'C2', 'A1', 'B1', 'B2', 'B1', 'A1', 'C1', 'A1', 'C1', 'A2', 'B2', 'C2', 'B1', 'B1', 'C1', 'B2', 'B1', 'B1', 'C1', 'C2', 'C1', 'C1', 'A1', 'C2', 'B2', 'B2', 'C1', 'A2', 'A1', 'A2', 'B1', 'A2', 'C2', 'B2', 'B1', 'C2', 'C2', 'B1', 'B1', 'A1', 'A1', 'A1', 'B1', 'B1', 'C2', 'A1', 'C2', 'B2', 'C1', 'C1', 'A2', 'B1', 'A1', 'C1', 'C2', 'B2', 'A2', 'A2', 'C1', 'A2', 'C2', 'B1', 'A1', 'C2', 'A1', 'A2', 'A1', 'B2', 'A1', 'C2', 'B2', 'A1', 'C2', 'C1', 'A2', 'B2', 'C1', 'B1', 'B2', 'B1', 'A1', 'A1', 'C2', 'B1', 'A2', 'A2', 'C1', 'B1', 'C2', 'C2', 'B2', 'C1', 'C2', 'C2', 'C2', 'C2', 'A2', 'B1', 'C2', 'A1', 'C2', 'C1', 'C1', 'B2', 'C2', 'A1', 'C2', 'C1', 'A2', 'A2', 'C1', 'C1', 'A1', 'C2', 'B1', 'A2', 'C1', 'C2', 'B1', 'B1', 'A1', 'C1', 'B2', 'C1', 'B2', 'C1', 'A1', 'A1', 'A2', 'B1', 'A2', 'B2', 'C1', 'A1', 'A1', 'C2', 'B1', 'B2', 'C2', 'B2', 'C1', 'B2', 'B1', 'C2', 'B1', 'A1', 'B2', 'C1', 'C2', 'C1', 'C2', 'C2', 'B2', 'C1', 'B1', 'A2', 'A1', 'A2', 'A2', 'B1', 'C2', 'A1', 'C2', 'B1', 'A2', 'C1', 'A1', 'B1', 'B1', 'C2', 'C1', 'C2', 'C2', 'A2', 'B1', 'A1', 'C2', 'B1', 'A2', 'A1', 'C1', 'A2', 'A1', 'C1', 'B2', 'B2', 'C1', 'C2', 'C1', 'A2', 'B1', 'B1', 'C2', 'B2', 'C2', 'B1', 'B1', 'C1', 'B1', 'A1', 'B1', 'B2', 'B2', 'C1', 'A1', 'A1', 'A1', 'A1', 'B2', 'C1', 'B2', 'A1', 'A1', 'A2', 'B2', 'B2', 'B2', 'B2', 'B1', 'C2', 'C1', 'C1', 'B1', 'A2', 'A1', 'C1', 'A1', 'A2', 'A1', 'C1', 'A2', 'B2', 'C2', 'C2', 'B1', 'A2', 'A1', 'B1', 'C1', 'C2', 'B1', 'A2', 'A1', 'C1', 'B1', 'C1', 'C1', 'C2', 'A2', 'C1', 'C2', 'C2', 'C2', 'A1', 'C1', 'A1', 'B1', 'C1', 'A1', 'B2', 'B2', 'B2', 'C1', 'C1', 'B2', 'B1', 'B1', 'C2', 'C1', 'C1', 'C1', 'A1', 'A2', 'C2', 'A1', 'A1', 'A1', 'A2', 'B1', 'C1', 'B2', 'C2', 'B1', 'B1', 'C1', 'C2', 'A2', 'C2', 'B1', 'C1', 'C1', 'A1', 'C1', 'A1', 'A1', 'A1', 'B1', 'B2', 'C1', 'A2', 'C1', 'B1', 'B2', 'A1', 'B1', 'C1', 'C1', 'C1', 'B2', 'C2', 'C2', 'C2', 'A2', 'C2', 'C1', 'B2', 'A2', 'C2', 'B2', 'B1', 'C1', 'B1', 'A2', 'B1', 'B2', 'B2', 'B1', 'B1', 'B2', 'C2', 'B2', 'C1', 'A1', 'C2', 'A2', 'B1', 'A2', 'C2', 'B1', 'A1', 'A1', 'A1', 'C2', 'A2', 'C1', 'C2', 'C1', 'A2', 'B1', 'B1', 'B1', 'A2', 'C2', 'B1', 'C2', 'B1', 'A2', 'A1', 'C2', 'C2', 'B1', 'C1', 'C2', 'C1', 'A2', 'B2', 'A2', 'B1', 'B2', 'A1', 'C1', 'B2', 'A1', 'A2', 'C2', 'C1', 'C2', 'C1', 'A1', 'B2', 'C1', 'B2', 'B1', 'B1', 'A1', 'A1', 'B2', 'A1', 'A1', 'A1', 'A2', 'A2', 'B1', 'B2', 'A1', 'A2', 'A1', 'C1', 'A2', 'B2', 'C2', 'C1', 'C2', 'A1', 'B1', 'C1', 'B1', 'C1', 'A1', 'A2', 'C1', 'C1', 'B2', 'A1', 'C2', 'A2', 'C2', 'B1', 'B1', 'C2', 'A1', 'C1', 'C1', 'C1', 'C2', 'C2', 'B1', 'C2', 'B1', 'C1', 'B2', 'A1', 'B1', 'A2', 'C2', 'B1', 'C1', 'B2', 'C2', 'C2', 'C1', 'C1', 'A1', 'A1', 'C2', 'A1', 'B1', 'A1', 'A1', 'B2', 'C1', 'C2', 'A1', 'C2', 'A1', 'A1', 'B2', 'A2', 'C2', 'C2', 'B2', 'B1', 'B1', 'C1', 'A1', 'A1', 'A1', 'A1', 'C1', 'B2', 'C2', 'B2', 'B2', 'A2', 'B2', 'A1', 'C1', 'A1', 'B2', 'B2', 'B1', 'C1', 'C1', 'A2', 'B2', 'A1', 'A1', 'B2', 'C2', 'A2', 'A2', 'A2', 'C2', 'B1', 'A2', 'B2', 'A1', 'C2', 'B2', 'A1', 'B1', 'A1', 'C2', 'B1', 'B1', 'B1', 'C2', 'C1', 'A1', 'C1', 'C2', 'A1', 'B2', 'B1', 'C1', 'C2', 'C1', 'A2', 'A1', 'B1', 'C1', 'B1', 'C2', 'A1', 'C2', 'B1', 'C2', 'C1', 'B1', 'B2', 'C2', 'C2', 'C1', 'A2', 'B1', 'C2', 'A1', 'B1', 'B2', 'B2', 'C1', 'B2', 'A1', 'B1', 'A2', 'A1', 'C1', 'A2', 'B1', 'B1', 'C1', 'A2', 'C2', 'A2', 'B1', 'B1', 'B1', 'C1', 'A1', 'A1', 'A1', 'B1', 'A2', 'C2', 'C1', 'B2']\n"
     ]
    }
   ],
   "source": [
    "\n",
    "pred=model.predict(unlabelled_feature)\n",
    "prediction_keras= []\n",
    "for i in pred:\n",
    "  prediction_keras.append(np.argmax(i))\n",
    "\n",
    "\n",
    "reverse={0:\"A1\", 1:\"A2\", 2:\"B1\",3:\"B2\",4:\"C1\", 5:\"C2\"}\n",
    "\n",
    "reversed_list=[reverse[k] for k in prediction_keras]\n",
    "print(reversed_list)\n"
   ]
  },
  {
   "cell_type": "code",
   "execution_count": 17,
   "metadata": {},
   "outputs": [
    {
     "data": {
      "text/html": [
       "<div>\n",
       "<style scoped>\n",
       "    .dataframe tbody tr th:only-of-type {\n",
       "        vertical-align: middle;\n",
       "    }\n",
       "\n",
       "    .dataframe tbody tr th {\n",
       "        vertical-align: top;\n",
       "    }\n",
       "\n",
       "    .dataframe thead th {\n",
       "        text-align: right;\n",
       "    }\n",
       "</style>\n",
       "<table border=\"1\" class=\"dataframe\">\n",
       "  <thead>\n",
       "    <tr style=\"text-align: right;\">\n",
       "      <th></th>\n",
       "      <th>difficulty</th>\n",
       "    </tr>\n",
       "  </thead>\n",
       "  <tbody>\n",
       "    <tr>\n",
       "      <th>0</th>\n",
       "      <td>a</td>\n",
       "    </tr>\n",
       "    <tr>\n",
       "      <th>1</th>\n",
       "      <td>b</td>\n",
       "    </tr>\n",
       "    <tr>\n",
       "      <th>2</th>\n",
       "      <td>c</td>\n",
       "    </tr>\n",
       "  </tbody>\n",
       "</table>\n",
       "</div>"
      ],
      "text/plain": [
       "  difficulty\n",
       "0          a\n",
       "1          b\n",
       "2          c"
      ]
     },
     "execution_count": 17,
     "metadata": {},
     "output_type": "execute_result"
    }
   ],
   "source": [
    "keras_submission = pd.DataFrame()\n",
    "keras_submission[\"difficulty\"]=reversed_list\n",
    "\n",
    "keras_submission.to_csv('keras_submission')\n"
   ]
  },
  {
   "cell_type": "markdown",
   "metadata": {
    "id": "82FvnJycsBFf"
   },
   "source": [
    "#### 4.7. Show a summary of your results"
   ]
  }
 ],
 "metadata": {
  "colab": {
   "name": "Copie de Project_guidelines_2021.ipynb",
   "provenance": []
  },
  "kernelspec": {
   "display_name": "Python 3 (ipykernel)",
   "language": "python",
   "name": "python3"
  },
  "language_info": {
   "codemirror_mode": {
    "name": "ipython",
    "version": 3
   },
   "file_extension": ".py",
   "mimetype": "text/x-python",
   "name": "python",
   "nbconvert_exporter": "python",
   "pygments_lexer": "ipython3",
   "version": "3.9.9"
  }
 },
 "nbformat": 4,
 "nbformat_minor": 1
}
