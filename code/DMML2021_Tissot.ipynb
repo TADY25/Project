{
 "cells": [
  {
   "cell_type": "markdown",
   "metadata": {
    "id": "8ZKqCFFbNZ04"
   },
   "source": [
    "# Data Mining and Machine Learning - Project\n",
    "\n",
    "## Detecting Difficulty Level of French Texts\n",
    "\n",
    "### Step by step guidelines\n",
    "\n",
    "The following are a set of step by step guidelines to help you get started with your project for the Data Mining and Machine Learning class. \n",
    "\n",
    "#### 1. 📂 Create a public GitHub repository for your team using this naming convention `DMML2021_[your_team_name]` with the following structure:\n",
    "- data (subfolder) \n",
    "- code (subfolder) \n",
    "- documentation (subfolder)\n",
    "- a readme file (.md): *mention team name, participants, brief description of the project, approach and summary of results table.*\n",
    "\n",
    "All team members should contribute to the GitHub repository.\n",
    "\n",
    "#### 2. 🇰 Join the competititon on Kaggle using an invitation link like this one: https://www.kaggle.com/t/69884669004b482c96dd59e5d0c52044 \n",
    "\n",
    "Under the Team tab, save your team name (`UNIL_your_team_name`) and make sure your team members join in as well. You can merge your user account with your teammates in order to create a team.\n",
    "\n",
    "#### 3. 📓 Read the data into your colab notebook. There should be one code notebook per team, but all team members can participate and contribute code. \n",
    "\n",
    "You can use either direct the Kaggle API and your Kaggle credentials (as explained below and **entirely optional**), or dowload the data form Kaggle and upload it onto your team's GitHub repository under the data subfolder.\n",
    "\n",
    "#### 4. 💎 Train your models and upload the code under your team's GitHub repo. Set the `random_state=0`.\n",
    "- baseline\n",
    "- logistic regression with TFidf vectoriser (simple, no data cleaning)\n",
    "- KNN & hyperparameter optimisation (simple, no data cleaning)\n",
    "- Decision Tree classifier & hyperparameter optimisation (simple, no data cleaning)\n",
    "- Random Forests classifier (simple, no data cleaning)\n",
    "- another technique or combination of techniques of your choice\n",
    "\n",
    "#### 5. 🎥 Create a YouTube video (10-15 minutes) of your solution and embed it in your notebook. Explain the algorithms used and the evaluation of your solutions. All projects will also be presented live by the group during the last class.\n",
    "\n",
    "DONE\n",
    "\n",
    "### Submission details (one per team)\n",
    "1. Add the link to your team's GitHub repository here: https://moodle.unil.ch/mod/url/view.php?id=841193\n",
    "\n",
    "2. Download a ZIPped file of your team's repositiory and submit it in Moodle here: https://moodle.unil.ch/mod/assign/view.php?id=1194395\n",
    "\n",
    "3. Post a link to your video in Slack under the project channel.\n",
    "\n",
    "### Grading (one per team)\n",
    "- 5 points presentation\n",
    "- 5 points video \n",
    "- 10 points notebook quality \n",
    "- 10 points your solution"
   ]
  },
  {
   "cell_type": "markdown",
   "metadata": {
    "id": "9-14CAdOoinM"
   },
   "source": [
    "## Some further details for points 3 and 4 above.\n",
    "\n",
    "### 3. Read data into your notebook with the Kaggle API (entirely optional). \n",
    "\n",
    "You can also download the data from Kaggle and put it in your team's repo the data folder."
   ]
  },
  {
   "cell_type": "code",
   "execution_count": 1,
   "metadata": {},
   "outputs": [],
   "source": [
    "import os\n",
    "import sys\n",
    "import get_dataset\n",
    "import pandas as pd\n",
    "import numpy as np\n",
    "import numpy\n",
    "from functs import evaluate, get_score\n",
    "import matplotlib.pyplot as plt\n",
    "import seaborn as sns\n",
    "from sklearn.metrics import confusion_matrix\n",
    "from sklearn.model_selection import train_test_split\n",
    "from sklearn.pipeline import Pipeline\n",
    "from sklearn.feature_extraction.text import TfidfVectorizer\n",
    "from sklearn.linear_model import LogisticRegression\n",
    "from sklearn.feature_extraction.text import CountVectorizer\n",
    "import csv\n",
    "import tensorflow as tf\n",
    "from tensorflow import keras\n",
    "\n",
    "import spacy as spacy\n",
    "from spacy.attrs import LOWER, POS, ENT_TYPE, IS_ALPHA\n",
    "from spacy.tokens import Doc\n",
    "import numpy as np\n",
    "from tqdm import tqdm\n",
    "from gensim.models import word2vec\n",
    "from keras_funct import *\n",
    "import fr_core_news_md\n",
    "np.random.seed = 0\n"
   ]
  },
  {
   "cell_type": "code",
   "execution_count": 2,
   "metadata": {
    "id": "daqvj7feTx60"
   },
   "outputs": [],
   "source": [
    "# read in your training data\n",
    "\n",
    "\n",
    "df = get_dataset.get_train_data()\n",
    "scores=[]\n",
    "matrixes=[]\n"
   ]
  },
  {
   "cell_type": "code",
   "execution_count": 3,
   "metadata": {
    "colab": {
     "base_uri": "https://localhost:8080/",
     "height": 206
    },
    "id": "VxRSnk5bhTp8",
    "outputId": "80616e55-545c-4b80-fd32-99de0b0e4124"
   },
   "outputs": [
    {
     "data": {
      "text/html": [
       "<div>\n",
       "<style scoped>\n",
       "    .dataframe tbody tr th:only-of-type {\n",
       "        vertical-align: middle;\n",
       "    }\n",
       "\n",
       "    .dataframe tbody tr th {\n",
       "        vertical-align: top;\n",
       "    }\n",
       "\n",
       "    .dataframe thead th {\n",
       "        text-align: right;\n",
       "    }\n",
       "</style>\n",
       "<table border=\"1\" class=\"dataframe\">\n",
       "  <thead>\n",
       "    <tr style=\"text-align: right;\">\n",
       "      <th></th>\n",
       "      <th>sentence</th>\n",
       "      <th>difficulty</th>\n",
       "    </tr>\n",
       "  </thead>\n",
       "  <tbody>\n",
       "    <tr>\n",
       "      <th>0</th>\n",
       "      <td>Les coûts kilométriques réels peuvent diverger...</td>\n",
       "      <td>C1</td>\n",
       "    </tr>\n",
       "    <tr>\n",
       "      <th>1</th>\n",
       "      <td>Le bleu, c'est ma couleur préférée mais je n'a...</td>\n",
       "      <td>A1</td>\n",
       "    </tr>\n",
       "    <tr>\n",
       "      <th>2</th>\n",
       "      <td>Le test de niveau en français est sur le site ...</td>\n",
       "      <td>A1</td>\n",
       "    </tr>\n",
       "    <tr>\n",
       "      <th>3</th>\n",
       "      <td>Est-ce que ton mari est aussi de Boston?</td>\n",
       "      <td>A1</td>\n",
       "    </tr>\n",
       "    <tr>\n",
       "      <th>4</th>\n",
       "      <td>Dans les écoles de commerce, dans les couloirs...</td>\n",
       "      <td>B1</td>\n",
       "    </tr>\n",
       "  </tbody>\n",
       "</table>\n",
       "</div>"
      ],
      "text/plain": [
       "                                            sentence difficulty\n",
       "0  Les coûts kilométriques réels peuvent diverger...         C1\n",
       "1  Le bleu, c'est ma couleur préférée mais je n'a...         A1\n",
       "2  Le test de niveau en français est sur le site ...         A1\n",
       "3           Est-ce que ton mari est aussi de Boston?         A1\n",
       "4  Dans les écoles de commerce, dans les couloirs...         B1"
      ]
     },
     "execution_count": 3,
     "metadata": {},
     "output_type": "execute_result"
    }
   ],
   "source": [
    "df.head()"
   ]
  },
  {
   "cell_type": "markdown",
   "metadata": {
    "id": "1kpfbtndj0jL"
   },
   "source": [
    "Have a look at the data on which to make predictions."
   ]
  },
  {
   "cell_type": "code",
   "execution_count": 4,
   "metadata": {
    "colab": {
     "base_uri": "https://localhost:8080/",
     "height": 206
    },
    "id": "7G75Q1gRj49l",
    "outputId": "0fdf7e2a-db10-4cf8-9416-f36f6851a1d2"
   },
   "outputs": [
    {
     "data": {
      "text/html": [
       "<div>\n",
       "<style scoped>\n",
       "    .dataframe tbody tr th:only-of-type {\n",
       "        vertical-align: middle;\n",
       "    }\n",
       "\n",
       "    .dataframe tbody tr th {\n",
       "        vertical-align: top;\n",
       "    }\n",
       "\n",
       "    .dataframe thead th {\n",
       "        text-align: right;\n",
       "    }\n",
       "</style>\n",
       "<table border=\"1\" class=\"dataframe\">\n",
       "  <thead>\n",
       "    <tr style=\"text-align: right;\">\n",
       "      <th></th>\n",
       "      <th>sentence</th>\n",
       "    </tr>\n",
       "  </thead>\n",
       "  <tbody>\n",
       "    <tr>\n",
       "      <th>0</th>\n",
       "      <td>Nous dûmes nous excuser des propos que nous eû...</td>\n",
       "    </tr>\n",
       "    <tr>\n",
       "      <th>1</th>\n",
       "      <td>Vous ne pouvez pas savoir le plaisir que j'ai ...</td>\n",
       "    </tr>\n",
       "    <tr>\n",
       "      <th>2</th>\n",
       "      <td>Et, paradoxalement, boire froid n'est pas la b...</td>\n",
       "    </tr>\n",
       "    <tr>\n",
       "      <th>3</th>\n",
       "      <td>Ce n'est pas étonnant, car c'est une saison my...</td>\n",
       "    </tr>\n",
       "    <tr>\n",
       "      <th>4</th>\n",
       "      <td>Le corps de Golo lui-même, d'une essence aussi...</td>\n",
       "    </tr>\n",
       "  </tbody>\n",
       "</table>\n",
       "</div>"
      ],
      "text/plain": [
       "                                            sentence\n",
       "0  Nous dûmes nous excuser des propos que nous eû...\n",
       "1  Vous ne pouvez pas savoir le plaisir que j'ai ...\n",
       "2  Et, paradoxalement, boire froid n'est pas la b...\n",
       "3  Ce n'est pas étonnant, car c'est une saison my...\n",
       "4  Le corps de Golo lui-même, d'une essence aussi..."
      ]
     },
     "execution_count": 4,
     "metadata": {},
     "output_type": "execute_result"
    }
   ],
   "source": [
    "df_pred = get_dataset.get_unlabelled_data()\n",
    "df_pred.head()"
   ]
  },
  {
   "cell_type": "markdown",
   "metadata": {
    "id": "a37hWJ_ckBlk"
   },
   "source": [
    "And this is the format for your submissions."
   ]
  },
  {
   "cell_type": "code",
   "execution_count": 5,
   "metadata": {
    "colab": {
     "base_uri": "https://localhost:8080/",
     "height": 206
    },
    "id": "gk9H2dLHkFBa",
    "outputId": "e823ec1a-db03-4b6b-ca0c-7f89a93f02a8"
   },
   "outputs": [
    {
     "data": {
      "text/html": [
       "<div>\n",
       "<style scoped>\n",
       "    .dataframe tbody tr th:only-of-type {\n",
       "        vertical-align: middle;\n",
       "    }\n",
       "\n",
       "    .dataframe tbody tr th {\n",
       "        vertical-align: top;\n",
       "    }\n",
       "\n",
       "    .dataframe thead th {\n",
       "        text-align: right;\n",
       "    }\n",
       "</style>\n",
       "<table border=\"1\" class=\"dataframe\">\n",
       "  <thead>\n",
       "    <tr style=\"text-align: right;\">\n",
       "      <th></th>\n",
       "      <th>difficulty</th>\n",
       "    </tr>\n",
       "  </thead>\n",
       "  <tbody>\n",
       "    <tr>\n",
       "      <th>0</th>\n",
       "      <td>A1</td>\n",
       "    </tr>\n",
       "    <tr>\n",
       "      <th>1</th>\n",
       "      <td>A1</td>\n",
       "    </tr>\n",
       "    <tr>\n",
       "      <th>2</th>\n",
       "      <td>A1</td>\n",
       "    </tr>\n",
       "    <tr>\n",
       "      <th>3</th>\n",
       "      <td>A1</td>\n",
       "    </tr>\n",
       "    <tr>\n",
       "      <th>4</th>\n",
       "      <td>A1</td>\n",
       "    </tr>\n",
       "  </tbody>\n",
       "</table>\n",
       "</div>"
      ],
      "text/plain": [
       "  difficulty\n",
       "0         A1\n",
       "1         A1\n",
       "2         A1\n",
       "3         A1\n",
       "4         A1"
      ]
     },
     "execution_count": 5,
     "metadata": {},
     "output_type": "execute_result"
    }
   ],
   "source": [
    "df_example_submission = get_dataset.get_sub_data()\n",
    "df_example_submission.head()"
   ]
  },
  {
   "cell_type": "markdown",
   "metadata": {
    "id": "FfTgL1erjqQ6"
   },
   "source": [
    "### 4. Train your models\n",
    "\n",
    "Set your X and y variables. \n",
    "Set the `random_state=0`\n",
    "Split the data into a train and test set using the following parameters `train_test_split(X, y, test_size=0.2, random_state=0)`.\n",
    "\n",
    "#### 4.1.Baseline\n",
    "What is the baseline for this classification problem? (you can use the highest label frequency from the entire training data, the df above)"
   ]
  },
  {
   "cell_type": "code",
   "execution_count": 6,
   "metadata": {},
   "outputs": [
    {
     "name": "stdout",
     "output_type": "stream",
     "text": [
      "The baseline accuracy is 16.94%\n"
     ]
    }
   ],
   "source": [
    "pred = df.groupby('difficulty').count()\n",
    "baseline_accuracy = pred['sentence'].max()/len(df)\n",
    "print(f'The baseline accuracy is {round(baseline_accuracy*100,2)}%')"
   ]
  },
  {
   "cell_type": "markdown",
   "metadata": {
    "id": "SlvbPYa0k78l"
   },
   "source": [
    "#### 4.2. Logistic Regression (without data cleaning)\n",
    "\n",
    "Train a simple logistic regression model using a Tfidf vectoriser."
   ]
  },
  {
   "cell_type": "code",
   "execution_count": 7,
   "metadata": {
    "id": "t4O_pYiHpiRd"
   },
   "outputs": [],
   "source": [
    "corpus = df['sentence'].tolist()\n",
    "\n",
    "X_train, X_test, y_train, y_test = train_test_split(corpus, df['difficulty'].tolist(),\n",
    "                                                    test_size = 0.2,\n",
    "                                                    random_state = 0)"
   ]
  },
  {
   "cell_type": "code",
   "execution_count": 8,
   "metadata": {
    "id": "eEe3-QNlow4H"
   },
   "outputs": [],
   "source": [
    "pipe = Pipeline([('tfidf', TfidfVectorizer()), ('log_reg', LogisticRegression())])\n",
    "pipe.fit(X_train, y_train)\n",
    "\n",
    "pred = pipe.predict(X_test)"
   ]
  },
  {
   "cell_type": "markdown",
   "metadata": {
    "id": "bZ-qO8C5oyov"
   },
   "source": [
    "Calculate accuracy, precision, recall and F1 score on the test set."
   ]
  },
  {
   "cell_type": "code",
   "execution_count": 9,
   "metadata": {
    "id": "PViIQdnDpASy"
   },
   "outputs": [
    {
     "name": "stdout",
     "output_type": "stream",
     "text": [
      "AxesSubplot(0.125,0.125;0.62x0.755)\n",
      "ACCURACY SCORE:\n",
      "0.4667\n",
      "CLASSIFICATION REPORT:\n",
      "\tPrecision: 0.4645\n",
      "\tRecall: 0.4677\n",
      "\tF1_Score: 0.4640\n"
     ]
    },
    {
     "data": {
      "image/png": "[encoded data removed]",
      "text/plain": [
       "<Figure size 432x288 with 3 Axes>"
      ]
     },
     "metadata": {
      "needs_background": "light"
     },
     "output_type": "display_data"
    }
   ],
   "source": [
    "evaluate(y_test, pred)\n",
    "score, matrix = get_score(y_test, pred, \"Logisitc Regression\")\n",
    "\n",
    "scores.append(score)\n",
    "matrixes.append(matrixes)"
   ]
  },
  {
   "cell_type": "markdown",
   "metadata": {
    "id": "9D3_dp3apcmr"
   },
   "source": [
    "Have a look at the confusion matrix and identify a few examples of sentences that are not well classified."
   ]
  },
  {
   "cell_type": "code",
   "execution_count": 10,
   "metadata": {},
   "outputs": [
    {
     "data": {
      "text/html": [
       "<div>\n",
       "<style scoped>\n",
       "    .dataframe tbody tr th:only-of-type {\n",
       "        vertical-align: middle;\n",
       "    }\n",
       "\n",
       "    .dataframe tbody tr th {\n",
       "        vertical-align: top;\n",
       "    }\n",
       "\n",
       "    .dataframe thead th {\n",
       "        text-align: right;\n",
       "    }\n",
       "</style>\n",
       "<table border=\"1\" class=\"dataframe\">\n",
       "  <thead>\n",
       "    <tr style=\"text-align: right;\">\n",
       "      <th></th>\n",
       "      <th>sentence</th>\n",
       "      <th>true</th>\n",
       "      <th>pred</th>\n",
       "    </tr>\n",
       "  </thead>\n",
       "  <tbody>\n",
       "    <tr>\n",
       "      <th>0</th>\n",
       "      <td>C'est en décembre 1967, après bien des invecti...</td>\n",
       "      <td>C1</td>\n",
       "      <td>C2</td>\n",
       "    </tr>\n",
       "    <tr>\n",
       "      <th>1</th>\n",
       "      <td>Giscard va pourtant réussir à transformer ce r...</td>\n",
       "      <td>C1</td>\n",
       "      <td>B2</td>\n",
       "    </tr>\n",
       "    <tr>\n",
       "      <th>2</th>\n",
       "      <td>Un choix difficile mais important : le public ...</td>\n",
       "      <td>A2</td>\n",
       "      <td>B1</td>\n",
       "    </tr>\n",
       "    <tr>\n",
       "      <th>3</th>\n",
       "      <td>Le débat porte plutôt sur l'utilité d'une tell...</td>\n",
       "      <td>B1</td>\n",
       "      <td>C1</td>\n",
       "    </tr>\n",
       "    <tr>\n",
       "      <th>6</th>\n",
       "      <td>Il faut du temps et du courage pour soigner to...</td>\n",
       "      <td>A2</td>\n",
       "      <td>B1</td>\n",
       "    </tr>\n",
       "  </tbody>\n",
       "</table>\n",
       "</div>"
      ],
      "text/plain": [
       "                                            sentence true pred\n",
       "0  C'est en décembre 1967, après bien des invecti...   C1   C2\n",
       "1  Giscard va pourtant réussir à transformer ce r...   C1   B2\n",
       "2  Un choix difficile mais important : le public ...   A2   B1\n",
       "3  Le débat porte plutôt sur l'utilité d'une tell...   B1   C1\n",
       "6  Il faut du temps et du courage pour soigner to...   A2   B1"
      ]
     },
     "execution_count": 10,
     "metadata": {},
     "output_type": "execute_result"
    }
   ],
   "source": [
    "examples=pd.DataFrame(X_test, columns=[\"sentence\"])\n",
    "examples[\"true\"]=y_test\n",
    "examples[\"pred\"]=pred\n",
    "examples = examples[examples[\"true\"] != examples[\"pred\"]]\n",
    "\n",
    "examples.head()\n"
   ]
  },
  {
   "cell_type": "code",
   "execution_count": 11,
   "metadata": {},
   "outputs": [],
   "source": [
    "log_reg = pd.DataFrame(pred, columns=['difficulty'])\n",
    "log_reg.to_csv('log_reg_pred.csv')"
   ]
  },
  {
   "cell_type": "markdown",
   "metadata": {
    "id": "9TTEiuXasNFg"
   },
   "source": [
    "Generate your first predictions on the `unlabelled_test_data.csv`. make sure your predictions match the format of the `unlabelled_test_data.csv`."
   ]
  },
  {
   "cell_type": "markdown",
   "metadata": {
    "id": "vXG_yIG_pQ8t"
   },
   "source": [
    "#### 4.3. KNN (without data cleaning)\n",
    "\n",
    "Train a KNN classification model using a Tfidf vectoriser. Show the accuracy, precision, recall and F1 score on the test set."
   ]
  },
  {
   "cell_type": "code",
   "execution_count": 12,
   "metadata": {
    "id": "GPRjD1rSqKKZ"
   },
   "outputs": [
    {
     "name": "stdout",
     "output_type": "stream",
     "text": [
      "AxesSubplot(0.125,0.125;0.62x0.755)\n",
      "ACCURACY SCORE:\n",
      "0.3187\n",
      "CLASSIFICATION REPORT:\n",
      "\tPrecision: 0.4007\n",
      "\tRecall: 0.3183\n",
      "\tF1_Score: 0.3022\n"
     ]
    },
    {
     "data": {
      "image/png": "[encoded data removed]",
      "text/plain": [
       "<Figure size 432x288 with 2 Axes>"
      ]
     },
     "metadata": {
      "needs_background": "light"
     },
     "output_type": "display_data"
    }
   ],
   "source": [
    "from sklearn.model_selection import GridSearchCV\n",
    "from sklearn.neighbors import KNeighborsClassifier\n",
    "\n",
    "KNN = KNeighborsClassifier()\n",
    "pipe = Pipeline([('tfidf', TfidfVectorizer()), ('KNN', KNN)])\n",
    "\n",
    "pipe.fit(X_train, y_train)\n",
    "pred = pipe.predict(X_test)\n",
    "evaluate(y_test, pred)\n"
   ]
  },
  {
   "cell_type": "markdown",
   "metadata": {
    "id": "D6rH2Hx0qtB2"
   },
   "source": [
    "Try to improve it by tuning the hyper parameters (`n_neighbors`,   `p`, `weights`)."
   ]
  },
  {
   "cell_type": "code",
   "execution_count": 13,
   "metadata": {},
   "outputs": [
    {
     "name": "stdout",
     "output_type": "stream",
     "text": [
      "Best hyperparameters: {'n_neighbors': 11, 'p': 2, 'weights': 'distance'}\n",
      "AxesSubplot(0.125,0.125;0.62x0.755)\n",
      "ACCURACY SCORE:\n",
      "0.3542\n",
      "CLASSIFICATION REPORT:\n",
      "\tPrecision: 0.4197\n",
      "\tRecall: 0.3543\n",
      "\tF1_Score: 0.3450\n"
     ]
    },
    {
     "data": {
      "image/png": "[encoded data removed]",
      "text/plain": [
       "<Figure size 432x288 with 3 Axes>"
      ]
     },
     "metadata": {
      "needs_background": "light"
     },
     "output_type": "display_data"
    }
   ],
   "source": [
    "from sklearn.model_selection import GridSearchCV\n",
    "from sklearn.neighbors import KNeighborsClassifier\n",
    "\n",
    "knn_grid = {'n_neighbors' : np.arange(1,500,5),\n",
    "            'p': np.arange(1,3),\n",
    "            'weights' : ['uniform', 'distance']}\n",
    "\n",
    "KNN = KNeighborsClassifier()\n",
    "KNN_CV = GridSearchCV(KNN, knn_grid, cv = 5)\n",
    "pipe = Pipeline([('tfidf', TfidfVectorizer()), ('KNN', KNN_CV)])\n",
    "\n",
    "pipe.fit(X_train, y_train)\n",
    "print('Best hyperparameters:', KNN_CV.best_params_)\n",
    "pred = pipe.predict(X_test)\n",
    "\n",
    "\n",
    "\n",
    "evaluate(y_test, pred)\n",
    "score, matrix = get_score(y_test, pred, \"KNN\")\n",
    "\n",
    "scores.append(score)\n",
    "matrixes.append(matrixes)"
   ]
  },
  {
   "cell_type": "markdown",
   "metadata": {
    "id": "FFNH1WgNqc62"
   },
   "source": [
    "#### 4.4. Decision Tree Classifier (without data cleaning)\n",
    "\n",
    "Train a Decison Tree classifier, using a Tfidf vectoriser. Show the accuracy, precision, recall and F1 score on the test set."
   ]
  },
  {
   "cell_type": "code",
   "execution_count": 14,
   "metadata": {
    "id": "d4PByPdGq0FV"
   },
   "outputs": [
    {
     "name": "stdout",
     "output_type": "stream",
     "text": [
      "AxesSubplot(0.125,0.125;0.62x0.755)\n",
      "ACCURACY SCORE:\n",
      "0.3115\n",
      "CLASSIFICATION REPORT:\n",
      "\tPrecision: 0.3139\n",
      "\tRecall: 0.3123\n",
      "\tF1_Score: 0.3094\n"
     ]
    },
    {
     "data": {
      "image/png": "[encoded data removed]",
      "text/plain": [
       "<Figure size 432x288 with 2 Axes>"
      ]
     },
     "metadata": {
      "needs_background": "light"
     },
     "output_type": "display_data"
    }
   ],
   "source": [
    "from sklearn.tree import DecisionTreeClassifier\n",
    "\n",
    "pipe = Pipeline([('tfidf', TfidfVectorizer()), ('decision_tree', DecisionTreeClassifier())])\n",
    "pipe.fit(X_train, y_train)\n",
    "\n",
    "pred = pipe.predict(X_test)\n",
    "evaluate(y_test, pred)"
   ]
  },
  {
   "cell_type": "markdown",
   "metadata": {
    "id": "yQHjvOp7q11L"
   },
   "source": [
    "Try to improve it by tuning the hyper parameters (`max_depth`, the depth of the decision tree)."
   ]
  },
  {
   "cell_type": "code",
   "execution_count": 15,
   "metadata": {
    "id": "x1Fzl5BUq8JN"
   },
   "outputs": [
    {
     "name": "stdout",
     "output_type": "stream",
     "text": [
      "Hyperparameters: {'max_depth': 805}\n",
      "AxesSubplot(0.125,0.125;0.62x0.755)\n",
      "ACCURACY SCORE:\n",
      "0.2875\n",
      "CLASSIFICATION REPORT:\n",
      "\tPrecision: 0.2869\n",
      "\tRecall: 0.2873\n",
      "\tF1_Score: 0.2840\n"
     ]
    },
    {
     "data": {
      "image/png": "[encoded data removed]",
      "text/plain": [
       "<Figure size 432x288 with 3 Axes>"
      ]
     },
     "metadata": {
      "needs_background": "light"
     },
     "output_type": "display_data"
    }
   ],
   "source": [
    "grid_tree = {'max_depth': np.arange(5,1000, 50)}\n",
    "\n",
    "dec_tree = DecisionTreeClassifier()\n",
    "dec_tree_CV = GridSearchCV(dec_tree, grid_tree, cv = 5)\n",
    "pipe = Pipeline([('tfidf', TfidfVectorizer()), ('decision_tree_CV', dec_tree_CV)])\n",
    "\n",
    "pipe.fit(X_train, y_train)\n",
    "pred = pipe.predict(X_test)\n",
    "print(\"Hyperparameters:\", dec_tree_CV.best_params_)\n",
    "evaluate(y_test, pred)\n",
    "\n",
    "score, matrix = get_score(y_test, pred, \"Decision Tree\")\n",
    "\n",
    "scores.append(score)\n",
    "matrixes.append(matrixes)"
   ]
  },
  {
   "cell_type": "markdown",
   "metadata": {
    "id": "M52Ys3hcq7ku"
   },
   "source": [
    "#### 4.5. Random Forest Classifier (without data cleaning)\n",
    "\n",
    "Try a Random Forest Classifier, using a Tfidf vectoriser. Show the accuracy, precision, recall and F1 score on the test set."
   ]
  },
  {
   "cell_type": "code",
   "execution_count": 16,
   "metadata": {
    "id": "sssF4NIGrNLa"
   },
   "outputs": [
    {
     "name": "stdout",
     "output_type": "stream",
     "text": [
      "AxesSubplot(0.125,0.125;0.62x0.755)\n",
      "ACCURACY SCORE:\n",
      "0.4073\n",
      "CLASSIFICATION REPORT:\n",
      "\tPrecision: 0.4182\n",
      "\tRecall: 0.4098\n",
      "\tF1_Score: 0.3963\n"
     ]
    },
    {
     "data": {
      "image/png": "[encoded data removed]",
      "text/plain": [
       "<Figure size 432x288 with 3 Axes>"
      ]
     },
     "metadata": {
      "needs_background": "light"
     },
     "output_type": "display_data"
    }
   ],
   "source": [
    "from sklearn.ensemble import RandomForestClassifier\n",
    "random_forest_classifier = RandomForestClassifier()\n",
    "pipe = Pipeline([('tfidf', TfidfVectorizer()), ('random_forest_clf', random_forest_classifier)])\n",
    "pipe.fit(X_train, y_train)\n",
    "pred = pipe.predict(X_test)\n",
    "evaluate(y_test, pred)\n",
    "\n",
    "score, matrix = get_score(y_test, pred, \"Random Forest\")\n",
    "\n",
    "scores.append(score)\n",
    "matrixes.append(matrixes)"
   ]
  },
  {
   "cell_type": "markdown",
   "metadata": {
    "id": "z-8_3MK1rpZr"
   },
   "source": [
    "#### 4.6. Any other technique, including data cleaning if necessary\n",
    "\n",
    "Try to improve accuracy by training a better model using the techniques seen in class, or combinations of them.\n",
    "\n",
    "As usual, show the accuracy, precision, recall and f1 score on the test set."
   ]
  },
  {
   "cell_type": "markdown",
   "metadata": {
    "id": "z-8_3MK1rpZr"
   },
   "source": [
    "The classifier we chose for this challenge is the Keras neural classifier from the Keras library. While begin extremely powerful and evolutive, this classifier is using the keras API which is a very high level deep learning API and a good entry point for newbies in the field (very much like us). We did not have time to dig too deep into this API but we managed to get some pretty good results from this classifier.\n",
    "\n",
    "Our classifier uses layers of neurons in a sequential fashion. This basically help us break dwon a very complex math problems (the classification of difficulties) into smaller equations to be able to process it. We used only a single\n",
    "\n",
    "\n",
    "The first thing we have to do is to import all of the data from the train set."
   ]
  },
  {
   "cell_type": "code",
   "execution_count": 17,
   "metadata": {
    "id": "wX5AjvvKr_nW"
   },
   "outputs": [],
   "source": [
    "data = get_dataset.get_train_data()"
   ]
  },
  {
   "cell_type": "markdown",
   "metadata": {
    "id": "z-8_3MK1rpZr"
   },
   "source": [
    "Now we create the features of our classifier. Those are the following:\n",
    "\n",
    "--------------------------------------------------------------------------------------------------------------------------\n",
    "\n",
    "**type_counter(data)**\n",
    "\n",
    "This feature counts the number of occurences of each type ow word in a given sentence (nouns, pronouns, ...) and assigns it the difficulty of the sentence.\n",
    "\n",
    "---------------------------------------------------------------------------------------------------------------------------\n",
    "\n",
    "**vectorizer(data)**\n",
    "\n",
    "This is a spacy vectorizer which tokenizes each sentence and creates a vectorized representation of those tokens. This vectorizer is more precise than the sk_vec and has more features\n",
    "\n",
    "---------------------------------------------------------------------------------------------------------------------------\n",
    "\n",
    "**sk_vec(data)**\n",
    "\n",
    "This is the sklearn vectorizer. It transforms words into simple vectors. We alos used this vectorizer to process bi-grams\n",
    "\n",
    "---------------------------------------------------------------------------------------------------------------------------\n",
    "\n",
    "**word_len_counter(data)**\n",
    "\n",
    "This features is a counter of length for both words and sentences. We assume that simpler sentences are usually shorter while longer phrases are usually way longer and have longer words.\n",
    "\n",
    "---------------------------------------------------------------------------------------------------------------------------\n",
    "\n",
    "\n",
    "\n",
    "\n",
    "We also use several other functions which are:\n",
    "\n",
    "**prepare_output(data)**\n",
    "\n",
    "This function process the input data and transforms it into usable data for the classifier (mapping the difficulties into either a label encoding or a 1-hot-encoding)\n",
    "\n",
    "----------------------------------------------------------------------------------------------------------------------------\n",
    "\n",
    "\n",
    "**get_score(true, pred, classifier_name)**\n",
    "\n",
    "Just so we can create a table with all the results (see code for more info)\n",
    "\n",
    "----------------------------------------------------------------------------------------------------------------------------\n",
    "\n",
    "\n",
    "We also used a filter we found on stackoverflow (**remove_tokens_on_match(doc)**) to remove specific types of words from our data. After manual observation on the badly predicted sentences, we saw that a lot of B2 sentences were wrong compared to other difficulties, but also that a lot of sentences with proper nouns we not predicted correctly. We filtered both the punctuation and the proper nouns from our dataset, and the issue resolved itslef (there were approximatly 30% more B2 phrases that were badly estimated before we used the filter)\n",
    "\n",
    "After all the testing, we lastly implemented the bigram feature, which increased our accuracy by nearly 10%. Bigger Ngrams were ineffective and even decreased precision\n",
    "\n",
    "\n",
    "Since those features all have the same column length, we are able to aggregate them into one feature to pass it to the classifier.\n",
    "\n",
    "*More info on all the fucntions can be found in the .py corresponding file*\n",
    "\n",
    "\n",
    "**Important notes:**\n",
    "\n",
    "- We did not remove stopwords because sentences were sometimes too short (especially A1 sentences). We tested it and accuracy was always marginally lower\n",
    "- We tried a number of features combination but the best results were always the full combination of the 4 features implemented.\n",
    "- Since the processing of those models is rather power hungry in terms of ressources, we could not test the full potential of the model. All the testing was done manually when it came to hyperparamters.\n",
    "- The features for our model are not well fitted to be used with the other classifiers.\n",
    "- We sometimes use \"unlabelled\" functions. Those are relevant for the final prediction because we use 2 different dataset (one for fitting and one for predicting) and not a single one splitted into 2 to fit and transform.\n"
   ]
  },
  {
   "cell_type": "code",
   "execution_count": 18,
   "metadata": {},
   "outputs": [
    {
     "name": "stdout",
     "output_type": "stream",
     "text": [
      "Feature 1 is done computing\n",
      "Feature 2 is done computing\n",
      "Feature 3 is done computing\n",
      "Feature 4 is done computing\n",
      "Features ready to be used\n"
     ]
    }
   ],
   "source": [
    "feature1 = type_counter(data)\n",
    "print(\"Feature 1 is done computing\")\n",
    "feature2 = vectorizer(data)\n",
    "print(\"Feature 2 is done computing\")\n",
    "feature3 = word_len_counter(data)\n",
    "print(\"Feature 3 is done computing\")\n",
    "feature4 = sk_vec(data)\n",
    "print(\"Feature 4 is done computing\")\n",
    "feature = np.concatenate((feature1, feature2),axis = 1)\n",
    "feature = np.concatenate((feature, feature3), axis = 1)\n",
    "feature = np.concatenate((feature, feature4), axis = 1)\n",
    "\n",
    "print(\"Features ready to be used\")"
   ]
  },
  {
   "cell_type": "code",
   "execution_count": 19,
   "metadata": {},
   "outputs": [
    {
     "name": "stdout",
     "output_type": "stream",
     "text": [
      "Data ready to be used\n"
     ]
    }
   ],
   "source": [
    "y1, y2 = prepare_output(data)\n",
    "print(\"Data ready to be used\")"
   ]
  },
  {
   "cell_type": "code",
   "execution_count": 20,
   "metadata": {},
   "outputs": [
    {
     "name": "stdout",
     "output_type": "stream",
     "text": [
      "Data has been split\n"
     ]
    }
   ],
   "source": [
    "#X_train\n",
    "feature_train = np.array(feature[:4000])\n",
    "feature4_train = np.array(feature4[:4000])\n",
    "\n",
    "#y_train\n",
    "y2_train = np.asarray(y2[:4000])\n",
    "y1_train = np.asarray(y1[:4000])\n",
    "\n",
    "#X_test\n",
    "feature_test = np.array(feature[4000:])\n",
    "feature4_test = np.array(feature4[4000:])\n",
    "\n",
    "#y_test\n",
    "y2_test = np.asarray(y2[4000:])\n",
    "y1_test = np.asarray(y1[4000:])\n",
    "\n",
    "print(\"Data has been split\")"
   ]
  },
  {
   "cell_type": "code",
   "execution_count": 21,
   "metadata": {
    "scrolled": true
   },
   "outputs": [
    {
     "name": "stdout",
     "output_type": "stream",
     "text": [
      "Model: \"sequential\"\n",
      "_________________________________________________________________\n",
      " Layer (type)                Output Shape              Param #   \n",
      "=================================================================\n",
      " dense (Dense)               (None, 32)                2171264   \n",
      "                                                                 \n",
      " dropout (Dropout)           (None, 32)                0         \n",
      "                                                                 \n",
      " dense_1 (Dense)             (None, 6)                 198       \n",
      "                                                                 \n",
      "=================================================================\n",
      "Total params: 2,171,462\n",
      "Trainable params: 2,171,462\n",
      "Non-trainable params: 0\n",
      "_________________________________________________________________\n",
      "None\n",
      "Epoch 1/100\n",
      "500/500 [==============================] - 4s 8ms/step - loss: 1.5486 - accuracy: 0.3055 - val_loss: 1.3823 - val_accuracy: 0.4000\n",
      "Epoch 2/100\n",
      "500/500 [==============================] - 3s 7ms/step - loss: 1.4411 - accuracy: 0.3700 - val_loss: 1.3400 - val_accuracy: 0.4000\n",
      "Epoch 3/100\n",
      "500/500 [==============================] - 3s 7ms/step - loss: 1.3710 - accuracy: 0.4065 - val_loss: 1.2830 - val_accuracy: 0.4000\n",
      "Epoch 4/100\n",
      "500/500 [==============================] - 3s 7ms/step - loss: 1.3314 - accuracy: 0.4265 - val_loss: 1.3108 - val_accuracy: 0.3500\n",
      "Epoch 5/100\n",
      "500/500 [==============================] - 3s 7ms/step - loss: 1.2909 - accuracy: 0.4415 - val_loss: 1.2380 - val_accuracy: 0.4250\n",
      "Epoch 6/100\n",
      "500/500 [==============================] - 3s 7ms/step - loss: 1.2546 - accuracy: 0.4462 - val_loss: 1.2116 - val_accuracy: 0.4500\n",
      "Epoch 7/100\n",
      "500/500 [==============================] - 3s 7ms/step - loss: 1.2277 - accuracy: 0.4705 - val_loss: 1.1838 - val_accuracy: 0.3750\n",
      "Epoch 8/100\n",
      "500/500 [==============================] - 3s 7ms/step - loss: 1.1983 - accuracy: 0.4843 - val_loss: 1.1493 - val_accuracy: 0.4250\n",
      "Epoch 9/100\n",
      "500/500 [==============================] - 3s 7ms/step - loss: 1.1859 - accuracy: 0.4880 - val_loss: 1.1440 - val_accuracy: 0.4750\n",
      "Epoch 10/100\n",
      "500/500 [==============================] - 3s 7ms/step - loss: 1.1556 - accuracy: 0.5000 - val_loss: 1.1395 - val_accuracy: 0.4750\n",
      "Epoch 11/100\n",
      "500/500 [==============================] - 3s 7ms/step - loss: 1.1288 - accuracy: 0.5138 - val_loss: 1.1370 - val_accuracy: 0.4750\n",
      "Epoch 12/100\n",
      "500/500 [==============================] - 3s 7ms/step - loss: 1.1036 - accuracy: 0.5350 - val_loss: 1.1297 - val_accuracy: 0.4750\n",
      "Epoch 13/100\n",
      "500/500 [==============================] - 3s 7ms/step - loss: 1.0734 - accuracy: 0.5518 - val_loss: 1.1158 - val_accuracy: 0.4750\n",
      "Epoch 14/100\n",
      "500/500 [==============================] - 3s 7ms/step - loss: 1.0680 - accuracy: 0.5560 - val_loss: 1.1411 - val_accuracy: 0.4000\n",
      "Epoch 15/100\n",
      "500/500 [==============================] - 3s 7ms/step - loss: 1.0404 - accuracy: 0.5663 - val_loss: 1.1258 - val_accuracy: 0.4000\n",
      "Epoch 16/100\n",
      "500/500 [==============================] - 3s 7ms/step - loss: 1.0124 - accuracy: 0.5893 - val_loss: 1.0584 - val_accuracy: 0.5000\n",
      "Epoch 17/100\n",
      "500/500 [==============================] - 3s 7ms/step - loss: 0.9905 - accuracy: 0.5895 - val_loss: 1.0967 - val_accuracy: 0.5750\n",
      "Epoch 18/100\n",
      "500/500 [==============================] - 3s 7ms/step - loss: 0.9589 - accuracy: 0.6083 - val_loss: 1.0783 - val_accuracy: 0.5000\n",
      "Epoch 19/100\n",
      "500/500 [==============================] - 3s 7ms/step - loss: 0.9380 - accuracy: 0.6093 - val_loss: 1.1254 - val_accuracy: 0.4750\n",
      "Epoch 20/100\n",
      "500/500 [==============================] - 3s 7ms/step - loss: 0.9363 - accuracy: 0.6180 - val_loss: 1.0726 - val_accuracy: 0.4750\n",
      "Epoch 21/100\n",
      "500/500 [==============================] - 3s 7ms/step - loss: 0.8880 - accuracy: 0.6460 - val_loss: 1.1205 - val_accuracy: 0.5500\n",
      "Epoch 22/100\n",
      "500/500 [==============================] - 3s 7ms/step - loss: 0.8699 - accuracy: 0.6545 - val_loss: 1.0891 - val_accuracy: 0.5000\n",
      "Epoch 23/100\n",
      "500/500 [==============================] - 3s 7ms/step - loss: 0.8627 - accuracy: 0.6547 - val_loss: 1.1141 - val_accuracy: 0.5000\n",
      "Epoch 24/100\n",
      "500/500 [==============================] - 3s 7ms/step - loss: 0.8323 - accuracy: 0.6725 - val_loss: 1.0633 - val_accuracy: 0.4750\n",
      "Epoch 25/100\n",
      "500/500 [==============================] - 3s 7ms/step - loss: 0.8012 - accuracy: 0.6900 - val_loss: 1.0974 - val_accuracy: 0.4750\n",
      "Epoch 26/100\n",
      "500/500 [==============================] - 3s 7ms/step - loss: 0.8003 - accuracy: 0.6780 - val_loss: 1.0883 - val_accuracy: 0.4750\n",
      "Epoch 27/100\n",
      "500/500 [==============================] - 3s 7ms/step - loss: 0.7607 - accuracy: 0.6970 - val_loss: 1.0609 - val_accuracy: 0.5000\n",
      "Epoch 28/100\n",
      "500/500 [==============================] - 3s 7ms/step - loss: 0.7555 - accuracy: 0.7045 - val_loss: 1.1273 - val_accuracy: 0.5000\n",
      "Epoch 29/100\n",
      "500/500 [==============================] - 3s 7ms/step - loss: 0.7121 - accuracy: 0.7318 - val_loss: 1.0725 - val_accuracy: 0.5000\n",
      "Epoch 30/100\n",
      "500/500 [==============================] - 3s 7ms/step - loss: 0.7200 - accuracy: 0.7203 - val_loss: 1.1008 - val_accuracy: 0.5000\n",
      "Epoch 31/100\n",
      "500/500 [==============================] - 3s 7ms/step - loss: 0.6965 - accuracy: 0.7335 - val_loss: 1.0396 - val_accuracy: 0.5250\n",
      "Epoch 32/100\n",
      "500/500 [==============================] - 3s 7ms/step - loss: 0.6825 - accuracy: 0.7408 - val_loss: 1.0952 - val_accuracy: 0.5000\n",
      "Epoch 33/100\n",
      "500/500 [==============================] - 3s 7ms/step - loss: 0.6550 - accuracy: 0.7473 - val_loss: 1.1076 - val_accuracy: 0.4750\n",
      "Epoch 34/100\n",
      "500/500 [==============================] - 3s 7ms/step - loss: 0.6411 - accuracy: 0.7555 - val_loss: 1.0386 - val_accuracy: 0.4500\n",
      "Epoch 35/100\n",
      "500/500 [==============================] - 3s 7ms/step - loss: 0.6158 - accuracy: 0.7688 - val_loss: 1.0542 - val_accuracy: 0.5000\n",
      "Epoch 36/100\n",
      "500/500 [==============================] - 4s 7ms/step - loss: 0.5973 - accuracy: 0.7770 - val_loss: 1.0061 - val_accuracy: 0.5000\n",
      "Epoch 37/100\n",
      "500/500 [==============================] - 4s 7ms/step - loss: 0.5801 - accuracy: 0.7853 - val_loss: 1.0861 - val_accuracy: 0.5000\n",
      "Epoch 38/100\n",
      "500/500 [==============================] - 3s 7ms/step - loss: 0.5696 - accuracy: 0.7818 - val_loss: 1.1617 - val_accuracy: 0.4250\n",
      "Epoch 39/100\n",
      "500/500 [==============================] - 3s 7ms/step - loss: 0.5626 - accuracy: 0.7883 - val_loss: 1.0950 - val_accuracy: 0.5000\n",
      "Epoch 40/100\n",
      "500/500 [==============================] - 3s 7ms/step - loss: 0.5390 - accuracy: 0.7990 - val_loss: 1.1083 - val_accuracy: 0.4750\n",
      "Epoch 41/100\n",
      "500/500 [==============================] - 3s 7ms/step - loss: 0.5360 - accuracy: 0.7968 - val_loss: 1.1415 - val_accuracy: 0.5250\n",
      "Epoch 42/100\n",
      "500/500 [==============================] - 3s 7ms/step - loss: 0.5178 - accuracy: 0.8080 - val_loss: 1.0755 - val_accuracy: 0.5000\n",
      "Epoch 43/100\n",
      "500/500 [==============================] - 3s 7ms/step - loss: 0.4963 - accuracy: 0.8198 - val_loss: 1.0884 - val_accuracy: 0.5000\n",
      "Epoch 44/100\n",
      "500/500 [==============================] - 3s 7ms/step - loss: 0.4900 - accuracy: 0.8125 - val_loss: 1.0098 - val_accuracy: 0.5500\n",
      "Epoch 45/100\n",
      "500/500 [==============================] - 3s 7ms/step - loss: 0.4886 - accuracy: 0.8180 - val_loss: 1.1204 - val_accuracy: 0.4750\n",
      "Epoch 46/100\n",
      "500/500 [==============================] - 3s 7ms/step - loss: 0.4752 - accuracy: 0.8223 - val_loss: 1.1612 - val_accuracy: 0.4750\n",
      "Epoch 47/100\n",
      "500/500 [==============================] - 3s 7ms/step - loss: 0.4599 - accuracy: 0.8213 - val_loss: 1.1334 - val_accuracy: 0.5500\n",
      "Epoch 48/100\n",
      "500/500 [==============================] - 3s 7ms/step - loss: 0.4512 - accuracy: 0.8305 - val_loss: 1.1884 - val_accuracy: 0.5000\n",
      "Epoch 49/100\n",
      "500/500 [==============================] - 3s 7ms/step - loss: 0.4378 - accuracy: 0.8382 - val_loss: 1.1241 - val_accuracy: 0.4500\n",
      "Epoch 50/100\n",
      "500/500 [==============================] - 3s 7ms/step - loss: 0.4517 - accuracy: 0.8307 - val_loss: 1.1515 - val_accuracy: 0.4750\n",
      "Epoch 51/100\n",
      "500/500 [==============================] - 3s 7ms/step - loss: 0.4158 - accuracy: 0.8465 - val_loss: 1.1197 - val_accuracy: 0.5250\n",
      "Epoch 52/100\n"
     ]
    },
    {
     "name": "stdout",
     "output_type": "stream",
     "text": [
      "500/500 [==============================] - 3s 7ms/step - loss: 0.4102 - accuracy: 0.8487 - val_loss: 1.1167 - val_accuracy: 0.5000\n",
      "Epoch 53/100\n",
      "500/500 [==============================] - 3s 7ms/step - loss: 0.4123 - accuracy: 0.8455 - val_loss: 1.1392 - val_accuracy: 0.4750\n",
      "Epoch 54/100\n",
      "500/500 [==============================] - 3s 7ms/step - loss: 0.3991 - accuracy: 0.8510 - val_loss: 1.2035 - val_accuracy: 0.5250\n",
      "Epoch 55/100\n",
      "500/500 [==============================] - 3s 7ms/step - loss: 0.3692 - accuracy: 0.8677 - val_loss: 1.1981 - val_accuracy: 0.5000\n",
      "Epoch 56/100\n",
      "500/500 [==============================] - 3s 7ms/step - loss: 0.3801 - accuracy: 0.8572 - val_loss: 1.1541 - val_accuracy: 0.5500\n",
      "Epoch 57/100\n",
      "500/500 [==============================] - 3s 7ms/step - loss: 0.3710 - accuracy: 0.8602 - val_loss: 1.3226 - val_accuracy: 0.4750\n",
      "Epoch 58/100\n",
      "500/500 [==============================] - 3s 7ms/step - loss: 0.3531 - accuracy: 0.8665 - val_loss: 1.1840 - val_accuracy: 0.5250\n",
      "Epoch 59/100\n",
      "500/500 [==============================] - 3s 7ms/step - loss: 0.3519 - accuracy: 0.8680 - val_loss: 1.2674 - val_accuracy: 0.4750\n",
      "Epoch 60/100\n",
      "500/500 [==============================] - 3s 7ms/step - loss: 0.3442 - accuracy: 0.8715 - val_loss: 1.1036 - val_accuracy: 0.5250\n",
      "Epoch 61/100\n",
      "500/500 [==============================] - 3s 7ms/step - loss: 0.3422 - accuracy: 0.8742 - val_loss: 1.2224 - val_accuracy: 0.4750\n",
      "Epoch 62/100\n",
      "500/500 [==============================] - 3s 7ms/step - loss: 0.3185 - accuracy: 0.8815 - val_loss: 1.2156 - val_accuracy: 0.4750\n",
      "Epoch 63/100\n",
      "500/500 [==============================] - 3s 7ms/step - loss: 0.3306 - accuracy: 0.8710 - val_loss: 1.2694 - val_accuracy: 0.4750\n",
      "Epoch 64/100\n",
      "500/500 [==============================] - 3s 7ms/step - loss: 0.3088 - accuracy: 0.8920 - val_loss: 1.2344 - val_accuracy: 0.4250\n",
      "Epoch 65/100\n",
      "500/500 [==============================] - 3s 7ms/step - loss: 0.3189 - accuracy: 0.8805 - val_loss: 1.2807 - val_accuracy: 0.4750\n",
      "Epoch 66/100\n",
      "500/500 [==============================] - 3s 7ms/step - loss: 0.3050 - accuracy: 0.8915 - val_loss: 1.2375 - val_accuracy: 0.4250\n",
      "Epoch 67/100\n",
      "500/500 [==============================] - 3s 7ms/step - loss: 0.3071 - accuracy: 0.8907 - val_loss: 1.2282 - val_accuracy: 0.4750\n",
      "Epoch 68/100\n",
      "500/500 [==============================] - 3s 7ms/step - loss: 0.2955 - accuracy: 0.8938 - val_loss: 1.2724 - val_accuracy: 0.5250\n",
      "Epoch 69/100\n",
      "500/500 [==============================] - 3s 7ms/step - loss: 0.2813 - accuracy: 0.8982 - val_loss: 1.2963 - val_accuracy: 0.4500\n",
      "Epoch 70/100\n",
      "500/500 [==============================] - 3s 7ms/step - loss: 0.2789 - accuracy: 0.8942 - val_loss: 1.3847 - val_accuracy: 0.4500\n",
      "Epoch 71/100\n",
      "500/500 [==============================] - 3s 7ms/step - loss: 0.2769 - accuracy: 0.8938 - val_loss: 1.2006 - val_accuracy: 0.4750\n",
      "Epoch 72/100\n",
      "500/500 [==============================] - 3s 7ms/step - loss: 0.2762 - accuracy: 0.9000 - val_loss: 1.2432 - val_accuracy: 0.5000\n",
      "Epoch 73/100\n",
      "500/500 [==============================] - 3s 7ms/step - loss: 0.2697 - accuracy: 0.8930 - val_loss: 1.1820 - val_accuracy: 0.5000\n",
      "Epoch 74/100\n",
      "500/500 [==============================] - 3s 7ms/step - loss: 0.2615 - accuracy: 0.9053 - val_loss: 1.2628 - val_accuracy: 0.5000\n",
      "Epoch 75/100\n",
      "500/500 [==============================] - 3s 7ms/step - loss: 0.2574 - accuracy: 0.9093 - val_loss: 1.3424 - val_accuracy: 0.4750\n",
      "Epoch 76/100\n",
      "500/500 [==============================] - 3s 7ms/step - loss: 0.2561 - accuracy: 0.9007 - val_loss: 1.2719 - val_accuracy: 0.5000\n",
      "Epoch 77/100\n",
      "500/500 [==============================] - 3s 7ms/step - loss: 0.2535 - accuracy: 0.9075 - val_loss: 1.2305 - val_accuracy: 0.4750\n",
      "Epoch 78/100\n",
      "500/500 [==============================] - 3s 7ms/step - loss: 0.2407 - accuracy: 0.9100 - val_loss: 1.3110 - val_accuracy: 0.4750\n",
      "Epoch 79/100\n",
      "500/500 [==============================] - 3s 7ms/step - loss: 0.2428 - accuracy: 0.9075 - val_loss: 1.3679 - val_accuracy: 0.4750\n",
      "Epoch 80/100\n",
      "500/500 [==============================] - 3s 7ms/step - loss: 0.2544 - accuracy: 0.9055 - val_loss: 1.4696 - val_accuracy: 0.5250\n",
      "Epoch 81/100\n",
      "500/500 [==============================] - 3s 7ms/step - loss: 0.2355 - accuracy: 0.9100 - val_loss: 1.3726 - val_accuracy: 0.5250\n",
      "Epoch 82/100\n",
      "500/500 [==============================] - 3s 7ms/step - loss: 0.2255 - accuracy: 0.9180 - val_loss: 1.2906 - val_accuracy: 0.4750\n",
      "Epoch 83/100\n",
      "500/500 [==============================] - 3s 7ms/step - loss: 0.2351 - accuracy: 0.9120 - val_loss: 1.2612 - val_accuracy: 0.4750\n",
      "Epoch 84/100\n",
      "500/500 [==============================] - 3s 7ms/step - loss: 0.2237 - accuracy: 0.9195 - val_loss: 1.2985 - val_accuracy: 0.5000\n",
      "Epoch 85/100\n",
      "500/500 [==============================] - 3s 7ms/step - loss: 0.2181 - accuracy: 0.9180 - val_loss: 1.3601 - val_accuracy: 0.4750\n",
      "Epoch 86/100\n",
      "500/500 [==============================] - 3s 7ms/step - loss: 0.2164 - accuracy: 0.9210 - val_loss: 1.4655 - val_accuracy: 0.4500\n",
      "Epoch 87/100\n",
      "500/500 [==============================] - 3s 7ms/step - loss: 0.2140 - accuracy: 0.9183 - val_loss: 1.3969 - val_accuracy: 0.5250\n",
      "Epoch 88/100\n",
      "500/500 [==============================] - 3s 7ms/step - loss: 0.2154 - accuracy: 0.9170 - val_loss: 1.2919 - val_accuracy: 0.5750\n",
      "Epoch 89/100\n",
      "500/500 [==============================] - 3s 7ms/step - loss: 0.2211 - accuracy: 0.9147 - val_loss: 1.4631 - val_accuracy: 0.4750\n",
      "Epoch 90/100\n",
      "500/500 [==============================] - 3s 7ms/step - loss: 0.2062 - accuracy: 0.9215 - val_loss: 1.2452 - val_accuracy: 0.5500\n",
      "Epoch 91/100\n",
      "500/500 [==============================] - 3s 7ms/step - loss: 0.2007 - accuracy: 0.9285 - val_loss: 1.4781 - val_accuracy: 0.5750\n",
      "Epoch 92/100\n",
      "500/500 [==============================] - 3s 7ms/step - loss: 0.2029 - accuracy: 0.9233 - val_loss: 1.4247 - val_accuracy: 0.5000\n",
      "Epoch 93/100\n",
      "500/500 [==============================] - 3s 7ms/step - loss: 0.2039 - accuracy: 0.9265 - val_loss: 1.4086 - val_accuracy: 0.4500\n",
      "Epoch 94/100\n",
      "500/500 [==============================] - 4s 7ms/step - loss: 0.1802 - accuracy: 0.9337 - val_loss: 1.4045 - val_accuracy: 0.5250\n",
      "Epoch 95/100\n",
      "500/500 [==============================] - 4s 7ms/step - loss: 0.1905 - accuracy: 0.9285 - val_loss: 1.3754 - val_accuracy: 0.5500\n",
      "Epoch 96/100\n",
      "500/500 [==============================] - 3s 7ms/step - loss: 0.1889 - accuracy: 0.9273 - val_loss: 1.3524 - val_accuracy: 0.4500\n",
      "Epoch 97/100\n",
      "500/500 [==============================] - 3s 7ms/step - loss: 0.1884 - accuracy: 0.9285 - val_loss: 1.3581 - val_accuracy: 0.4750\n",
      "Epoch 98/100\n",
      "500/500 [==============================] - 3s 7ms/step - loss: 0.1837 - accuracy: 0.9345 - val_loss: 1.5469 - val_accuracy: 0.5000\n",
      "Epoch 99/100\n",
      "500/500 [==============================] - 3s 7ms/step - loss: 0.1871 - accuracy: 0.9345 - val_loss: 1.4241 - val_accuracy: 0.4750\n",
      "Epoch 100/100\n",
      "WARNING:tensorflow:Your input ran out of data; interrupting training. Make sure that your dataset or generator can generate at least `steps_per_epoch * epochs` batches (in this case, 50000 batches). You may need to use the repeat() function when building your dataset.\n",
      "500/500 [==============================] - 1s 2ms/step - loss: 0.1871 - accuracy: 0.9345 - val_loss: 1.4241 - val_accuracy: 0.4750\n"
     ]
    },
    {
     "data": {
      "text/plain": [
       "<keras.callbacks.History at 0x1d70c32aa30>"
      ]
     },
     "execution_count": 21,
     "metadata": {},
     "output_type": "execute_result"
    }
   ],
   "source": [
    "model = keras.Sequential([\n",
    "    keras.layers.Dense(input_shape = feature_train[0].shape, units=32, activation='relu'),\n",
    "    keras.layers.Dropout(0.5),\n",
    "    keras.layers.Dense(units=6, activation='softmax')])\n",
    "\n",
    "print(model.summary())\n",
    "model.compile(optimizer='adamax', \n",
    "              loss=tf.losses.CategoricalCrossentropy(),\n",
    "              metrics=['accuracy'])\n",
    "model.fit(np.asarray(feature_train), np.asarray(y2_train), epochs = 100, steps_per_epoch = 500, validation_split=0.01)"
   ]
  },
  {
   "cell_type": "markdown",
   "metadata": {
    "id": "z-8_3MK1rpZr"
   },
   "source": [
    "The outpout of our model is formed based on the probability of each sentence begin in class.\n",
    "For example, if my model outputs those prababilites :[0.1, 0.1, 0.2, 0.5], it means that my sentence has a 10% chance to be in the class 0, 10% chance to be in the class 1, 20% chance to be in the class and 50% chance to be in the class 0. This means we have to get the highest probable class and keep it as the predicted class for the sentence.\n",
    "\n",
    "Then, just so we can read the data, we have to convert it back from label to difficulties. with:\n",
    "\n",
    "*reverse={0:\"A1\", 1:\"A2\", 2:\"B1\",3:\"B2\",4:\"C1\", 5:\"C2\"}*\n"
   ]
  },
  {
   "cell_type": "code",
   "execution_count": 22,
   "metadata": {},
   "outputs": [
    {
     "name": "stdout",
     "output_type": "stream",
     "text": [
      "AxesSubplot(0.125,0.125;0.62x0.755)\n",
      "ACCURACY SCORE:\n",
      "0.5112\n",
      "CLASSIFICATION REPORT:\n",
      "\tPrecision: 0.5148\n",
      "\tRecall: 0.5161\n",
      "\tF1_Score: 0.5097\n"
     ]
    },
    {
     "data": {
      "image/png": "[encoded data removed]",
      "text/plain": [
       "<Figure size 432x288 with 3 Axes>"
      ]
     },
     "metadata": {
      "needs_background": "light"
     },
     "output_type": "display_data"
    }
   ],
   "source": [
    "pred_train=model.predict(feature_test)\n",
    "prediction_keras_train= []\n",
    "\n",
    "for i in pred_train:\n",
    "    prediction_keras_train.append(np.argmax(i))\n",
    "reverse={0:\"A1\", 1:\"A2\", 2:\"B1\",3:\"B2\",4:\"C1\", 5:\"C2\"}\n",
    "reversed_list_train=[reverse[k] for k in prediction_keras_train]\n",
    "\n",
    "evaluate(y1_test, prediction_keras_train)\n",
    "score, matrix = get_score(y_test, pred, \"Keras Sequential\")\n",
    "\n",
    "scores.append(score)\n",
    "matrixes.append(matrixes)"
   ]
  },
  {
   "cell_type": "markdown",
   "metadata": {
    "id": "z-8_3MK1rpZr"
   },
   "source": [
    "Now we can apply evertyhing onto the unlabelled dataset and create a .csv submission for kaggle."
   ]
  },
  {
   "cell_type": "code",
   "execution_count": 23,
   "metadata": {},
   "outputs": [
    {
     "name": "stdout",
     "output_type": "stream",
     "text": [
      "Feature 1 is done computing\n",
      "Feature 2 is done computing\n",
      "Feature 3 is done computing\n",
      "Feature 3 is done computing\n",
      "Features ready to be used\n"
     ]
    }
   ],
   "source": [
    "unlabelled = get_dataset.get_unlabelled_data()\n",
    "\n",
    "unlabelled_feature1=type_counter_unlabelled(data, unlabelled)\n",
    "print(\"Feature 1 is done computing\")\n",
    "unlabelled_feature2=vectorizer(unlabelled)\n",
    "print(\"Feature 2 is done computing\")\n",
    "unlabelled_feature3=word_len_counter(unlabelled)\n",
    "print(\"Feature 3 is done computing\")\n",
    "unlabelled_feature4=sk_vec_unlabelled(data,unlabelled)\n",
    "print(\"Feature 3 is done computing\")\n",
    "\n",
    "unlabelled_feature = np.concatenate((unlabelled_feature1, unlabelled_feature2),axis = 1)\n",
    "unlabelled_feature = np.concatenate((unlabelled_feature, unlabelled_feature3), axis = 1)\n",
    "unlabelled_feature = np.concatenate((unlabelled_feature, unlabelled_feature4), axis = 1)\n",
    "print(\"Features ready to be used\")"
   ]
  },
  {
   "cell_type": "code",
   "execution_count": 24,
   "metadata": {},
   "outputs": [
    {
     "name": "stdout",
     "output_type": "stream",
     "text": [
      "Model: \"sequential_1\"\n",
      "_________________________________________________________________\n",
      " Layer (type)                Output Shape              Param #   \n",
      "=================================================================\n",
      " dense_2 (Dense)             (None, 32)                2171264   \n",
      "                                                                 \n",
      " dropout_1 (Dropout)         (None, 32)                0         \n",
      "                                                                 \n",
      " dense_3 (Dense)             (None, 6)                 198       \n",
      "                                                                 \n",
      "=================================================================\n",
      "Total params: 2,171,462\n",
      "Trainable params: 2,171,462\n",
      "Non-trainable params: 0\n",
      "_________________________________________________________________\n",
      "None\n",
      "Epoch 1/100\n",
      "500/500 [==============================] - 4s 7ms/step - loss: 1.5188 - accuracy: 0.3365 - val_loss: 1.3980 - val_accuracy: 0.3542\n",
      "Epoch 2/100\n",
      "500/500 [==============================] - 4s 7ms/step - loss: 1.3972 - accuracy: 0.3828 - val_loss: 1.3555 - val_accuracy: 0.3750\n",
      "Epoch 3/100\n",
      "500/500 [==============================] - 4s 7ms/step - loss: 1.3511 - accuracy: 0.4050 - val_loss: 1.3002 - val_accuracy: 0.4792\n",
      "Epoch 4/100\n",
      "500/500 [==============================] - 4s 7ms/step - loss: 1.3056 - accuracy: 0.4231 - val_loss: 1.2673 - val_accuracy: 0.4375\n",
      "Epoch 5/100\n",
      "500/500 [==============================] - 4s 7ms/step - loss: 1.2481 - accuracy: 0.4645 - val_loss: 1.2570 - val_accuracy: 0.4167\n",
      "Epoch 6/100\n",
      "500/500 [==============================] - 4s 7ms/step - loss: 1.2341 - accuracy: 0.4696 - val_loss: 1.2008 - val_accuracy: 0.5208\n",
      "Epoch 7/100\n",
      "500/500 [==============================] - 4s 7ms/step - loss: 1.1986 - accuracy: 0.4824 - val_loss: 1.2554 - val_accuracy: 0.5000\n",
      "Epoch 8/100\n",
      "500/500 [==============================] - 4s 7ms/step - loss: 1.1589 - accuracy: 0.4946 - val_loss: 1.2129 - val_accuracy: 0.4792\n",
      "Epoch 9/100\n",
      "500/500 [==============================] - 4s 7ms/step - loss: 1.1288 - accuracy: 0.5240 - val_loss: 1.2043 - val_accuracy: 0.4167\n",
      "Epoch 10/100\n",
      "500/500 [==============================] - 4s 7ms/step - loss: 1.1260 - accuracy: 0.5222 - val_loss: 1.2030 - val_accuracy: 0.4167\n",
      "Epoch 11/100\n",
      "500/500 [==============================] - 4s 7ms/step - loss: 1.0881 - accuracy: 0.5399 - val_loss: 1.1857 - val_accuracy: 0.4167\n",
      "Epoch 12/100\n",
      "500/500 [==============================] - 4s 7ms/step - loss: 1.0699 - accuracy: 0.5583 - val_loss: 1.1586 - val_accuracy: 0.4583\n",
      "Epoch 13/100\n",
      "500/500 [==============================] - 4s 7ms/step - loss: 1.0513 - accuracy: 0.5599 - val_loss: 1.1375 - val_accuracy: 0.4792\n",
      "Epoch 14/100\n",
      "500/500 [==============================] - 4s 7ms/step - loss: 1.0122 - accuracy: 0.5741 - val_loss: 1.1093 - val_accuracy: 0.4375\n",
      "Epoch 15/100\n",
      "500/500 [==============================] - 4s 7ms/step - loss: 0.9866 - accuracy: 0.6022 - val_loss: 1.1140 - val_accuracy: 0.4583\n",
      "Epoch 16/100\n",
      "500/500 [==============================] - 4s 7ms/step - loss: 0.9786 - accuracy: 0.5942 - val_loss: 1.0906 - val_accuracy: 0.5417\n",
      "Epoch 17/100\n",
      "500/500 [==============================] - 4s 7ms/step - loss: 0.9523 - accuracy: 0.6184 - val_loss: 1.1026 - val_accuracy: 0.5208\n",
      "Epoch 18/100\n",
      "500/500 [==============================] - 4s 7ms/step - loss: 0.9203 - accuracy: 0.6282 - val_loss: 1.0863 - val_accuracy: 0.4792\n",
      "Epoch 19/100\n",
      "500/500 [==============================] - 4s 7ms/step - loss: 0.9133 - accuracy: 0.6322 - val_loss: 1.1127 - val_accuracy: 0.5000\n",
      "Epoch 20/100\n",
      "500/500 [==============================] - 3s 7ms/step - loss: 0.8823 - accuracy: 0.6445 - val_loss: 1.1191 - val_accuracy: 0.5000\n",
      "Epoch 21/100\n",
      "500/500 [==============================] - 4s 7ms/step - loss: 0.8608 - accuracy: 0.6639 - val_loss: 1.1386 - val_accuracy: 0.4375\n",
      "Epoch 22/100\n",
      "500/500 [==============================] - 4s 7ms/step - loss: 0.8456 - accuracy: 0.6599 - val_loss: 1.0911 - val_accuracy: 0.5417\n",
      "Epoch 23/100\n",
      "500/500 [==============================] - 4s 7ms/step - loss: 0.8103 - accuracy: 0.6841 - val_loss: 1.0942 - val_accuracy: 0.5000\n",
      "Epoch 24/100\n",
      "500/500 [==============================] - 4s 7ms/step - loss: 0.7950 - accuracy: 0.6923 - val_loss: 1.1084 - val_accuracy: 0.4792\n",
      "Epoch 25/100\n",
      "500/500 [==============================] - 4s 7ms/step - loss: 0.7742 - accuracy: 0.7011 - val_loss: 1.1002 - val_accuracy: 0.4583\n",
      "Epoch 26/100\n",
      "500/500 [==============================] - 4s 7ms/step - loss: 0.7593 - accuracy: 0.7045 - val_loss: 1.0848 - val_accuracy: 0.4583\n",
      "Epoch 27/100\n",
      "500/500 [==============================] - 4s 7ms/step - loss: 0.7352 - accuracy: 0.7133 - val_loss: 1.1058 - val_accuracy: 0.5417\n",
      "Epoch 28/100\n",
      "500/500 [==============================] - 4s 7ms/step - loss: 0.7053 - accuracy: 0.7296 - val_loss: 1.0947 - val_accuracy: 0.5417\n",
      "Epoch 29/100\n",
      "500/500 [==============================] - 4s 7ms/step - loss: 0.6895 - accuracy: 0.7336 - val_loss: 1.0961 - val_accuracy: 0.5208\n",
      "Epoch 30/100\n",
      "500/500 [==============================] - 4s 7ms/step - loss: 0.6786 - accuracy: 0.7404 - val_loss: 1.1102 - val_accuracy: 0.5625\n",
      "Epoch 31/100\n",
      "500/500 [==============================] - 4s 7ms/step - loss: 0.6623 - accuracy: 0.7486 - val_loss: 1.0958 - val_accuracy: 0.5417\n",
      "Epoch 32/100\n",
      "500/500 [==============================] - 4s 7ms/step - loss: 0.6185 - accuracy: 0.7690 - val_loss: 1.1772 - val_accuracy: 0.4167\n",
      "Epoch 33/100\n",
      "500/500 [==============================] - 4s 7ms/step - loss: 0.6287 - accuracy: 0.7584 - val_loss: 1.1289 - val_accuracy: 0.5417\n",
      "Epoch 34/100\n",
      "500/500 [==============================] - 4s 7ms/step - loss: 0.6029 - accuracy: 0.7698 - val_loss: 1.1324 - val_accuracy: 0.5833\n",
      "Epoch 35/100\n",
      "500/500 [==============================] - 4s 7ms/step - loss: 0.5768 - accuracy: 0.7907 - val_loss: 1.1107 - val_accuracy: 0.5833\n",
      "Epoch 36/100\n",
      "500/500 [==============================] - 4s 7ms/step - loss: 0.5831 - accuracy: 0.7827 - val_loss: 1.1682 - val_accuracy: 0.5833\n",
      "Epoch 37/100\n",
      "500/500 [==============================] - 4s 7ms/step - loss: 0.5428 - accuracy: 0.8015 - val_loss: 1.1737 - val_accuracy: 0.5208\n",
      "Epoch 38/100\n",
      "500/500 [==============================] - 4s 7ms/step - loss: 0.5359 - accuracy: 0.8019 - val_loss: 1.1720 - val_accuracy: 0.5000\n",
      "Epoch 39/100\n",
      "500/500 [==============================] - 4s 7ms/step - loss: 0.5256 - accuracy: 0.8043 - val_loss: 1.1710 - val_accuracy: 0.5833\n",
      "Epoch 40/100\n",
      "500/500 [==============================] - 4s 7ms/step - loss: 0.5138 - accuracy: 0.8080 - val_loss: 1.2192 - val_accuracy: 0.5208\n",
      "Epoch 41/100\n",
      "500/500 [==============================] - 4s 7ms/step - loss: 0.5020 - accuracy: 0.8141 - val_loss: 1.2216 - val_accuracy: 0.5417\n",
      "Epoch 42/100\n",
      "500/500 [==============================] - 4s 7ms/step - loss: 0.4745 - accuracy: 0.8229 - val_loss: 1.1786 - val_accuracy: 0.5417\n",
      "Epoch 43/100\n",
      "500/500 [==============================] - 4s 7ms/step - loss: 0.4781 - accuracy: 0.8223 - val_loss: 1.2727 - val_accuracy: 0.4375\n",
      "Epoch 44/100\n",
      "500/500 [==============================] - 4s 7ms/step - loss: 0.4732 - accuracy: 0.8245 - val_loss: 1.2544 - val_accuracy: 0.5417\n",
      "Epoch 45/100\n",
      "500/500 [==============================] - 4s 7ms/step - loss: 0.4557 - accuracy: 0.8287 - val_loss: 1.2370 - val_accuracy: 0.4583\n",
      "Epoch 46/100\n",
      "500/500 [==============================] - 4s 7ms/step - loss: 0.4261 - accuracy: 0.8423 - val_loss: 1.2849 - val_accuracy: 0.5208\n",
      "Epoch 47/100\n",
      "500/500 [==============================] - 4s 7ms/step - loss: 0.4366 - accuracy: 0.8371 - val_loss: 1.2665 - val_accuracy: 0.5208\n",
      "Epoch 48/100\n",
      "500/500 [==============================] - 4s 7ms/step - loss: 0.4233 - accuracy: 0.8438 - val_loss: 1.2701 - val_accuracy: 0.5625\n",
      "Epoch 49/100\n",
      "500/500 [==============================] - 4s 7ms/step - loss: 0.4093 - accuracy: 0.8480 - val_loss: 1.3061 - val_accuracy: 0.4792\n",
      "Epoch 50/100\n",
      "500/500 [==============================] - 4s 7ms/step - loss: 0.4082 - accuracy: 0.8492 - val_loss: 1.2917 - val_accuracy: 0.5417\n",
      "Epoch 51/100\n",
      "500/500 [==============================] - 4s 7ms/step - loss: 0.4044 - accuracy: 0.8538 - val_loss: 1.4156 - val_accuracy: 0.5208\n",
      "Epoch 52/100\n"
     ]
    },
    {
     "name": "stdout",
     "output_type": "stream",
     "text": [
      "500/500 [==============================] - 4s 7ms/step - loss: 0.3850 - accuracy: 0.8628 - val_loss: 1.2801 - val_accuracy: 0.5417\n",
      "Epoch 53/100\n",
      "500/500 [==============================] - 4s 7ms/step - loss: 0.3779 - accuracy: 0.8606 - val_loss: 1.3190 - val_accuracy: 0.5000\n",
      "Epoch 54/100\n",
      "500/500 [==============================] - 4s 7ms/step - loss: 0.3700 - accuracy: 0.8672 - val_loss: 1.3496 - val_accuracy: 0.5417\n",
      "Epoch 55/100\n",
      "500/500 [==============================] - 4s 7ms/step - loss: 0.3683 - accuracy: 0.8710 - val_loss: 1.3174 - val_accuracy: 0.5625\n",
      "Epoch 56/100\n",
      "500/500 [==============================] - 4s 7ms/step - loss: 0.3533 - accuracy: 0.8742 - val_loss: 1.3383 - val_accuracy: 0.5000\n",
      "Epoch 57/100\n",
      "500/500 [==============================] - 4s 7ms/step - loss: 0.3532 - accuracy: 0.8698 - val_loss: 1.3143 - val_accuracy: 0.5417\n",
      "Epoch 58/100\n",
      "500/500 [==============================] - 3s 7ms/step - loss: 0.3499 - accuracy: 0.8742 - val_loss: 1.3740 - val_accuracy: 0.5000\n",
      "Epoch 59/100\n",
      "500/500 [==============================] - 4s 7ms/step - loss: 0.3411 - accuracy: 0.8808 - val_loss: 1.3906 - val_accuracy: 0.5417\n",
      "Epoch 60/100\n",
      "500/500 [==============================] - 3s 7ms/step - loss: 0.3264 - accuracy: 0.8814 - val_loss: 1.3828 - val_accuracy: 0.5208\n",
      "Epoch 61/100\n",
      "500/500 [==============================] - 4s 7ms/step - loss: 0.3189 - accuracy: 0.8810 - val_loss: 1.4637 - val_accuracy: 0.5417\n",
      "Epoch 62/100\n",
      "500/500 [==============================] - 4s 7ms/step - loss: 0.2997 - accuracy: 0.8982 - val_loss: 1.4519 - val_accuracy: 0.5417\n",
      "Epoch 63/100\n",
      "500/500 [==============================] - 4s 7ms/step - loss: 0.3083 - accuracy: 0.8844 - val_loss: 1.4296 - val_accuracy: 0.5625\n",
      "Epoch 64/100\n",
      "500/500 [==============================] - 4s 7ms/step - loss: 0.3150 - accuracy: 0.8870 - val_loss: 1.4675 - val_accuracy: 0.5625\n",
      "Epoch 65/100\n",
      "500/500 [==============================] - 4s 7ms/step - loss: 0.2949 - accuracy: 0.8908 - val_loss: 1.4270 - val_accuracy: 0.5417\n",
      "Epoch 66/100\n",
      "500/500 [==============================] - 4s 7ms/step - loss: 0.2881 - accuracy: 0.8946 - val_loss: 1.5110 - val_accuracy: 0.3958\n",
      "Epoch 67/100\n",
      "500/500 [==============================] - 4s 7ms/step - loss: 0.2863 - accuracy: 0.8980 - val_loss: 1.5678 - val_accuracy: 0.5000\n",
      "Epoch 68/100\n",
      "500/500 [==============================] - 3s 7ms/step - loss: 0.2856 - accuracy: 0.8946 - val_loss: 1.4607 - val_accuracy: 0.5000\n",
      "Epoch 69/100\n",
      "500/500 [==============================] - 4s 7ms/step - loss: 0.2790 - accuracy: 0.9016 - val_loss: 1.5171 - val_accuracy: 0.5208\n",
      "Epoch 70/100\n",
      "500/500 [==============================] - 4s 7ms/step - loss: 0.2649 - accuracy: 0.9048 - val_loss: 1.5149 - val_accuracy: 0.4792\n",
      "Epoch 71/100\n",
      "500/500 [==============================] - 4s 7ms/step - loss: 0.2707 - accuracy: 0.8976 - val_loss: 1.5668 - val_accuracy: 0.5000\n",
      "Epoch 72/100\n",
      "500/500 [==============================] - 3s 7ms/step - loss: 0.2594 - accuracy: 0.9101 - val_loss: 1.5654 - val_accuracy: 0.4583\n",
      "Epoch 73/100\n",
      "500/500 [==============================] - 4s 7ms/step - loss: 0.2641 - accuracy: 0.9046 - val_loss: 1.6091 - val_accuracy: 0.4792\n",
      "Epoch 74/100\n",
      "500/500 [==============================] - 3s 7ms/step - loss: 0.2587 - accuracy: 0.9091 - val_loss: 1.5506 - val_accuracy: 0.4375\n",
      "Epoch 75/100\n",
      "500/500 [==============================] - 4s 7ms/step - loss: 0.2418 - accuracy: 0.9107 - val_loss: 1.5737 - val_accuracy: 0.4792\n",
      "Epoch 76/100\n",
      "500/500 [==============================] - 4s 7ms/step - loss: 0.2423 - accuracy: 0.9125 - val_loss: 1.6024 - val_accuracy: 0.5625\n",
      "Epoch 77/100\n",
      "500/500 [==============================] - 3s 7ms/step - loss: 0.2427 - accuracy: 0.9115 - val_loss: 1.6769 - val_accuracy: 0.3958\n",
      "Epoch 78/100\n",
      "500/500 [==============================] - 4s 7ms/step - loss: 0.2425 - accuracy: 0.9081 - val_loss: 1.6134 - val_accuracy: 0.4583\n",
      "Epoch 79/100\n",
      "500/500 [==============================] - 4s 7ms/step - loss: 0.2335 - accuracy: 0.9189 - val_loss: 1.6908 - val_accuracy: 0.4583\n",
      "Epoch 80/100\n",
      "500/500 [==============================] - 4s 7ms/step - loss: 0.2226 - accuracy: 0.9220 - val_loss: 1.7566 - val_accuracy: 0.4583\n",
      "Epoch 81/100\n",
      "500/500 [==============================] - 4s 7ms/step - loss: 0.2228 - accuracy: 0.9225 - val_loss: 1.7623 - val_accuracy: 0.4583\n",
      "Epoch 82/100\n",
      "500/500 [==============================] - 4s 7ms/step - loss: 0.2182 - accuracy: 0.9237 - val_loss: 1.6423 - val_accuracy: 0.5000\n",
      "Epoch 83/100\n",
      "500/500 [==============================] - 4s 7ms/step - loss: 0.2163 - accuracy: 0.9211 - val_loss: 1.6572 - val_accuracy: 0.4583\n",
      "Epoch 84/100\n",
      "500/500 [==============================] - 4s 7ms/step - loss: 0.2155 - accuracy: 0.9225 - val_loss: 1.7080 - val_accuracy: 0.4583\n",
      "Epoch 85/100\n",
      "500/500 [==============================] - 3s 7ms/step - loss: 0.2041 - accuracy: 0.9279 - val_loss: 1.7128 - val_accuracy: 0.4583\n",
      "Epoch 86/100\n",
      "500/500 [==============================] - 4s 7ms/step - loss: 0.2020 - accuracy: 0.9273 - val_loss: 1.7080 - val_accuracy: 0.4375\n",
      "Epoch 87/100\n",
      "500/500 [==============================] - 4s 7ms/step - loss: 0.2051 - accuracy: 0.9217 - val_loss: 1.6627 - val_accuracy: 0.5000\n",
      "Epoch 88/100\n",
      "500/500 [==============================] - 4s 7ms/step - loss: 0.2158 - accuracy: 0.9201 - val_loss: 1.7594 - val_accuracy: 0.4583\n",
      "Epoch 89/100\n",
      "500/500 [==============================] - 3s 7ms/step - loss: 0.2034 - accuracy: 0.9253 - val_loss: 1.7175 - val_accuracy: 0.4583\n",
      "Epoch 90/100\n",
      "500/500 [==============================] - 4s 7ms/step - loss: 0.2017 - accuracy: 0.9269 - val_loss: 1.7652 - val_accuracy: 0.4583\n",
      "Epoch 91/100\n",
      "500/500 [==============================] - 3s 7ms/step - loss: 0.2006 - accuracy: 0.9247 - val_loss: 1.7609 - val_accuracy: 0.4583\n",
      "Epoch 92/100\n",
      "500/500 [==============================] - 4s 7ms/step - loss: 0.1943 - accuracy: 0.9281 - val_loss: 1.7858 - val_accuracy: 0.4583\n",
      "Epoch 93/100\n",
      "500/500 [==============================] - 4s 7ms/step - loss: 0.1956 - accuracy: 0.9297 - val_loss: 1.7789 - val_accuracy: 0.5000\n",
      "Epoch 94/100\n",
      "500/500 [==============================] - 4s 7ms/step - loss: 0.1839 - accuracy: 0.9311 - val_loss: 1.8373 - val_accuracy: 0.4792\n",
      "Epoch 95/100\n",
      "500/500 [==============================] - 4s 7ms/step - loss: 0.1895 - accuracy: 0.9267 - val_loss: 1.8069 - val_accuracy: 0.4792\n",
      "Epoch 96/100\n",
      " 96/500 [====>.........................] - ETA: 2s - loss: 0.2046 - accuracy: 0.9208WARNING:tensorflow:Your input ran out of data; interrupting training. Make sure that your dataset or generator can generate at least `steps_per_epoch * epochs` batches (in this case, 50000 batches). You may need to use the repeat() function when building your dataset.\n",
      "500/500 [==============================] - 1s 2ms/step - loss: 0.2024 - accuracy: 0.9204 - val_loss: 1.8236 - val_accuracy: 0.4792\n"
     ]
    },
    {
     "data": {
      "text/plain": [
       "<keras.callbacks.History at 0x1d775654250>"
      ]
     },
     "execution_count": 24,
     "metadata": {},
     "output_type": "execute_result"
    }
   ],
   "source": [
    "model = keras.Sequential([\n",
    "    keras.layers.Dense(input_shape = feature[0].shape, units=32, activation='relu'),\n",
    "    keras.layers.Dropout(0.5),\n",
    "    keras.layers.Dense(units=6, activation='softmax'),\n",
    " \n",
    "])\n",
    "print(model.summary())\n",
    "model.compile(optimizer='adamax', \n",
    "              loss=tf.losses.CategoricalCrossentropy(),\n",
    "              metrics=['accuracy'])\n",
    "model.fit(np.asarray(feature), np.asarray(y2), epochs = 100, steps_per_epoch = 500, validation_split=0.01)"
   ]
  },
  {
   "cell_type": "code",
   "execution_count": 25,
   "metadata": {},
   "outputs": [
    {
     "name": "stdout",
     "output_type": "stream",
     "text": [
      "['C2', 'B1', 'B1', 'A2', 'C2', 'C2', 'A2', 'A2', 'C1', 'A2', 'A1', 'A2', 'B2', 'C1', 'A1', 'A2', 'B2', 'A1', 'B1', 'A1', 'C2', 'A1', 'B2', 'B2', 'B2', 'C2', 'A1', 'A1', 'C2', 'A2', 'A2', 'A2', 'A2', 'A1', 'A2', 'B1', 'C1', 'B2', 'A1', 'A1', 'A2', 'B2', 'C2', 'C1', 'B2', 'C1', 'B2', 'C1', 'A1', 'A1', 'C1', 'A1', 'C1', 'A2', 'A1', 'B2', 'C1', 'B1', 'B2', 'A2', 'B2', 'A2', 'C2', 'C1', 'C2', 'B2', 'B1', 'A2', 'B2', 'B2', 'A1', 'B2', 'B2', 'B1', 'C1', 'A2', 'B2', 'C1', 'A2', 'B2', 'A2', 'A2', 'B1', 'B1', 'A1', 'C2', 'B1', 'B2', 'B2', 'B1', 'C1', 'A2', 'C1', 'C2', 'A2', 'A2', 'A1', 'A2', 'B1', 'C2', 'B1', 'B2', 'A1', 'A2', 'C2', 'C2', 'B2', 'A1', 'A2', 'C1', 'B2', 'A1', 'C1', 'B2', 'C2', 'B1', 'C1', 'A2', 'A2', 'B2', 'A1', 'B1', 'B1', 'B2', 'A2', 'C2', 'C1', 'B2', 'C1', 'C1', 'A1', 'A2', 'B2', 'C2', 'B2', 'C2', 'A2', 'B2', 'B1', 'A2', 'A1', 'C1', 'C2', 'C2', 'C1', 'C1', 'A1', 'C1', 'C2', 'B1', 'B2', 'B2', 'A1', 'A2', 'A2', 'C2', 'C1', 'A1', 'A1', 'A1', 'A2', 'A1', 'B2', 'B2', 'B2', 'B2', 'A1', 'A1', 'B1', 'B2', 'A1', 'A2', 'A1', 'A2', 'A1', 'C1', 'C1', 'C1', 'B1', 'B1', 'A2', 'B1', 'B2', 'B1', 'B2', 'A1', 'A2', 'B1', 'C2', 'C2', 'A1', 'B2', 'C1', 'B1', 'B2', 'A2', 'C2', 'B2', 'B2', 'B1', 'B2', 'B2', 'B2', 'A1', 'C1', 'A1', 'A2', 'B1', 'A1', 'A2', 'B1', 'A1', 'A1', 'C1', 'B2', 'C1', 'B2', 'C1', 'A2', 'B1', 'B2', 'B2', 'A1', 'B1', 'A1', 'C1', 'A2', 'B2', 'A2', 'A1', 'C1', 'C2', 'C2', 'A1', 'B1', 'B2', 'C1', 'B1', 'C2', 'C2', 'B1', 'B1', 'A1', 'A2', 'B2', 'A2', 'B2', 'B1', 'A2', 'B2', 'B1', 'B1', 'A1', 'B2', 'C1', 'C2', 'A2', 'A1', 'A1', 'C2', 'A1', 'B1', 'A1', 'B2', 'B2', 'B2', 'B1', 'A2', 'C1', 'C1', 'C2', 'B1', 'A2', 'C1', 'A2', 'B2', 'B2', 'C2', 'B2', 'B2', 'A1', 'C1', 'B2', 'A2', 'A2', 'C2', 'B2', 'C2', 'B2', 'C2', 'C1', 'B1', 'B1', 'B2', 'C2', 'C1', 'B2', 'B1', 'A2', 'A1', 'A2', 'A1', 'C1', 'A1', 'C1', 'A1', 'B2', 'B2', 'C1', 'A1', 'C2', 'B2', 'B2', 'B2', 'C2', 'C2', 'A1', 'C2', 'B1', 'A1', 'C2', 'B2', 'C1', 'C2', 'A1', 'A1', 'C2', 'C1', 'A2', 'B1', 'C1', 'A2', 'A1', 'B2', 'A2', 'B2', 'A2', 'A1', 'C2', 'C2', 'B2', 'A1', 'B1', 'B1', 'C2', 'A2', 'A2', 'B2', 'A2', 'A2', 'C1', 'B2', 'C1', 'B2', 'B2', 'C2', 'B1', 'A2', 'C1', 'C1', 'A2', 'C1', 'C1', 'B1', 'B2', 'C2', 'A2', 'B1', 'A1', 'C2', 'B2', 'A1', 'C2', 'A1', 'C2', 'B1', 'A2', 'B1', 'A2', 'A2', 'A2', 'A1', 'B2', 'B1', 'B2', 'C1', 'C2', 'A1', 'C2', 'B1', 'C2', 'B1', 'A1', 'B2', 'C2', 'C1', 'A2', 'B1', 'B1', 'A1', 'B2', 'A2', 'A1', 'B2', 'A2', 'B2', 'B2', 'A1', 'A1', 'B2', 'B2', 'B2', 'C2', 'C2', 'B2', 'B2', 'B2', 'B2', 'A1', 'A2', 'A1', 'C2', 'B2', 'A1', 'B1', 'B2', 'A2', 'B2', 'A2', 'A2', 'A1', 'A1', 'B2', 'C2', 'A1', 'A1', 'C1', 'C2', 'B1', 'A1', 'B2', 'A2', 'C1', 'B2', 'B1', 'A1', 'B1', 'A2', 'B2', 'B1', 'C2', 'A1', 'A2', 'A2', 'A1', 'A1', 'C2', 'B2', 'A1', 'C2', 'B1', 'B2', 'B1', 'A2', 'B1', 'B2', 'B1', 'A1', 'B2', 'A1', 'A1', 'A1', 'B1', 'A2', 'C2', 'B2', 'B2', 'C1', 'A2', 'B2', 'B2', 'A2', 'A1', 'B2', 'C2', 'B2', 'A2', 'A2', 'C1', 'C1', 'B2', 'A2', 'A1', 'A2', 'C2', 'A1', 'B2', 'B2', 'C1', 'B2', 'B1', 'C2', 'A1', 'C1', 'C2', 'B2', 'A1', 'B2', 'B2', 'A2', 'B2', 'C1', 'B1', 'C1', 'B2', 'C1', 'A2', 'A1', 'B2', 'B2', 'B2', 'C1', 'A2', 'B1', 'A1', 'B1', 'C1', 'B2', 'B1', 'C1', 'B2', 'C2', 'C1', 'B2', 'C2', 'C2', 'A1', 'A1', 'C1', 'C2', 'B1', 'A1', 'A1', 'A1', 'A1', 'B2', 'A1', 'A2', 'B2', 'A2', 'A2', 'A2', 'B1', 'C2', 'B2', 'B2', 'A2', 'C1', 'A2', 'C2', 'B2', 'B1', 'C1', 'A1', 'B2', 'B2', 'A2', 'C1', 'C2', 'B1', 'C2', 'C2', 'B2', 'A1', 'B2', 'A2', 'B1', 'B2', 'A2', 'B1', 'B2', 'A2', 'C1', 'A2', 'B2', 'A2', 'B1', 'B2', 'B1', 'A1', 'A1', 'A1', 'B1', 'A2', 'A1', 'C2', 'B1', 'A2', 'B2', 'B2', 'B1', 'A2', 'A1', 'A1', 'C2', 'B2', 'A1', 'B1', 'A1', 'A2', 'B2', 'B1', 'C1', 'B2', 'B1', 'B2', 'A1', 'B2', 'A1', 'C1', 'C1', 'A2', 'A1', 'A2', 'B2', 'A2', 'A2', 'B1', 'C2', 'A1', 'B1', 'C1', 'B1', 'A1', 'C2', 'A1', 'B1', 'B2', 'A2', 'A2', 'C1', 'A1', 'A2', 'A2', 'B2', 'C2', 'B1', 'B1', 'C1', 'B2', 'A2', 'A2', 'C1', 'B1', 'B2', 'C2', 'A1', 'C2', 'B2', 'B2', 'C1', 'A2', 'A1', 'A2', 'A2', 'A2', 'B2', 'B2', 'B1', 'C2', 'C2', 'A2', 'B1', 'A2', 'A1', 'A1', 'B1', 'B1', 'C2', 'A1', 'C2', 'B2', 'C2', 'C1', 'A2', 'B1', 'A1', 'B2', 'C2', 'B2', 'A2', 'A2', 'C1', 'A2', 'C1', 'B1', 'A1', 'C2', 'A1', 'A2', 'A1', 'B2', 'A1', 'C2', 'B2', 'A2', 'C2', 'A2', 'A2', 'B2', 'C1', 'A2', 'B2', 'B1', 'A1', 'A1', 'C2', 'A2', 'A2', 'A2', 'C1', 'B1', 'C2', 'B2', 'B2', 'C1', 'C2', 'B2', 'C2', 'C2', 'A2', 'B1', 'B1', 'A1', 'B2', 'B2', 'C1', 'B2', 'B2', 'A2', 'C2', 'C1', 'A2', 'A2', 'B2', 'C1', 'A1', 'C2', 'B1', 'A2', 'C1', 'C2', 'B1', 'B1', 'A2', 'B2', 'B2', 'C1', 'B2', 'C1', 'A1', 'A1', 'A2', 'B1', 'A2', 'B2', 'C1', 'A2', 'A1', 'C1', 'B1', 'B2', 'C1', 'B2', 'C1', 'B2', 'A2', 'C2', 'B1', 'A1', 'B2', 'B1', 'C1', 'C1', 'C2', 'C2', 'B1', 'C1', 'B1', 'A2', 'A1', 'A2', 'A2', 'B1', 'C2', 'A2', 'C2', 'A2', 'C2', 'B2', 'A1', 'B1', 'A2', 'C2', 'C1', 'C1', 'C2', 'A2', 'A2', 'A1', 'C2', 'A2', 'A2', 'A2', 'B2', 'A2', 'A1', 'C1', 'B2', 'B2', 'C1', 'C2', 'C1', 'B1', 'B1', 'B1', 'B2', 'C2', 'B2', 'A1', 'A2', 'B2', 'B1', 'A1', 'B1', 'B2', 'B2', 'C2', 'A1', 'A1', 'A1', 'A1', 'B2', 'C1', 'B2', 'A1', 'A1', 'A2', 'B2', 'B2', 'B2', 'B2', 'A2', 'C2', 'C1', 'C2', 'B1', 'A2', 'A1', 'C1', 'A1', 'A2', 'A1', 'C1', 'A2', 'B2', 'C2', 'C2', 'B1', 'A2', 'A1', 'B1', 'C1', 'C2', 'A2', 'A2', 'A1', 'C1', 'C2', 'C1', 'C1', 'B2', 'A2', 'C1', 'C2', 'C2', 'C2', 'A1', 'C1', 'A1', 'A2', 'C1', 'A1', 'B2', 'B2', 'B2', 'B1', 'B2', 'B2', 'B1', 'B1', 'C2', 'C1', 'C1', 'C1', 'A2', 'A2', 'B2', 'A1', 'A1', 'A2', 'A2', 'B1', 'C1', 'B2', 'C2', 'B1', 'A2', 'C1', 'C2', 'A2', 'A2', 'B1', 'C1', 'B1', 'A1', 'B2', 'A1', 'A1', 'A1', 'B1', 'B2', 'C1', 'B2', 'C1', 'B1', 'B2', 'A1', 'B1', 'B2', 'B2', 'C1', 'B2', 'B1', 'B2', 'C1', 'A2', 'C2', 'B2', 'B2', 'A2', 'B2', 'B2', 'A2', 'B2', 'B1', 'A2', 'B2', 'B2', 'B2', 'A2', 'B1', 'B2', 'B2', 'B2', 'C2', 'A1', 'C2', 'A2', 'B1', 'A2', 'B2', 'A2', 'A1', 'A2', 'A1', 'B2', 'A2', 'B2', 'B2', 'B2', 'C2', 'B1', 'B1', 'B1', 'A2', 'C2', 'B1', 'C2', 'A2', 'A2', 'A1', 'C1', 'C2', 'A2', 'C1', 'C1', 'B2', 'A2', 'A1', 'A2', 'B1', 'B2', 'A1', 'B2', 'B2', 'A1', 'A2', 'C1', 'C1', 'C1', 'C2', 'A1', 'B2', 'B2', 'B1', 'B2', 'B1', 'A1', 'A1', 'B1', 'A1', 'A1', 'A2', 'A2', 'A2', 'B1', 'B2', 'B1', 'A2', 'A1', 'B2', 'A2', 'B2', 'B2', 'B2', 'B2', 'A1', 'A2', 'C1', 'A2', 'C1', 'A2', 'A2', 'B2', 'C1', 'B2', 'A1', 'C2', 'A2', 'C2', 'B1', 'B1', 'C2', 'A1', 'B2', 'C1', 'C1', 'C1', 'C2', 'B1', 'C2', 'B1', 'C1', 'B2', 'A1', 'B1', 'A2', 'C2', 'B1', 'C1', 'B2', 'C2', 'C2', 'B2', 'B1', 'A1', 'A1', 'C2', 'A1', 'B1', 'A1', 'A2', 'B2', 'C1', 'B2', 'A1', 'C2', 'A1', 'A2', 'C2', 'A2', 'C2', 'C1', 'C1', 'B1', 'B2', 'B2', 'A1', 'A1', 'A1', 'A1', 'C1', 'A1', 'B2', 'B2', 'B2', 'B1', 'B2', 'A1', 'C1', 'A1', 'B2', 'B2', 'B1', 'C1', 'B2', 'A2', 'B2', 'A1', 'A1', 'B2', 'B2', 'A2', 'A2', 'A2', 'C1', 'B1', 'A2', 'B2', 'A1', 'C2', 'B2', 'A2', 'B1', 'A1', 'C2', 'B1', 'B1', 'B1', 'C2', 'C1', 'A2', 'C1', 'C1', 'A1', 'B2', 'B1', 'B2', 'C2', 'B2', 'A2', 'A1', 'B2', 'C1', 'B1', 'C2', 'A1', 'C2', 'B1', 'B2', 'C1', 'B2', 'B2', 'C1', 'C2', 'C1', 'A2', 'B1', 'C2', 'A1', 'B1', 'B2', 'B2', 'C1', 'B2', 'A1', 'B1', 'A2', 'A1', 'C1', 'B1', 'A2', 'B1', 'B2', 'A2', 'C2', 'A2', 'B1', 'B1', 'B1', 'C1', 'A1', 'A1', 'A1', 'B1', 'A2', 'C2', 'A1', 'B2']\n"
     ]
    }
   ],
   "source": [
    "\n",
    "pred=model.predict(unlabelled_feature)\n",
    "prediction_keras= []\n",
    "for i in pred:\n",
    "  prediction_keras.append(np.argmax(i))\n",
    "\n",
    "\n",
    "reverse={0:\"A1\", 1:\"A2\", 2:\"B1\",3:\"B2\",4:\"C1\", 5:\"C2\"}\n",
    "\n",
    "reversed_list=[reverse[k] for k in prediction_keras]\n",
    "print(reversed_list)\n"
   ]
  },
  {
   "cell_type": "code",
   "execution_count": 26,
   "metadata": {},
   "outputs": [],
   "source": [
    "keras_submission = pd.DataFrame()\n",
    "keras_submission[\"difficulty\"]=reversed_list\n",
    "\n",
    "keras_submission.to_csv('keras_submission.csv')\n"
   ]
  },
  {
   "cell_type": "markdown",
   "metadata": {
    "id": "82FvnJycsBFf"
   },
   "source": [
    "#### 4.7. Show a summary of your results"
   ]
  },
  {
   "cell_type": "markdown",
   "metadata": {
    "id": "82FvnJycsBFf"
   },
   "source": [
    "Here is the aggregated table for the classifiers results (also available on GitHub). Our classifier is by far the best of all the classifiers we tried.\n",
    "\n",
    "## The final Kaagle submission score was 5.6250"
   ]
  },
  {
   "cell_type": "code",
   "execution_count": 27,
   "metadata": {},
   "outputs": [
    {
     "data": {
      "text/html": [
       "<div>\n",
       "<style scoped>\n",
       "    .dataframe tbody tr th:only-of-type {\n",
       "        vertical-align: middle;\n",
       "    }\n",
       "\n",
       "    .dataframe tbody tr th {\n",
       "        vertical-align: top;\n",
       "    }\n",
       "\n",
       "    .dataframe thead th {\n",
       "        text-align: right;\n",
       "    }\n",
       "</style>\n",
       "<table border=\"1\" class=\"dataframe\">\n",
       "  <thead>\n",
       "    <tr style=\"text-align: right;\">\n",
       "      <th></th>\n",
       "      <th>Precision</th>\n",
       "      <th>Recall</th>\n",
       "      <th>F1- score</th>\n",
       "      <th>Accuracy</th>\n",
       "    </tr>\n",
       "    <tr>\n",
       "      <th>Classifier</th>\n",
       "      <th></th>\n",
       "      <th></th>\n",
       "      <th></th>\n",
       "      <th></th>\n",
       "    </tr>\n",
       "  </thead>\n",
       "  <tbody>\n",
       "    <tr>\n",
       "      <th>Logisitc Regression</th>\n",
       "      <td>0.464496</td>\n",
       "      <td>0.467678</td>\n",
       "      <td>0.464014</td>\n",
       "      <td>0.466667</td>\n",
       "    </tr>\n",
       "    <tr>\n",
       "      <th>KNN</th>\n",
       "      <td>0.419700</td>\n",
       "      <td>0.354327</td>\n",
       "      <td>0.345031</td>\n",
       "      <td>0.354167</td>\n",
       "    </tr>\n",
       "    <tr>\n",
       "      <th>Decision Tree</th>\n",
       "      <td>0.286926</td>\n",
       "      <td>0.287274</td>\n",
       "      <td>0.284043</td>\n",
       "      <td>0.287500</td>\n",
       "    </tr>\n",
       "    <tr>\n",
       "      <th>Random Forest</th>\n",
       "      <td>0.418155</td>\n",
       "      <td>0.409777</td>\n",
       "      <td>0.396308</td>\n",
       "      <td>0.407292</td>\n",
       "    </tr>\n",
       "    <tr>\n",
       "      <th>Keras Sequential</th>\n",
       "      <td>0.418155</td>\n",
       "      <td>0.409777</td>\n",
       "      <td>0.396308</td>\n",
       "      <td>0.407292</td>\n",
       "    </tr>\n",
       "  </tbody>\n",
       "</table>\n",
       "</div>"
      ],
      "text/plain": [
       "                     Precision    Recall  F1- score  Accuracy\n",
       "Classifier                                                   \n",
       "Logisitc Regression   0.464496  0.467678   0.464014  0.466667\n",
       "KNN                   0.419700  0.354327   0.345031  0.354167\n",
       "Decision Tree         0.286926  0.287274   0.284043  0.287500\n",
       "Random Forest         0.418155  0.409777   0.396308  0.407292\n",
       "Keras Sequential      0.418155  0.409777   0.396308  0.407292"
      ]
     },
     "execution_count": 27,
     "metadata": {},
     "output_type": "execute_result"
    }
   ],
   "source": [
    "table = pd.DataFrame(scores, columns=[\"Classifier\", \"Precision\", \"Recall\", \"F1- score\", \"Accuracy\"])\n",
    "table=table.set_index('Classifier')\n",
    "table.head()"
   ]
  }
 ],
 "metadata": {
  "colab": {
   "name": "Copie de Project_guidelines_2021.ipynb",
   "provenance": []
  },
  "kernelspec": {
   "display_name": "Python 3 (ipykernel)",
   "language": "python",
   "name": "python3"
  },
  "language_info": {
   "codemirror_mode": {
    "name": "ipython",
    "version": 3
   },
   "file_extension": ".py",
   "mimetype": "text/x-python",
   "name": "python",
   "nbconvert_exporter": "python",
   "pygments_lexer": "ipython3",
   "version": "3.9.9"
  }
 },
 "nbformat": 4,
 "nbformat_minor": 1
}
