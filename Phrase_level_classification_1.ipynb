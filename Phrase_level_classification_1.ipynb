{
  "cells": [
    {
      "cell_type": "markdown",
      "metadata": {
        "id": "view-in-github",
        "colab_type": "text"
      },
      "source": [
        "<a href=\"https://colab.research.google.com/github/TADY25/Unil_Tissot/blob/main/Phrase_level_classification_1.ipynb\" target=\"_parent\"><img src=\"https://colab.research.google.com/assets/colab-badge.svg\" alt=\"Open In Colab\"/></a>"
      ]
    },
    {
      "cell_type": "code",
      "execution_count": 1,
      "metadata": {
        "colab": {
          "base_uri": "https://localhost:8080/"
        },
        "id": "306e663e",
        "outputId": "c20f49d2-1ec3-448f-bc89-2ff975477f39"
      },
      "outputs": [
        {
          "output_type": "stream",
          "name": "stdout",
          "text": [
            "Collecting fr_core_news_md==2.2.5\n",
            "  Downloading https://github.com/explosion/spacy-models/releases/download/fr_core_news_md-2.2.5/fr_core_news_md-2.2.5.tar.gz (88.6 MB)\n",
            "\u001b[K     |████████████████████████████████| 88.6 MB 1.7 MB/s \n",
            "\u001b[?25hRequirement already satisfied: spacy>=2.2.2 in /usr/local/lib/python3.7/dist-packages (from fr_core_news_md==2.2.5) (2.2.4)\n",
            "Requirement already satisfied: requests<3.0.0,>=2.13.0 in /usr/local/lib/python3.7/dist-packages (from spacy>=2.2.2->fr_core_news_md==2.2.5) (2.23.0)\n",
            "Requirement already satisfied: setuptools in /usr/local/lib/python3.7/dist-packages (from spacy>=2.2.2->fr_core_news_md==2.2.5) (57.4.0)\n",
            "Requirement already satisfied: wasabi<1.1.0,>=0.4.0 in /usr/local/lib/python3.7/dist-packages (from spacy>=2.2.2->fr_core_news_md==2.2.5) (0.8.2)\n",
            "Requirement already satisfied: srsly<1.1.0,>=1.0.2 in /usr/local/lib/python3.7/dist-packages (from spacy>=2.2.2->fr_core_news_md==2.2.5) (1.0.5)\n",
            "Requirement already satisfied: plac<1.2.0,>=0.9.6 in /usr/local/lib/python3.7/dist-packages (from spacy>=2.2.2->fr_core_news_md==2.2.5) (1.1.3)\n",
            "Requirement already satisfied: murmurhash<1.1.0,>=0.28.0 in /usr/local/lib/python3.7/dist-packages (from spacy>=2.2.2->fr_core_news_md==2.2.5) (1.0.6)\n",
            "Requirement already satisfied: numpy>=1.15.0 in /usr/local/lib/python3.7/dist-packages (from spacy>=2.2.2->fr_core_news_md==2.2.5) (1.19.5)\n",
            "Requirement already satisfied: cymem<2.1.0,>=2.0.2 in /usr/local/lib/python3.7/dist-packages (from spacy>=2.2.2->fr_core_news_md==2.2.5) (2.0.6)\n",
            "Requirement already satisfied: thinc==7.4.0 in /usr/local/lib/python3.7/dist-packages (from spacy>=2.2.2->fr_core_news_md==2.2.5) (7.4.0)\n",
            "Requirement already satisfied: blis<0.5.0,>=0.4.0 in /usr/local/lib/python3.7/dist-packages (from spacy>=2.2.2->fr_core_news_md==2.2.5) (0.4.1)\n",
            "Requirement already satisfied: preshed<3.1.0,>=3.0.2 in /usr/local/lib/python3.7/dist-packages (from spacy>=2.2.2->fr_core_news_md==2.2.5) (3.0.6)\n",
            "Requirement already satisfied: catalogue<1.1.0,>=0.0.7 in /usr/local/lib/python3.7/dist-packages (from spacy>=2.2.2->fr_core_news_md==2.2.5) (1.0.0)\n",
            "Requirement already satisfied: tqdm<5.0.0,>=4.38.0 in /usr/local/lib/python3.7/dist-packages (from spacy>=2.2.2->fr_core_news_md==2.2.5) (4.62.3)\n",
            "Requirement already satisfied: importlib-metadata>=0.20 in /usr/local/lib/python3.7/dist-packages (from catalogue<1.1.0,>=0.0.7->spacy>=2.2.2->fr_core_news_md==2.2.5) (4.8.2)\n",
            "Requirement already satisfied: typing-extensions>=3.6.4 in /usr/local/lib/python3.7/dist-packages (from importlib-metadata>=0.20->catalogue<1.1.0,>=0.0.7->spacy>=2.2.2->fr_core_news_md==2.2.5) (3.10.0.2)\n",
            "Requirement already satisfied: zipp>=0.5 in /usr/local/lib/python3.7/dist-packages (from importlib-metadata>=0.20->catalogue<1.1.0,>=0.0.7->spacy>=2.2.2->fr_core_news_md==2.2.5) (3.6.0)\n",
            "Requirement already satisfied: urllib3!=1.25.0,!=1.25.1,<1.26,>=1.21.1 in /usr/local/lib/python3.7/dist-packages (from requests<3.0.0,>=2.13.0->spacy>=2.2.2->fr_core_news_md==2.2.5) (1.24.3)\n",
            "Requirement already satisfied: idna<3,>=2.5 in /usr/local/lib/python3.7/dist-packages (from requests<3.0.0,>=2.13.0->spacy>=2.2.2->fr_core_news_md==2.2.5) (2.10)\n",
            "Requirement already satisfied: chardet<4,>=3.0.2 in /usr/local/lib/python3.7/dist-packages (from requests<3.0.0,>=2.13.0->spacy>=2.2.2->fr_core_news_md==2.2.5) (3.0.4)\n",
            "Requirement already satisfied: certifi>=2017.4.17 in /usr/local/lib/python3.7/dist-packages (from requests<3.0.0,>=2.13.0->spacy>=2.2.2->fr_core_news_md==2.2.5) (2021.10.8)\n",
            "\u001b[38;5;2m✔ Download and installation successful\u001b[0m\n",
            "You can now load the model via spacy.load('fr_core_news_md')\n"
          ]
        }
      ],
      "source": [
        "import pandas as pd\n",
        "import numpy as np\n",
        "from tqdm import tqdm\n",
        "import spacy\n",
        "from gensim.models import word2vec\n",
        "from sklearn.feature_extraction.text import CountVectorizer\n",
        "\n",
        "\n",
        "from sklearn.linear_model import LogisticRegression\n",
        "from sklearn.metrics import confusion_matrix, accuracy_score, precision_score, recall_score, f1_score\n",
        "from sklearn.neighbors import KNeighborsClassifier\n",
        "from sklearn.tree import DecisionTreeClassifier\n",
        "from sklearn.ensemble import RandomForestClassifier\n",
        "import csv\n",
        "\n",
        "#Keras is used to create a prediciton model with neurons layers\n",
        "import tensorflow as tf\n",
        "from tensorflow import keras\n",
        "\n",
        "!python -m spacy download fr_core_news_md"
      ],
      "id": "306e663e"
    },
    {
      "cell_type": "code",
      "execution_count": 2,
      "metadata": {
        "id": "4da26dcb"
      },
      "outputs": [],
      "source": [
        "#Importing the data\n",
        "\n",
        "data = pd.read_csv('training_data.csv')\n",
        "data.drop(columns = ['id'], inplace = True)"
      ],
      "id": "4da26dcb"
    },
    {
      "cell_type": "code",
      "execution_count": 3,
      "metadata": {
        "id": "2zc33DsJcJAv"
      },
      "outputs": [],
      "source": [
        "def type_counter_unlabelled(df_fit, df_transform):\n",
        "    nlp = spacy.load('fr_core_news_md')\n",
        "    dif_typ = []\n",
        "    \n",
        "    for i in range(df_fit.shape[0]):\n",
        "        doc = nlp(df_fit['sentence'].iloc[i])\n",
        "        for j in doc:\n",
        "            if j.pos_ not in dif_typ:\n",
        "                dif_typ.append(j.pos_)\n",
        "                \n",
        "    res = []\n",
        "    \n",
        "    for i in range(df_transform.shape[0]):\n",
        "        temp = np.zeros(len(dif_typ))\n",
        "        doc = nlp(df_transform['sentence'].iloc[i])\n",
        "        for j in doc:\n",
        "            ind = dif_typ.index(j.pos_)\n",
        "            temp[ind] += 1\n",
        "        res.append(temp)\n",
        "        \n",
        "                \n",
        "    return res"
      ],
      "id": "2zc33DsJcJAv"
    },
    {
      "cell_type": "code",
      "execution_count": 4,
      "metadata": {
        "id": "abd18a35"
      },
      "outputs": [],
      "source": [
        "def type_counter(df):\n",
        "    nlp = spacy.load('fr_core_news_md')\n",
        "    dif_typ = []\n",
        "    \n",
        "    for i in range(df.shape[0]):\n",
        "        doc = nlp(df['sentence'].iloc[i])\n",
        "        for j in doc:\n",
        "            if j.pos_ not in dif_typ:\n",
        "                dif_typ.append(j.pos_)\n",
        "                \n",
        "    res = []\n",
        "    \n",
        "    for i in range(df.shape[0]):\n",
        "        temp = np.zeros(len(dif_typ))\n",
        "        doc = nlp(df['sentence'].iloc[i])\n",
        "        for j in doc:\n",
        "            ind = dif_typ.index(j.pos_)\n",
        "            temp[ind] += 1\n",
        "        res.append(temp)\n",
        "        \n",
        "                \n",
        "    return res"
      ],
      "id": "abd18a35"
    },
    {
      "cell_type": "code",
      "execution_count": 5,
      "metadata": {
        "id": "4b8f8334"
      },
      "outputs": [],
      "source": [
        "def sk_vec(df):\n",
        "    phrases = df['sentence'].tolist()\n",
        "    vectorizer = CountVectorizer()\n",
        "    return vectorizer.fit_transform(phrases).toarray()"
      ],
      "id": "4b8f8334"
    },
    {
      "cell_type": "code",
      "execution_count": 6,
      "metadata": {
        "id": "ln-VnSwwUbst"
      },
      "outputs": [],
      "source": [
        "def sk_vec_unlabelled(df_fit, df_transform):\n",
        "  phrases_fit = df_fit['sentence'].tolist()\n",
        "  phrases_transform = df_transform['sentence'].tolist()\n",
        "  vectorizer = CountVectorizer()\n",
        "  vectorizer.fit(phrases_fit)\n",
        "  return vectorizer.transform(phrases_transform).toarray()\n",
        "\n",
        "  "
      ],
      "id": "ln-VnSwwUbst"
    },
    {
      "cell_type": "code",
      "execution_count": 7,
      "metadata": {
        "id": "67936ab7"
      },
      "outputs": [],
      "source": [
        "def vectorizer(df):\n",
        "    tokenized_sentence = []\n",
        "    nlp = spacy.load('fr_core_news_md')\n",
        "    for sentence in df['sentence'].tolist():\n",
        "        doc = nlp(sentence)\n",
        "        tokenized_sentence.append(doc.vector)\n",
        "        \n",
        "    return tokenized_sentence            "
      ],
      "id": "67936ab7"
    },
    {
      "cell_type": "code",
      "execution_count": 8,
      "metadata": {
        "id": "f8735f35"
      },
      "outputs": [],
      "source": [
        "def word_len_counter(df):\n",
        "    res = []\n",
        "    nlp = spacy.load('fr_core_news_md')\n",
        "    for sentence in df['sentence'].tolist():\n",
        "        temp = []\n",
        "        doc = nlp(sentence)\n",
        "        #doc=nb mots dans une phrase (ponct comprise)\n",
        "        temp.append(len(doc))\n",
        "        #sentence = nb de caractères dans une phrase(ponct comprise)\n",
        "        temp.append(len(sentence))\n",
        "        res.append(temp)\n",
        "    return res\n",
        "        "
      ],
      "id": "f8735f35"
    },
    {
      "cell_type": "code",
      "execution_count": 9,
      "metadata": {
        "id": "21426b4b"
      },
      "outputs": [],
      "source": [
        "def prepare_output(df):\n",
        "    res1 = df['difficulty'].map({'A1':0, 'A2':1, 'B1':2,'B2':3,'C1':4,'C2':5}).tolist()\n",
        "    \n",
        "    res2 = []\n",
        "    mapping =  {'A1':0, 'A2':1, 'B1':2,'B2':3,'C1':4,'C2':5}\n",
        "    for i in range(len(df)):\n",
        "        temp = np.zeros(6)\n",
        "        temp[mapping[df['difficulty'].iloc[i]]] = 1\n",
        "        res2.append(temp)\n",
        "        \n",
        "    \n",
        "    return res1, res2"
      ],
      "id": "21426b4b"
    },
    {
      "cell_type": "code",
      "execution_count": 10,
      "metadata": {
        "id": "e9295f3b"
      },
      "outputs": [],
      "source": [
        "def tf_accuracy(model, X,y):\n",
        "    pred = model.predict(X)\n",
        "    correct = 0\n",
        "    for i in range(len(pred)):\n",
        "        val =np.argmax(pred[i])\n",
        "        if y[i][val] == 1:\n",
        "            correct +=1\n",
        "    return correct/len(y)"
      ],
      "id": "e9295f3b"
    },
    {
      "cell_type": "code",
      "execution_count": 11,
      "metadata": {
        "id": "u9bJ4_8bwEeC"
      },
      "outputs": [],
      "source": [
        "def evaluate(true, pred):\n",
        "    precision = precision_score(true, pred, average=\"weighted\")\n",
        "    recall = recall_score(true, pred, average=\"weighted\")\n",
        "    f1 = f1_score(true, pred, average=\"weighted\")\n",
        "    print(confusion_matrix(true, pred))\n",
        "    print(accuracy_score(true, pred))\n",
        "    print(precision, recall, f1)"
      ],
      "id": "u9bJ4_8bwEeC"
    },
    {
      "cell_type": "code",
      "execution_count": 12,
      "metadata": {
        "id": "0cbe29c6"
      },
      "outputs": [],
      "source": [
        "feature1 = type_counter(data)\n",
        "feature2 = vectorizer(data)\n",
        "feature3 = word_len_counter(data)\n",
        "feature4 = sk_vec(data)\n",
        "\n",
        "feature = np.concatenate((feature1, feature2),axis = 1)\n",
        "feature = np.concatenate((feature, feature3), axis = 1)\n",
        "feature = np.concatenate((feature, feature4), axis = 1)"
      ],
      "id": "0cbe29c6"
    },
    {
      "cell_type": "code",
      "execution_count": 13,
      "metadata": {
        "id": "33c150d3"
      },
      "outputs": [],
      "source": [
        "feature = np.concatenate((feature1, feature2),axis = 1)\n",
        "feature = np.concatenate((feature, feature3), axis = 1)\n",
        "feature = np.concatenate((feature, feature4), axis = 1)"
      ],
      "id": "33c150d3"
    },
    {
      "cell_type": "code",
      "execution_count": 14,
      "metadata": {
        "id": "1fc84c0f"
      },
      "outputs": [],
      "source": [
        "y1, y2 = prepare_output(data)"
      ],
      "id": "1fc84c0f"
    },
    {
      "cell_type": "code",
      "execution_count": 15,
      "metadata": {
        "id": "2ac5da43"
      },
      "outputs": [],
      "source": [
        "#X_train\n",
        "#feature1_train = np.array(feature)\n",
        "#y2_train = np.asarray(y2)\n",
        "#y1_train = np.asarray(y1)\n",
        "feature_train = np.array(feature[:4000])\n",
        "feature4_train = np.array(feature4[:4000])\n",
        "y2_train = np.asarray(y2[:4000])\n",
        "y1_train = np.asarray(y1[:4000])\n",
        "#X_test\n",
        "feature_test = np.array(feature[4000:])\n",
        "feature4_test = np.array(feature4[4000:])\n",
        "y2_test = np.asarray(y2[4000:])\n",
        "y1_test = np.asarray(y1[4000:])"
      ],
      "id": "2ac5da43"
    },
    {
      "cell_type": "code",
      "execution_count": 16,
      "metadata": {
        "colab": {
          "base_uri": "https://localhost:8080/"
        },
        "id": "5xELQhsDz12h",
        "outputId": "94355cd2-89dd-42ce-dc40-1122d88e2fe4"
      },
      "outputs": [
        {
          "output_type": "stream",
          "name": "stdout",
          "text": [
            "800\n"
          ]
        }
      ],
      "source": [
        "print(len(feature4_test))"
      ],
      "id": "5xELQhsDz12h"
    },
    {
      "cell_type": "code",
      "execution_count": 17,
      "metadata": {
        "id": "0WPg8BfQJUu_"
      },
      "outputs": [],
      "source": [
        "unlabelled = pd.read_csv('unlabelled_test_data.csv')\n",
        "unlabelled.drop(columns = ['id'], inplace = True)\n",
        "\n",
        "unlabelled_feature1=type_counter_unlabelled(data, unlabelled)\n",
        "unlabelled_feature2=vectorizer(unlabelled)\n",
        "unlabelled_feature3=word_len_counter(unlabelled)\n",
        "unlabelled_feature4=sk_vec_unlabelled(data,unlabelled)\n",
        "\n",
        "unlabelled_feature = np.concatenate((unlabelled_feature1, unlabelled_feature2),axis = 1)\n",
        "unlabelled_feature = np.concatenate((unlabelled_feature, unlabelled_feature3), axis = 1)\n",
        "unlabelled_feature = np.concatenate((unlabelled_feature, unlabelled_feature4), axis = 1)\n",
        "\n",
        "unlabelled_feature = np.array(unlabelled_feature)"
      ],
      "id": "0WPg8BfQJUu_"
    },
    {
      "cell_type": "code",
      "execution_count": 18,
      "metadata": {
        "id": "TQsy5HAH1e7z",
        "colab": {
          "base_uri": "https://localhost:8080/"
        },
        "outputId": "c183ac30-c8fd-4d00-8920-cf96c2fc06f5"
      },
      "outputs": [
        {
          "output_type": "stream",
          "name": "stdout",
          "text": [
            "Model: \"sequential\"\n",
            "_________________________________________________________________\n",
            " Layer (type)                Output Shape              Param #   \n",
            "=================================================================\n",
            " dense (Dense)               (None, 512)               7631360   \n",
            "                                                                 \n",
            " dropout (Dropout)           (None, 512)               0         \n",
            "                                                                 \n",
            " dense_1 (Dense)             (None, 6)                 3078      \n",
            "                                                                 \n",
            "=================================================================\n",
            "Total params: 7,634,438\n",
            "Trainable params: 7,634,438\n",
            "Non-trainable params: 0\n",
            "_________________________________________________________________\n",
            "None\n",
            "Epoch 1/100\n",
            "500/500 [==============================] - 23s 45ms/step - loss: 1.6148 - accuracy: 0.3518 - val_loss: 1.4114 - val_accuracy: 0.4167\n",
            "Epoch 2/100\n",
            "500/500 [==============================] - 22s 45ms/step - loss: 1.3235 - accuracy: 0.4421 - val_loss: 1.3590 - val_accuracy: 0.4792\n",
            "Epoch 3/100\n",
            "500/500 [==============================] - 22s 45ms/step - loss: 1.2521 - accuracy: 0.4669 - val_loss: 1.2977 - val_accuracy: 0.4167\n",
            "Epoch 4/100\n",
            "500/500 [==============================] - 22s 44ms/step - loss: 1.2062 - accuracy: 0.4890 - val_loss: 1.2641 - val_accuracy: 0.4375\n",
            "Epoch 5/100\n",
            "500/500 [==============================] - 22s 45ms/step - loss: 1.1479 - accuracy: 0.5134 - val_loss: 1.2774 - val_accuracy: 0.4792\n",
            "Epoch 6/100\n",
            "500/500 [==============================] - 23s 45ms/step - loss: 1.1193 - accuracy: 0.5294 - val_loss: 1.2863 - val_accuracy: 0.3333\n",
            "Epoch 7/100\n",
            "500/500 [==============================] - 22s 45ms/step - loss: 1.0801 - accuracy: 0.5491 - val_loss: 1.2904 - val_accuracy: 0.3750\n",
            "Epoch 8/100\n",
            "500/500 [==============================] - 22s 45ms/step - loss: 1.0250 - accuracy: 0.5733 - val_loss: 1.2662 - val_accuracy: 0.3958\n",
            "Epoch 9/100\n",
            "500/500 [==============================] - 23s 45ms/step - loss: 1.0083 - accuracy: 0.5781 - val_loss: 1.2990 - val_accuracy: 0.3333\n",
            "Epoch 10/100\n",
            "500/500 [==============================] - 23s 45ms/step - loss: 0.9813 - accuracy: 0.6066 - val_loss: 1.2592 - val_accuracy: 0.4375\n",
            "Epoch 11/100\n",
            "500/500 [==============================] - 23s 46ms/step - loss: 0.9406 - accuracy: 0.6186 - val_loss: 1.2476 - val_accuracy: 0.4375\n",
            "Epoch 12/100\n",
            "500/500 [==============================] - 23s 45ms/step - loss: 0.9135 - accuracy: 0.6486 - val_loss: 1.2882 - val_accuracy: 0.4167\n",
            "Epoch 13/100\n",
            "500/500 [==============================] - 22s 45ms/step - loss: 0.8657 - accuracy: 0.6729 - val_loss: 1.2832 - val_accuracy: 0.4792\n",
            "Epoch 14/100\n",
            "500/500 [==============================] - 23s 45ms/step - loss: 0.8426 - accuracy: 0.6637 - val_loss: 1.3075 - val_accuracy: 0.3958\n",
            "Epoch 15/100\n",
            "500/500 [==============================] - 22s 45ms/step - loss: 0.8141 - accuracy: 0.6833 - val_loss: 1.3146 - val_accuracy: 0.3542\n",
            "Epoch 16/100\n",
            "500/500 [==============================] - 23s 45ms/step - loss: 0.7880 - accuracy: 0.6981 - val_loss: 1.2567 - val_accuracy: 0.3958\n",
            "Epoch 17/100\n",
            "500/500 [==============================] - 22s 45ms/step - loss: 0.7422 - accuracy: 0.7322 - val_loss: 1.2697 - val_accuracy: 0.3542\n",
            "Epoch 18/100\n",
            "500/500 [==============================] - 23s 45ms/step - loss: 0.7097 - accuracy: 0.7406 - val_loss: 1.3552 - val_accuracy: 0.3958\n",
            "Epoch 19/100\n",
            "500/500 [==============================] - 23s 45ms/step - loss: 0.6796 - accuracy: 0.7544 - val_loss: 1.3232 - val_accuracy: 0.3542\n",
            "Epoch 20/100\n",
            "500/500 [==============================] - 23s 45ms/step - loss: 0.6437 - accuracy: 0.7695 - val_loss: 1.3406 - val_accuracy: 0.4792\n",
            "Epoch 21/100\n",
            "500/500 [==============================] - 22s 45ms/step - loss: 0.6235 - accuracy: 0.7784 - val_loss: 1.3494 - val_accuracy: 0.4375\n",
            "Epoch 22/100\n",
            "500/500 [==============================] - 23s 45ms/step - loss: 0.5869 - accuracy: 0.7957 - val_loss: 1.4107 - val_accuracy: 0.4792\n",
            "Epoch 23/100\n",
            "500/500 [==============================] - 22s 45ms/step - loss: 0.5630 - accuracy: 0.8071 - val_loss: 1.3797 - val_accuracy: 0.3750\n",
            "Epoch 24/100\n",
            "500/500 [==============================] - 22s 45ms/step - loss: 0.5249 - accuracy: 0.8207 - val_loss: 1.3190 - val_accuracy: 0.4583\n",
            "Epoch 25/100\n",
            "500/500 [==============================] - 22s 45ms/step - loss: 0.5029 - accuracy: 0.8311 - val_loss: 1.4300 - val_accuracy: 0.4375\n",
            "Epoch 26/100\n",
            "500/500 [==============================] - 22s 45ms/step - loss: 0.4759 - accuracy: 0.8446 - val_loss: 1.4323 - val_accuracy: 0.3958\n",
            "Epoch 27/100\n",
            "500/500 [==============================] - 22s 45ms/step - loss: 0.4670 - accuracy: 0.8413 - val_loss: 1.3709 - val_accuracy: 0.4375\n",
            "Epoch 28/100\n",
            "500/500 [==============================] - 23s 45ms/step - loss: 0.4328 - accuracy: 0.8586 - val_loss: 1.3941 - val_accuracy: 0.4375\n",
            "Epoch 29/100\n",
            "500/500 [==============================] - 22s 45ms/step - loss: 0.4189 - accuracy: 0.8654 - val_loss: 1.4599 - val_accuracy: 0.3958\n",
            "Epoch 30/100\n",
            "500/500 [==============================] - 22s 45ms/step - loss: 0.3938 - accuracy: 0.8710 - val_loss: 1.4280 - val_accuracy: 0.4583\n",
            "Epoch 31/100\n",
            "500/500 [==============================] - 22s 45ms/step - loss: 0.3803 - accuracy: 0.8780 - val_loss: 1.5944 - val_accuracy: 0.4167\n",
            "Epoch 32/100\n",
            "500/500 [==============================] - 22s 45ms/step - loss: 0.3554 - accuracy: 0.8880 - val_loss: 1.4521 - val_accuracy: 0.4583\n",
            "Epoch 33/100\n",
            "500/500 [==============================] - 22s 45ms/step - loss: 0.3321 - accuracy: 0.8990 - val_loss: 1.6642 - val_accuracy: 0.4583\n",
            "Epoch 34/100\n",
            "500/500 [==============================] - 23s 45ms/step - loss: 0.3223 - accuracy: 0.8990 - val_loss: 1.5487 - val_accuracy: 0.4792\n",
            "Epoch 35/100\n",
            "500/500 [==============================] - 23s 45ms/step - loss: 0.2973 - accuracy: 0.9103 - val_loss: 1.5524 - val_accuracy: 0.4583\n",
            "Epoch 36/100\n",
            "500/500 [==============================] - 22s 45ms/step - loss: 0.2911 - accuracy: 0.9089 - val_loss: 1.5793 - val_accuracy: 0.4167\n",
            "Epoch 37/100\n",
            "500/500 [==============================] - 23s 45ms/step - loss: 0.2813 - accuracy: 0.9135 - val_loss: 1.6888 - val_accuracy: 0.4583\n",
            "Epoch 38/100\n",
            "500/500 [==============================] - 23s 45ms/step - loss: 0.2702 - accuracy: 0.9215 - val_loss: 1.5741 - val_accuracy: 0.4375\n",
            "Epoch 39/100\n",
            "500/500 [==============================] - 22s 45ms/step - loss: 0.2458 - accuracy: 0.9331 - val_loss: 1.6608 - val_accuracy: 0.4792\n",
            "Epoch 40/100\n",
            "500/500 [==============================] - 23s 45ms/step - loss: 0.2318 - accuracy: 0.9310 - val_loss: 1.5864 - val_accuracy: 0.5000\n",
            "Epoch 41/100\n",
            "500/500 [==============================] - 22s 45ms/step - loss: 0.2199 - accuracy: 0.9339 - val_loss: 1.6467 - val_accuracy: 0.4792\n",
            "Epoch 42/100\n",
            "500/500 [==============================] - 22s 45ms/step - loss: 0.2097 - accuracy: 0.9425 - val_loss: 1.7557 - val_accuracy: 0.4583\n",
            "Epoch 43/100\n",
            "500/500 [==============================] - 22s 44ms/step - loss: 0.2007 - accuracy: 0.9427 - val_loss: 1.7350 - val_accuracy: 0.4583\n",
            "Epoch 44/100\n",
            "500/500 [==============================] - 22s 44ms/step - loss: 0.1980 - accuracy: 0.9431 - val_loss: 1.6363 - val_accuracy: 0.4583\n",
            "Epoch 45/100\n",
            "500/500 [==============================] - 22s 44ms/step - loss: 0.1907 - accuracy: 0.9397 - val_loss: 1.7252 - val_accuracy: 0.4792\n",
            "Epoch 46/100\n",
            "500/500 [==============================] - 22s 44ms/step - loss: 0.1741 - accuracy: 0.9503 - val_loss: 1.8791 - val_accuracy: 0.4167\n",
            "Epoch 47/100\n",
            "500/500 [==============================] - 22s 44ms/step - loss: 0.1751 - accuracy: 0.9481 - val_loss: 1.7827 - val_accuracy: 0.5000\n",
            "Epoch 48/100\n",
            "500/500 [==============================] - 22s 44ms/step - loss: 0.1673 - accuracy: 0.9523 - val_loss: 1.8048 - val_accuracy: 0.4583\n",
            "Epoch 49/100\n",
            "500/500 [==============================] - 22s 44ms/step - loss: 0.1543 - accuracy: 0.9587 - val_loss: 1.8407 - val_accuracy: 0.4583\n",
            "Epoch 50/100\n",
            "500/500 [==============================] - 22s 44ms/step - loss: 0.1513 - accuracy: 0.9593 - val_loss: 1.8354 - val_accuracy: 0.4583\n",
            "Epoch 51/100\n",
            "500/500 [==============================] - 22s 44ms/step - loss: 0.1365 - accuracy: 0.9659 - val_loss: 1.8784 - val_accuracy: 0.4583\n",
            "Epoch 52/100\n",
            "500/500 [==============================] - 22s 44ms/step - loss: 0.1413 - accuracy: 0.9615 - val_loss: 1.8586 - val_accuracy: 0.5000\n",
            "Epoch 53/100\n",
            "500/500 [==============================] - 22s 44ms/step - loss: 0.1263 - accuracy: 0.9688 - val_loss: 1.8830 - val_accuracy: 0.5000\n",
            "Epoch 54/100\n",
            "500/500 [==============================] - 22s 44ms/step - loss: 0.1222 - accuracy: 0.9673 - val_loss: 1.9196 - val_accuracy: 0.4792\n",
            "Epoch 55/100\n",
            "500/500 [==============================] - 22s 44ms/step - loss: 0.1220 - accuracy: 0.9692 - val_loss: 1.9277 - val_accuracy: 0.4583\n",
            "Epoch 56/100\n",
            "500/500 [==============================] - 22s 44ms/step - loss: 0.1157 - accuracy: 0.9706 - val_loss: 1.9585 - val_accuracy: 0.4375\n",
            "Epoch 57/100\n",
            "500/500 [==============================] - 22s 44ms/step - loss: 0.1110 - accuracy: 0.9700 - val_loss: 1.9798 - val_accuracy: 0.5000\n",
            "Epoch 58/100\n",
            "500/500 [==============================] - 22s 44ms/step - loss: 0.1139 - accuracy: 0.9690 - val_loss: 2.0202 - val_accuracy: 0.4167\n",
            "Epoch 59/100\n",
            "500/500 [==============================] - 22s 44ms/step - loss: 0.1001 - accuracy: 0.9766 - val_loss: 1.9688 - val_accuracy: 0.4792\n",
            "Epoch 60/100\n",
            "500/500 [==============================] - 22s 45ms/step - loss: 0.0936 - accuracy: 0.9759 - val_loss: 1.9215 - val_accuracy: 0.4167\n",
            "Epoch 61/100\n",
            "500/500 [==============================] - 22s 44ms/step - loss: 0.0992 - accuracy: 0.9738 - val_loss: 1.9910 - val_accuracy: 0.5000\n",
            "Epoch 62/100\n",
            "500/500 [==============================] - 22s 44ms/step - loss: 0.0909 - accuracy: 0.9768 - val_loss: 2.1317 - val_accuracy: 0.4583\n",
            "Epoch 63/100\n",
            "500/500 [==============================] - 22s 44ms/step - loss: 0.0853 - accuracy: 0.9796 - val_loss: 2.1228 - val_accuracy: 0.4375\n",
            "Epoch 64/100\n",
            "500/500 [==============================] - 22s 44ms/step - loss: 0.0880 - accuracy: 0.9770 - val_loss: 2.0496 - val_accuracy: 0.5000\n",
            "Epoch 65/100\n",
            "500/500 [==============================] - 22s 44ms/step - loss: 0.0829 - accuracy: 0.9798 - val_loss: 2.1250 - val_accuracy: 0.4583\n",
            "Epoch 66/100\n",
            "500/500 [==============================] - 22s 44ms/step - loss: 0.0683 - accuracy: 0.9834 - val_loss: 2.0731 - val_accuracy: 0.4583\n",
            "Epoch 67/100\n",
            "500/500 [==============================] - 22s 45ms/step - loss: 0.0736 - accuracy: 0.9836 - val_loss: 2.1223 - val_accuracy: 0.5000\n",
            "Epoch 68/100\n",
            "500/500 [==============================] - 22s 45ms/step - loss: 0.0682 - accuracy: 0.9858 - val_loss: 2.1245 - val_accuracy: 0.5208\n",
            "Epoch 69/100\n",
            "500/500 [==============================] - 22s 45ms/step - loss: 0.0706 - accuracy: 0.9830 - val_loss: 2.1319 - val_accuracy: 0.4792\n",
            "Epoch 70/100\n",
            "500/500 [==============================] - 22s 45ms/step - loss: 0.0585 - accuracy: 0.9886 - val_loss: 2.1519 - val_accuracy: 0.5000\n",
            "Epoch 71/100\n",
            "500/500 [==============================] - 22s 45ms/step - loss: 0.0618 - accuracy: 0.9872 - val_loss: 2.2678 - val_accuracy: 0.4792\n",
            "Epoch 72/100\n",
            "500/500 [==============================] - 23s 45ms/step - loss: 0.0631 - accuracy: 0.9830 - val_loss: 2.2202 - val_accuracy: 0.4583\n",
            "Epoch 73/100\n",
            "500/500 [==============================] - 22s 45ms/step - loss: 0.0641 - accuracy: 0.9842 - val_loss: 2.1759 - val_accuracy: 0.4583\n",
            "Epoch 74/100\n",
            "500/500 [==============================] - 23s 45ms/step - loss: 0.0632 - accuracy: 0.9832 - val_loss: 2.1687 - val_accuracy: 0.5417\n",
            "Epoch 75/100\n",
            "500/500 [==============================] - 23s 45ms/step - loss: 0.0602 - accuracy: 0.9838 - val_loss: 2.2916 - val_accuracy: 0.4375\n",
            "Epoch 76/100\n",
            "500/500 [==============================] - 23s 45ms/step - loss: 0.0559 - accuracy: 0.9862 - val_loss: 2.3234 - val_accuracy: 0.5000\n",
            "Epoch 77/100\n",
            "500/500 [==============================] - 23s 45ms/step - loss: 0.0522 - accuracy: 0.9852 - val_loss: 2.2511 - val_accuracy: 0.4792\n",
            "Epoch 78/100\n",
            "500/500 [==============================] - 23s 46ms/step - loss: 0.0495 - accuracy: 0.9884 - val_loss: 2.3727 - val_accuracy: 0.4375\n",
            "Epoch 79/100\n",
            "500/500 [==============================] - 23s 46ms/step - loss: 0.0465 - accuracy: 0.9908 - val_loss: 2.4576 - val_accuracy: 0.5000\n",
            "Epoch 80/100\n",
            "500/500 [==============================] - 23s 45ms/step - loss: 0.0454 - accuracy: 0.9900 - val_loss: 2.3076 - val_accuracy: 0.4792\n",
            "Epoch 81/100\n",
            "500/500 [==============================] - 23s 45ms/step - loss: 0.0493 - accuracy: 0.9882 - val_loss: 2.3742 - val_accuracy: 0.4583\n",
            "Epoch 82/100\n",
            "500/500 [==============================] - 23s 45ms/step - loss: 0.0466 - accuracy: 0.9890 - val_loss: 2.3291 - val_accuracy: 0.4792\n",
            "Epoch 83/100\n",
            "500/500 [==============================] - 23s 45ms/step - loss: 0.0461 - accuracy: 0.9892 - val_loss: 2.3754 - val_accuracy: 0.4792\n",
            "Epoch 84/100\n",
            "500/500 [==============================] - 23s 46ms/step - loss: 0.0427 - accuracy: 0.9908 - val_loss: 2.3898 - val_accuracy: 0.5000\n",
            "Epoch 85/100\n",
            "500/500 [==============================] - 22s 45ms/step - loss: 0.0383 - accuracy: 0.9922 - val_loss: 2.3608 - val_accuracy: 0.4792\n",
            "Epoch 86/100\n",
            "500/500 [==============================] - 22s 45ms/step - loss: 0.0476 - accuracy: 0.9888 - val_loss: 2.3734 - val_accuracy: 0.5000\n",
            "Epoch 87/100\n",
            "500/500 [==============================] - 22s 45ms/step - loss: 0.0452 - accuracy: 0.9902 - val_loss: 2.3969 - val_accuracy: 0.5000\n",
            "Epoch 88/100\n",
            "500/500 [==============================] - 23s 45ms/step - loss: 0.0364 - accuracy: 0.9920 - val_loss: 2.3899 - val_accuracy: 0.5000\n",
            "Epoch 89/100\n",
            "500/500 [==============================] - 22s 45ms/step - loss: 0.0419 - accuracy: 0.9900 - val_loss: 2.4416 - val_accuracy: 0.5000\n",
            "Epoch 90/100\n",
            "500/500 [==============================] - 22s 45ms/step - loss: 0.0343 - accuracy: 0.9936 - val_loss: 2.5102 - val_accuracy: 0.5208\n",
            "Epoch 91/100\n",
            "500/500 [==============================] - 22s 45ms/step - loss: 0.0373 - accuracy: 0.9916 - val_loss: 2.4676 - val_accuracy: 0.4792\n",
            "Epoch 92/100\n",
            "500/500 [==============================] - 22s 45ms/step - loss: 0.0400 - accuracy: 0.9908 - val_loss: 2.4109 - val_accuracy: 0.5417\n",
            "Epoch 93/100\n",
            "500/500 [==============================] - 22s 45ms/step - loss: 0.0334 - accuracy: 0.9920 - val_loss: 2.4471 - val_accuracy: 0.5208\n",
            "Epoch 94/100\n",
            "500/500 [==============================] - 22s 45ms/step - loss: 0.0345 - accuracy: 0.9914 - val_loss: 2.5271 - val_accuracy: 0.5417\n",
            "Epoch 95/100\n",
            "500/500 [==============================] - 22s 44ms/step - loss: 0.0362 - accuracy: 0.9908 - val_loss: 2.4882 - val_accuracy: 0.4792\n",
            "Epoch 96/100\n",
            " 99/500 [====>.........................] - ETA: 18s - loss: 0.0351 - accuracy: 0.9899WARNING:tensorflow:Your input ran out of data; interrupting training. Make sure that your dataset or generator can generate at least `steps_per_epoch * epochs` batches (in this case, 50000 batches). You may need to use the repeat() function when building your dataset.\n",
            "500/500 [==============================] - 5s 10ms/step - loss: 0.0350 - accuracy: 0.9899 - val_loss: 2.4878 - val_accuracy: 0.5000\n"
          ]
        },
        {
          "output_type": "execute_result",
          "data": {
            "text/plain": [
              "<keras.callbacks.History at 0x7f2405a31d90>"
            ]
          },
          "metadata": {},
          "execution_count": 18
        }
      ],
      "source": [
        "model = keras.Sequential([\n",
        "    keras.layers.Dense(input_shape = feature[0].shape, units=512, activation='relu'),\n",
        "    keras.layers.Dropout(0.5),\n",
        "    keras.layers.Dense(units=6, activation='softmax'),\n",
        "    \n",
        "    \n",
        "])\n",
        "#units1=32\n",
        "print(model.summary())\n",
        "model.compile(optimizer='adamax', \n",
        "              loss=tf.losses.CategoricalCrossentropy(),\n",
        "              metrics=['accuracy'])\n",
        "model.fit(np.asarray(feature), np.asarray(y2), epochs = 100, steps_per_epoch = 500, validation_split=0.01)\n"
      ],
      "id": "TQsy5HAH1e7z"
    },
    {
      "cell_type": "code",
      "execution_count": 19,
      "metadata": {
        "id": "YLdRorP5O4HG",
        "colab": {
          "base_uri": "https://localhost:8080/"
        },
        "outputId": "11882536-b7a7-40c2-d437-4dfae27fd22c"
      },
      "outputs": [
        {
          "output_type": "stream",
          "name": "stdout",
          "text": [
            "['A1', 'A2', 'A2', 'A1', 'C2', 'C1', 'A2', 'A2', 'C2', 'A2', 'A1', 'A2', 'B2', 'C1', 'A1', 'A2', 'C1', 'A1', 'A2', 'A1', 'C2', 'C1', 'A2', 'C1', 'B1', 'C2', 'A1', 'A1', 'C2', 'B1', 'A2', 'A2', 'A1', 'A1', 'A2', 'A2', 'C1', 'B2', 'A1', 'A2', 'A2', 'B2', 'C2', 'C1', 'C1', 'C2', 'B2', 'C1', 'A1', 'B1', 'C1', 'A1', 'B2', 'A2', 'A1', 'B2', 'C1', 'A2', 'C1', 'A2', 'B2', 'A2', 'C2', 'C1', 'C1', 'B2', 'B1', 'B1', 'B1', 'C2', 'A1', 'C1', 'B2', 'B1', 'C1', 'A2', 'B2', 'C1', 'B1', 'C1', 'A2', 'A2', 'B1', 'B1', 'B1', 'B2', 'B1', 'B2', 'C2', 'B1', 'C2', 'A2', 'C1', 'C2', 'A2', 'A2', 'A1', 'B1', 'A2', 'C2', 'B1', 'C1', 'A2', 'A2', 'C2', 'C2', 'B2', 'A1', 'A2', 'C1', 'B2', 'B1', 'C1', 'C2', 'C2', 'B1', 'C1', 'B1', 'A2', 'C2', 'A2', 'B1', 'C2', 'C1', 'A2', 'C2', 'C1', 'B2', 'C1', 'C1', 'A2', 'A2', 'C1', 'C2', 'B2', 'C1', 'A2', 'C2', 'B1', 'A2', 'A1', 'C1', 'C2', 'C2', 'C1', 'C1', 'A1', 'C1', 'B2', 'A2', 'B2', 'B2', 'A2', 'A2', 'A2', 'C2', 'C1', 'A1', 'A2', 'A1', 'A2', 'A1', 'A2', 'C1', 'C2', 'B2', 'A1', 'A2', 'B1', 'B2', 'A2', 'B2', 'A1', 'B1', 'B1', 'C1', 'C1', 'B2', 'B1', 'C2', 'A2', 'C2', 'B2', 'A2', 'C1', 'A1', 'A2', 'B1', 'C2', 'C2', 'A1', 'B2', 'C1', 'B1', 'B2', 'A2', 'C1', 'B2', 'C2', 'A2', 'B2', 'C2', 'A2', 'A2', 'C1', 'A1', 'A2', 'B1', 'A1', 'A1', 'B1', 'A1', 'A2', 'C1', 'A2', 'C1', 'B2', 'C1', 'A2', 'B1', 'B2', 'C1', 'A1', 'C1', 'A1', 'C1', 'A2', 'B1', 'A2', 'A1', 'C1', 'C2', 'C2', 'A2', 'B1', 'C1', 'C1', 'B1', 'B2', 'C2', 'A2', 'A1', 'A1', 'A2', 'A2', 'A1', 'B2', 'C1', 'A2', 'B1', 'B1', 'B1', 'A1', 'B2', 'C1', 'C2', 'A2', 'A1', 'A1', 'C2', 'A2', 'A1', 'A1', 'C1', 'B2', 'C2', 'B1', 'B1', 'C1', 'C2', 'B1', 'C2', 'A2', 'C1', 'A1', 'C1', 'B2', 'C2', 'B2', 'B2', 'A1', 'C2', 'B2', 'B1', 'B1', 'B2', 'C1', 'C2', 'C1', 'B1', 'C1', 'B1', 'A1', 'B2', 'C2', 'C1', 'B2', 'B1', 'A2', 'B1', 'A2', 'B1', 'C1', 'A1', 'C1', 'A1', 'B2', 'C2', 'C1', 'B1', 'C2', 'A2', 'B2', 'B1', 'C2', 'C2', 'A1', 'C2', 'A2', 'A1', 'C2', 'B2', 'C1', 'C2', 'A1', 'A1', 'C2', 'C1', 'A2', 'C2', 'C1', 'A2', 'A2', 'B2', 'A2', 'B1', 'A2', 'A2', 'C1', 'C2', 'A2', 'A1', 'A2', 'B1', 'C2', 'A2', 'A2', 'C2', 'A2', 'A2', 'C1', 'B1', 'C1', 'B2', 'B2', 'C2', 'A1', 'B1', 'C1', 'C2', 'A2', 'C1', 'C1', 'B1', 'C1', 'C2', 'A2', 'B2', 'A1', 'B1', 'C1', 'A1', 'C2', 'A1', 'C2', 'B1', 'A1', 'A2', 'B2', 'A2', 'A2', 'B1', 'B2', 'A1', 'B2', 'C1', 'C2', 'A1', 'C2', 'B1', 'C2', 'B1', 'A1', 'C2', 'C2', 'C1', 'A2', 'B1', 'B1', 'A1', 'B2', 'A1', 'A1', 'C1', 'A2', 'C2', 'B2', 'A1', 'A2', 'B1', 'B2', 'C1', 'C2', 'C2', 'B2', 'B2', 'C2', 'B2', 'A1', 'A2', 'A2', 'B2', 'B2', 'A1', 'B1', 'C2', 'A1', 'B2', 'B1', 'A2', 'A1', 'A2', 'B2', 'C2', 'A1', 'A1', 'C1', 'C2', 'A1', 'A1', 'B1', 'B1', 'C2', 'B2', 'A2', 'A2', 'B2', 'A2', 'B2', 'A2', 'C2', 'A1', 'A2', 'A2', 'B1', 'A1', 'B2', 'B2', 'B1', 'C2', 'B1', 'B2', 'B1', 'A1', 'A2', 'C1', 'B1', 'B1', 'C1', 'A2', 'A1', 'A1', 'B1', 'A2', 'C2', 'B2', 'C2', 'C1', 'A2', 'B1', 'C2', 'A2', 'A1', 'C1', 'C1', 'C2', 'B1', 'A1', 'C2', 'C1', 'C1', 'A2', 'A1', 'B1', 'C2', 'A1', 'C1', 'B2', 'C2', 'C1', 'A2', 'C2', 'A1', 'C1', 'C2', 'B2', 'A1', 'B2', 'C1', 'A2', 'B2', 'C1', 'B1', 'C1', 'B1', 'B2', 'A2', 'A1', 'B2', 'C1', 'B2', 'A2', 'A2', 'A2', 'A1', 'B1', 'C1', 'A1', 'B1', 'C1', 'C1', 'C2', 'C2', 'C1', 'C2', 'C2', 'A1', 'B2', 'C1', 'B2', 'A2', 'A1', 'A1', 'A2', 'A1', 'B2', 'C1', 'A2', 'B2', 'A2', 'A2', 'A1', 'B2', 'C2', 'B2', 'B2', 'A2', 'C1', 'A2', 'C2', 'C1', 'A2', 'C1', 'A2', 'B2', 'B2', 'B1', 'B2', 'B1', 'C1', 'C2', 'C2', 'B2', 'A1', 'B2', 'A2', 'C2', 'B2', 'A2', 'C2', 'B2', 'A2', 'C2', 'A2', 'B2', 'A2', 'C1', 'B2', 'B1', 'A1', 'A2', 'A1', 'B1', 'B1', 'A1', 'C2', 'C1', 'A2', 'B2', 'C1', 'B2', 'A2', 'A2', 'A1', 'C2', 'B2', 'A1', 'B1', 'A1', 'A2', 'B2', 'B1', 'C1', 'B2', 'B1', 'C1', 'A1', 'B2', 'A2', 'C1', 'C2', 'A2', 'A1', 'A2', 'B2', 'A2', 'A2', 'B1', 'C2', 'A2', 'A2', 'B2', 'B1', 'A1', 'C2', 'A1', 'B1', 'B2', 'A2', 'A1', 'C1', 'B1', 'A2', 'A2', 'B2', 'B1', 'A2', 'A1', 'C1', 'B2', 'A2', 'A2', 'C1', 'C2', 'B2', 'C2', 'A1', 'C2', 'B2', 'B2', 'C2', 'A2', 'A1', 'A2', 'A2', 'A2', 'C2', 'B2', 'B1', 'C2', 'C2', 'B1', 'A2', 'A2', 'A2', 'A1', 'A2', 'A2', 'C2', 'A1', 'C2', 'B2', 'C1', 'C1', 'A2', 'B1', 'A2', 'C1', 'C2', 'A2', 'A2', 'A2', 'C1', 'B1', 'C1', 'B1', 'A1', 'C2', 'A2', 'A2', 'A1', 'B2', 'A1', 'C2', 'B2', 'A2', 'C2', 'B2', 'A2', 'B2', 'C1', 'A2', 'C1', 'B1', 'A1', 'A1', 'C2', 'A2', 'A2', 'A2', 'C2', 'B2', 'C1', 'C2', 'B2', 'C1', 'C2', 'C2', 'C2', 'C2', 'A2', 'B1', 'B1', 'A1', 'C2', 'C1', 'C1', 'B2', 'C2', 'A2', 'C2', 'C1', 'A2', 'A2', 'B2', 'C1', 'A1', 'C2', 'A2', 'A2', 'C1', 'C2', 'A2', 'B1', 'A2', 'C1', 'B2', 'C1', 'B2', 'C1', 'A2', 'A1', 'A2', 'B1', 'A2', 'B2', 'C1', 'A2', 'A1', 'C1', 'B1', 'C1', 'C2', 'C2', 'C1', 'B2', 'A2', 'C2', 'C1', 'A1', 'C1', 'C2', 'C2', 'C1', 'C2', 'C2', 'B2', 'C1', 'A2', 'A2', 'A1', 'A2', 'A2', 'B1', 'C2', 'A2', 'C2', 'B2', 'A2', 'B2', 'A2', 'B1', 'A2', 'C2', 'C1', 'C1', 'C2', 'A1', 'A2', 'A1', 'A2', 'A2', 'C2', 'A2', 'C1', 'A2', 'A2', 'C1', 'B2', 'B2', 'B2', 'C2', 'C2', 'A2', 'B1', 'B2', 'C1', 'B2', 'C2', 'A2', 'A2', 'C1', 'B1', 'A2', 'B1', 'B2', 'B2', 'B2', 'A1', 'A2', 'A1', 'A1', 'B2', 'C1', 'B2', 'A2', 'A2', 'B1', 'B2', 'B2', 'B1', 'B2', 'A2', 'C2', 'C1', 'C2', 'C2', 'A2', 'A1', 'C2', 'A1', 'A2', 'C2', 'C1', 'A2', 'B2', 'C2', 'C2', 'C1', 'A2', 'A1', 'A2', 'C1', 'C2', 'B1', 'A2', 'A1', 'C1', 'C2', 'C1', 'C1', 'B2', 'A2', 'C2', 'C2', 'B2', 'C2', 'A2', 'C1', 'A1', 'A2', 'C1', 'A1', 'C1', 'B2', 'B2', 'C1', 'B2', 'C1', 'B1', 'A2', 'C2', 'B1', 'C1', 'C1', 'A2', 'A2', 'C2', 'A1', 'A1', 'A1', 'A2', 'A1', 'C1', 'B2', 'C2', 'A2', 'A2', 'C1', 'C2', 'A2', 'A2', 'A2', 'C1', 'C1', 'B2', 'C2', 'A2', 'A2', 'A1', 'C2', 'B2', 'C1', 'B2', 'C1', 'B1', 'B1', 'A2', 'A2', 'C1', 'B2', 'C1', 'B2', 'C1', 'B2', 'C1', 'A2', 'C2', 'B2', 'B2', 'A2', 'C2', 'B2', 'A2', 'C1', 'B1', 'A2', 'A2', 'B2', 'B2', 'B1', 'A2', 'B2', 'C2', 'B2', 'C2', 'A1', 'C2', 'A2', 'C2', 'A2', 'C1', 'B1', 'A2', 'B2', 'A2', 'B2', 'A2', 'B2', 'C2', 'C1', 'A2', 'B1', 'A2', 'A1', 'A2', 'C2', 'A1', 'C2', 'A2', 'A2', 'A1', 'C2', 'C2', 'A2', 'C1', 'B2', 'C1', 'A2', 'A2', 'A2', 'B1', 'C1', 'A1', 'B1', 'B1', 'A1', 'A2', 'C1', 'C1', 'C2', 'A2', 'A1', 'B2', 'C1', 'A2', 'B2', 'B1', 'A2', 'A1', 'B2', 'A2', 'A1', 'A2', 'A2', 'A2', 'C1', 'B2', 'B1', 'A2', 'A2', 'C1', 'A2', 'C1', 'B2', 'C1', 'B2', 'A1', 'A2', 'C2', 'C2', 'C1', 'A1', 'A2', 'B2', 'C1', 'B2', 'A1', 'C2', 'A2', 'C1', 'A2', 'A2', 'C2', 'A1', 'B2', 'C1', 'C1', 'C2', 'C2', 'B2', 'C2', 'A2', 'C1', 'C1', 'B2', 'B1', 'A2', 'B2', 'B1', 'C1', 'B2', 'C2', 'C2', 'B2', 'A2', 'A1', 'A1', 'C2', 'A1', 'A1', 'A1', 'A1', 'B2', 'B2', 'C1', 'A1', 'C2', 'B1', 'A2', 'C2', 'A2', 'C2', 'C2', 'B2', 'A2', 'B1', 'C1', 'B2', 'A2', 'C1', 'A1', 'C2', 'B2', 'C2', 'B1', 'B1', 'A2', 'B2', 'B2', 'C2', 'A1', 'B2', 'A2', 'B1', 'C1', 'C2', 'A2', 'B2', 'A1', 'A2', 'B2', 'C1', 'A2', 'A2', 'A2', 'C1', 'B1', 'A2', 'B2', 'A1', 'C2', 'C1', 'A2', 'B1', 'A2', 'C2', 'B1', 'B1', 'A2', 'C2', 'C1', 'A2', 'C1', 'C1', 'A1', 'B2', 'B1', 'C1', 'C2', 'B1', 'A2', 'A1', 'B2', 'C1', 'B1', 'C1', 'A1', 'C2', 'B1', 'B2', 'B2', 'A2', 'B2', 'C1', 'C2', 'C1', 'A2', 'B1', 'C1', 'A1', 'B1', 'B2', 'B2', 'C1', 'B2', 'A1', 'B1', 'A2', 'A2', 'C1', 'A2', 'A1', 'B1', 'C2', 'A2', 'C2', 'A2', 'B1', 'B1', 'B1', 'C1', 'A2', 'A2', 'B2', 'B1', 'A2', 'C2', 'C1', 'B2']\n"
          ]
        }
      ],
      "source": [
        "pred=model.predict(unlabelled_feature)\n",
        "prediction_keras= []\n",
        "for i in pred:\n",
        "  prediction_keras.append(np.argmax(i))\n",
        "\n",
        "\n",
        "reverse={0:\"A1\", 1:\"A2\", 2:\"B1\",3:\"B2\",4:\"C1\", 5:\"C2\"}\n",
        "\n",
        "reversed_list=[reverse[k] for k in prediction_keras]\n",
        "print(reversed_list)\n",
        "\n",
        "with open(\"sample_submission.csv\", 'w', newline='') as myfile:\n",
        "     wr = csv.writer(myfile, quoting=csv.QUOTE_ALL)\n",
        "     \n",
        "     for item in reversed_list: \n",
        "      wr.writerow([item])"
      ],
      "id": "YLdRorP5O4HG"
    },
    {
      "cell_type": "code",
      "execution_count": 20,
      "metadata": {
        "id": "AvCHPTPV1QCZ",
        "colab": {
          "base_uri": "https://localhost:8080/"
        },
        "outputId": "bee0a01f-015b-412f-85d4-2b173746724f"
      },
      "outputs": [
        {
          "output_type": "stream",
          "name": "stdout",
          "text": [
            "1200\n"
          ]
        }
      ],
      "source": [
        "print(len(pred))"
      ],
      "id": "AvCHPTPV1QCZ"
    },
    {
      "cell_type": "code",
      "execution_count": 21,
      "metadata": {
        "id": "11QYtnkeyan1",
        "colab": {
          "base_uri": "https://localhost:8080/",
          "height": 360
        },
        "outputId": "bf415569-7964-42f2-80ba-906f13343279"
      },
      "outputs": [
        {
          "output_type": "stream",
          "name": "stderr",
          "text": [
            "/usr/local/lib/python3.7/dist-packages/sklearn/linear_model/_logistic.py:818: ConvergenceWarning: lbfgs failed to converge (status=1):\n",
            "STOP: TOTAL NO. of ITERATIONS REACHED LIMIT.\n",
            "\n",
            "Increase the number of iterations (max_iter) or scale the data as shown in:\n",
            "    https://scikit-learn.org/stable/modules/preprocessing.html\n",
            "Please also refer to the documentation for alternative solver options:\n",
            "    https://scikit-learn.org/stable/modules/linear_model.html#logistic-regression\n",
            "  extra_warning_msg=_LOGISTIC_SOLVER_CONVERGENCE_MSG,\n"
          ]
        },
        {
          "output_type": "error",
          "ename": "NameError",
          "evalue": "ignored",
          "traceback": [
            "\u001b[0;31m---------------------------------------------------------------------------\u001b[0m",
            "\u001b[0;31mNameError\u001b[0m                                 Traceback (most recent call last)",
            "\u001b[0;32m<ipython-input-21-0915a15cbe61>\u001b[0m in \u001b[0;36m<module>\u001b[0;34m()\u001b[0m\n\u001b[1;32m      4\u001b[0m \u001b[0my_pred_\u001b[0m\u001b[0;34m=\u001b[0m\u001b[0mclassifier\u001b[0m\u001b[0;34m.\u001b[0m\u001b[0mpredict\u001b[0m\u001b[0;34m(\u001b[0m\u001b[0mfeature4_test\u001b[0m\u001b[0;34m)\u001b[0m\u001b[0;34m\u001b[0m\u001b[0;34m\u001b[0m\u001b[0m\n\u001b[1;32m      5\u001b[0m \u001b[0;34m\u001b[0m\u001b[0m\n\u001b[0;32m----> 6\u001b[0;31m \u001b[0mevaluate\u001b[0m\u001b[0;34m(\u001b[0m\u001b[0my1_test\u001b[0m\u001b[0;34m,\u001b[0m \u001b[0my_pred\u001b[0m\u001b[0;34m)\u001b[0m\u001b[0;34m\u001b[0m\u001b[0;34m\u001b[0m\u001b[0m\n\u001b[0m",
            "\u001b[0;31mNameError\u001b[0m: name 'y_pred' is not defined"
          ]
        }
      ],
      "source": [
        "classifier = LogisticRegression()\n",
        "classifier=classifier.fit(feature4_train, y1_train)\n",
        "\n",
        "y_pred_=classifier.predict(feature4_test)\n",
        "\n",
        "evaluate(y1_test, y_pred)\n"
      ],
      "id": "11QYtnkeyan1"
    },
    {
      "cell_type": "code",
      "execution_count": null,
      "metadata": {
        "id": "_qY9HyVLgTsx"
      },
      "outputs": [],
      "source": [
        ""
      ],
      "id": "_qY9HyVLgTsx"
    },
    {
      "cell_type": "code",
      "execution_count": null,
      "metadata": {
        "id": "WolyrN0x8T-0"
      },
      "outputs": [],
      "source": [
        "classifier = KNeighborsClassifier()\n",
        "classifier=classifier.fit(feature4_train, y1_train)\n",
        "\n",
        "\n",
        "y_pred=classifier.predict(feature4_test)\n",
        "\n",
        "evaluate(y1_test, y_pred)\n",
        "\n"
      ],
      "id": "WolyrN0x8T-0"
    },
    {
      "cell_type": "code",
      "execution_count": null,
      "metadata": {
        "id": "U5MSVZ4HEQoU"
      },
      "outputs": [],
      "source": [
        "classifier = DecisionTreeClassifier()\n",
        "classifier=classifier.fit(feature4_train, y1_train)\n",
        "\n",
        "\n",
        "y_pred=classifier.predict(feature4_test)\n",
        "  \n",
        "\n",
        "\n",
        "evaluate(y1_test, y_pred)"
      ],
      "id": "U5MSVZ4HEQoU"
    },
    {
      "cell_type": "code",
      "execution_count": null,
      "metadata": {
        "id": "hOTjehzsEgxr"
      },
      "outputs": [],
      "source": [
        "\n",
        "\n",
        "classifier = RandomForestClassifier()\n",
        "classifier=classifier.fit(feature4_train, y1_train)\n",
        "\n",
        "\n",
        "y_pred=classifier.predict(feature4_test)\n",
        "\n",
        "evaluate(y1_test, y_pred)\n",
        "\n"
      ],
      "id": "hOTjehzsEgxr"
    },
    {
      "cell_type": "code",
      "execution_count": 22,
      "metadata": {
        "id": "P4EKwxRE4L4l",
        "colab": {
          "base_uri": "https://localhost:8080/"
        },
        "outputId": "938257f9-a0eb-4cca-8038-f8d6ad261872"
      },
      "outputs": [
        {
          "output_type": "stream",
          "name": "stdout",
          "text": [
            "Model: \"sequential_1\"\n",
            "_________________________________________________________________\n",
            " Layer (type)                Output Shape              Param #   \n",
            "=================================================================\n",
            " dense_2 (Dense)             (None, 32)                466752    \n",
            "                                                                 \n",
            " dropout_1 (Dropout)         (None, 32)                0         \n",
            "                                                                 \n",
            " dense_3 (Dense)             (None, 6)                 198       \n",
            "                                                                 \n",
            "=================================================================\n",
            "Total params: 466,950\n",
            "Trainable params: 466,950\n",
            "Non-trainable params: 0\n",
            "_________________________________________________________________\n",
            "None\n",
            "Epoch 1/50\n",
            "500/500 [==============================] - 3s 5ms/step - loss: 1.7560 - accuracy: 0.2533 - val_loss: 1.7361 - val_accuracy: 0.2250\n",
            "Epoch 2/50\n",
            "500/500 [==============================] - 2s 5ms/step - loss: 1.6562 - accuracy: 0.3435 - val_loss: 1.6473 - val_accuracy: 0.3000\n",
            "Epoch 3/50\n",
            "500/500 [==============================] - 2s 5ms/step - loss: 1.5754 - accuracy: 0.3845 - val_loss: 1.5730 - val_accuracy: 0.4000\n",
            "Epoch 4/50\n",
            "500/500 [==============================] - 2s 5ms/step - loss: 1.5032 - accuracy: 0.4205 - val_loss: 1.5150 - val_accuracy: 0.4000\n",
            "Epoch 5/50\n",
            "500/500 [==============================] - 3s 5ms/step - loss: 1.4396 - accuracy: 0.4375 - val_loss: 1.4655 - val_accuracy: 0.4000\n",
            "Epoch 6/50\n",
            "500/500 [==============================] - 2s 5ms/step - loss: 1.3991 - accuracy: 0.4615 - val_loss: 1.4300 - val_accuracy: 0.4250\n",
            "Epoch 7/50\n",
            "500/500 [==============================] - 2s 5ms/step - loss: 1.3412 - accuracy: 0.5017 - val_loss: 1.3886 - val_accuracy: 0.4750\n",
            "Epoch 8/50\n",
            "500/500 [==============================] - 2s 5ms/step - loss: 1.2972 - accuracy: 0.5282 - val_loss: 1.3571 - val_accuracy: 0.4000\n",
            "Epoch 9/50\n",
            "500/500 [==============================] - 2s 5ms/step - loss: 1.2564 - accuracy: 0.5515 - val_loss: 1.3298 - val_accuracy: 0.4750\n",
            "Epoch 10/50\n",
            "500/500 [==============================] - 2s 5ms/step - loss: 1.2184 - accuracy: 0.5707 - val_loss: 1.3177 - val_accuracy: 0.4500\n",
            "Epoch 11/50\n",
            "500/500 [==============================] - 2s 5ms/step - loss: 1.1719 - accuracy: 0.5953 - val_loss: 1.2854 - val_accuracy: 0.5000\n",
            "Epoch 12/50\n",
            "500/500 [==============================] - 2s 5ms/step - loss: 1.1341 - accuracy: 0.6010 - val_loss: 1.2777 - val_accuracy: 0.5250\n",
            "Epoch 13/50\n",
            "500/500 [==============================] - 2s 5ms/step - loss: 1.1071 - accuracy: 0.6102 - val_loss: 1.2550 - val_accuracy: 0.5250\n",
            "Epoch 14/50\n",
            "500/500 [==============================] - 2s 4ms/step - loss: 1.0702 - accuracy: 0.6405 - val_loss: 1.2451 - val_accuracy: 0.5000\n",
            "Epoch 15/50\n",
            "500/500 [==============================] - 2s 4ms/step - loss: 1.0159 - accuracy: 0.6622 - val_loss: 1.2307 - val_accuracy: 0.5000\n",
            "Epoch 16/50\n",
            "500/500 [==============================] - 2s 5ms/step - loss: 0.9873 - accuracy: 0.6758 - val_loss: 1.2332 - val_accuracy: 0.5250\n",
            "Epoch 17/50\n",
            "500/500 [==============================] - 2s 5ms/step - loss: 0.9598 - accuracy: 0.6913 - val_loss: 1.2141 - val_accuracy: 0.5000\n",
            "Epoch 18/50\n",
            "500/500 [==============================] - 2s 5ms/step - loss: 0.9241 - accuracy: 0.7057 - val_loss: 1.1940 - val_accuracy: 0.5000\n",
            "Epoch 19/50\n",
            "500/500 [==============================] - 2s 5ms/step - loss: 0.8980 - accuracy: 0.7190 - val_loss: 1.1943 - val_accuracy: 0.5000\n",
            "Epoch 20/50\n",
            "500/500 [==============================] - 2s 5ms/step - loss: 0.8570 - accuracy: 0.7275 - val_loss: 1.1960 - val_accuracy: 0.5750\n",
            "Epoch 21/50\n",
            "500/500 [==============================] - 2s 5ms/step - loss: 0.8286 - accuracy: 0.7423 - val_loss: 1.1714 - val_accuracy: 0.5000\n",
            "Epoch 22/50\n",
            "500/500 [==============================] - 2s 5ms/step - loss: 0.8023 - accuracy: 0.7540 - val_loss: 1.1763 - val_accuracy: 0.4750\n",
            "Epoch 23/50\n",
            "500/500 [==============================] - 2s 5ms/step - loss: 0.7765 - accuracy: 0.7663 - val_loss: 1.1685 - val_accuracy: 0.5250\n",
            "Epoch 24/50\n",
            "500/500 [==============================] - 2s 5ms/step - loss: 0.7516 - accuracy: 0.7732 - val_loss: 1.1680 - val_accuracy: 0.5500\n",
            "Epoch 25/50\n",
            "500/500 [==============================] - 2s 5ms/step - loss: 0.7209 - accuracy: 0.7850 - val_loss: 1.1564 - val_accuracy: 0.5750\n",
            "Epoch 26/50\n",
            "500/500 [==============================] - 2s 5ms/step - loss: 0.6913 - accuracy: 0.7985 - val_loss: 1.1518 - val_accuracy: 0.5500\n",
            "Epoch 27/50\n",
            "500/500 [==============================] - 2s 5ms/step - loss: 0.6706 - accuracy: 0.8027 - val_loss: 1.1500 - val_accuracy: 0.5500\n",
            "Epoch 28/50\n",
            "500/500 [==============================] - 2s 5ms/step - loss: 0.6500 - accuracy: 0.8120 - val_loss: 1.1410 - val_accuracy: 0.5500\n",
            "Epoch 29/50\n",
            "500/500 [==============================] - 2s 5ms/step - loss: 0.6350 - accuracy: 0.8133 - val_loss: 1.1473 - val_accuracy: 0.5250\n",
            "Epoch 30/50\n",
            "500/500 [==============================] - 2s 5ms/step - loss: 0.6028 - accuracy: 0.8298 - val_loss: 1.1367 - val_accuracy: 0.5750\n",
            "Epoch 31/50\n",
            "500/500 [==============================] - 3s 5ms/step - loss: 0.6023 - accuracy: 0.8238 - val_loss: 1.1522 - val_accuracy: 0.5500\n",
            "Epoch 32/50\n",
            "500/500 [==============================] - 2s 5ms/step - loss: 0.5705 - accuracy: 0.8353 - val_loss: 1.1434 - val_accuracy: 0.5250\n",
            "Epoch 33/50\n",
            "500/500 [==============================] - 2s 5ms/step - loss: 0.5567 - accuracy: 0.8465 - val_loss: 1.1493 - val_accuracy: 0.5500\n",
            "Epoch 34/50\n",
            "500/500 [==============================] - 2s 5ms/step - loss: 0.5317 - accuracy: 0.8487 - val_loss: 1.1295 - val_accuracy: 0.5250\n",
            "Epoch 35/50\n",
            "500/500 [==============================] - 2s 5ms/step - loss: 0.5306 - accuracy: 0.8487 - val_loss: 1.1419 - val_accuracy: 0.5250\n",
            "Epoch 36/50\n",
            "500/500 [==============================] - 2s 5ms/step - loss: 0.5078 - accuracy: 0.8560 - val_loss: 1.1385 - val_accuracy: 0.5500\n",
            "Epoch 37/50\n",
            "500/500 [==============================] - 3s 5ms/step - loss: 0.4878 - accuracy: 0.8645 - val_loss: 1.1386 - val_accuracy: 0.5750\n",
            "Epoch 38/50\n",
            "500/500 [==============================] - 2s 5ms/step - loss: 0.4687 - accuracy: 0.8687 - val_loss: 1.1407 - val_accuracy: 0.5750\n",
            "Epoch 39/50\n",
            "500/500 [==============================] - 2s 5ms/step - loss: 0.4626 - accuracy: 0.8717 - val_loss: 1.1491 - val_accuracy: 0.5750\n",
            "Epoch 40/50\n",
            "500/500 [==============================] - 2s 4ms/step - loss: 0.4488 - accuracy: 0.8720 - val_loss: 1.1403 - val_accuracy: 0.5500\n",
            "Epoch 41/50\n",
            "500/500 [==============================] - 2s 5ms/step - loss: 0.4353 - accuracy: 0.8740 - val_loss: 1.1408 - val_accuracy: 0.5750\n",
            "Epoch 42/50\n",
            "500/500 [==============================] - 2s 5ms/step - loss: 0.4161 - accuracy: 0.8857 - val_loss: 1.1420 - val_accuracy: 0.5500\n",
            "Epoch 43/50\n",
            "500/500 [==============================] - 2s 5ms/step - loss: 0.4133 - accuracy: 0.8830 - val_loss: 1.1360 - val_accuracy: 0.5750\n",
            "Epoch 44/50\n",
            "500/500 [==============================] - 2s 5ms/step - loss: 0.3920 - accuracy: 0.8898 - val_loss: 1.1454 - val_accuracy: 0.6250\n",
            "Epoch 45/50\n",
            "500/500 [==============================] - 2s 5ms/step - loss: 0.3974 - accuracy: 0.8923 - val_loss: 1.1498 - val_accuracy: 0.5500\n",
            "Epoch 46/50\n",
            "500/500 [==============================] - 2s 4ms/step - loss: 0.3721 - accuracy: 0.8988 - val_loss: 1.1667 - val_accuracy: 0.5500\n",
            "Epoch 47/50\n",
            "500/500 [==============================] - 2s 5ms/step - loss: 0.3749 - accuracy: 0.8947 - val_loss: 1.1521 - val_accuracy: 0.5750\n",
            "Epoch 48/50\n",
            "500/500 [==============================] - 2s 5ms/step - loss: 0.3506 - accuracy: 0.9015 - val_loss: 1.1713 - val_accuracy: 0.5500\n",
            "Epoch 49/50\n",
            "500/500 [==============================] - 3s 5ms/step - loss: 0.3432 - accuracy: 0.9090 - val_loss: 1.1755 - val_accuracy: 0.5750\n",
            "Epoch 50/50\n",
            "242/500 [=============>................] - ETA: 1s - loss: 0.3377 - accuracy: 0.9075WARNING:tensorflow:Your input ran out of data; interrupting training. Make sure that your dataset or generator can generate at least `steps_per_epoch * epochs` batches (in this case, 25000 batches). You may need to use the repeat() function when building your dataset.\n",
            "500/500 [==============================] - 1s 3ms/step - loss: 0.3359 - accuracy: 0.9080 - val_loss: 1.1666 - val_accuracy: 0.5750\n"
          ]
        }
      ],
      "source": [
        "model = keras.Sequential([\n",
        "    keras.layers.Dense(input_shape = feature_train[0].shape, units=32, activation='relu'),\n",
        "    keras.layers.Dropout(0.5),\n",
        "    #keras.layers.Dense(units = 128, activation = \"sigmoid\"),\n",
        "    #keras.layers.Dropout(0.6),\n",
        "    keras.layers.Dense(units=6, activation='softmax')\n",
        "    \n",
        "    \n",
        "])\n",
        "#units1=32\n",
        "print(model.summary())\n",
        "model.compile(optimizer='adamax', \n",
        "              loss=tf.losses.CategoricalCrossentropy(),\n",
        "              metrics=['accuracy'])\n",
        "keras_train=model.fit(np.asarray(feature4_train), np.asarray(y2_train), epochs = 50, steps_per_epoch = 500, validation_split=0.01)\n",
        "\n",
        "accuracy_4=tf_accuracy(model, feature4_test, y2_test)"
      ],
      "id": "P4EKwxRE4L4l"
    },
    {
      "cell_type": "code",
      "execution_count": 27,
      "metadata": {
        "colab": {
          "base_uri": "https://localhost:8080/"
        },
        "outputId": "226a4832-da9b-446c-eb1b-338b48bf2066",
        "id": "U2BkVwMiG15l"
      },
      "outputs": [
        {
          "output_type": "stream",
          "name": "stdout",
          "text": [
            "Model: \"sequential_3\"\n",
            "_________________________________________________________________\n",
            " Layer (type)                Output Shape              Param #   \n",
            "=================================================================\n",
            " dense_6 (Dense)             (None, 32)                476960    \n",
            "                                                                 \n",
            " dropout_3 (Dropout)         (None, 32)                0         \n",
            "                                                                 \n",
            " dense_7 (Dense)             (None, 6)                 198       \n",
            "                                                                 \n",
            "=================================================================\n",
            "Total params: 477,158\n",
            "Trainable params: 477,158\n",
            "Non-trainable params: 0\n",
            "_________________________________________________________________\n",
            "None\n",
            "Epoch 1/50\n",
            "500/500 [==============================] - 3s 5ms/step - loss: 1.7590 - accuracy: 0.2785 - val_loss: 1.5996 - val_accuracy: 0.3000\n",
            "Epoch 2/50\n",
            "500/500 [==============================] - 2s 4ms/step - loss: 1.5925 - accuracy: 0.3167 - val_loss: 1.4800 - val_accuracy: 0.3000\n",
            "Epoch 3/50\n",
            "500/500 [==============================] - 2s 4ms/step - loss: 1.5324 - accuracy: 0.3252 - val_loss: 1.4301 - val_accuracy: 0.3000\n",
            "Epoch 4/50\n",
            "500/500 [==============================] - 2s 4ms/step - loss: 1.4725 - accuracy: 0.3512 - val_loss: 1.3628 - val_accuracy: 0.4250\n",
            "Epoch 5/50\n",
            "500/500 [==============================] - 2s 4ms/step - loss: 1.4490 - accuracy: 0.3575 - val_loss: 1.3197 - val_accuracy: 0.5000\n",
            "Epoch 6/50\n",
            "500/500 [==============================] - 2s 4ms/step - loss: 1.4013 - accuracy: 0.3870 - val_loss: 1.2998 - val_accuracy: 0.4750\n",
            "Epoch 7/50\n",
            "500/500 [==============================] - 2s 4ms/step - loss: 1.3727 - accuracy: 0.4038 - val_loss: 1.2645 - val_accuracy: 0.5000\n",
            "Epoch 8/50\n",
            "500/500 [==============================] - 2s 4ms/step - loss: 1.3398 - accuracy: 0.4108 - val_loss: 1.2861 - val_accuracy: 0.4500\n",
            "Epoch 9/50\n",
            "500/500 [==============================] - 2s 4ms/step - loss: 1.3177 - accuracy: 0.4240 - val_loss: 1.2574 - val_accuracy: 0.5250\n",
            "Epoch 10/50\n",
            "500/500 [==============================] - 2s 4ms/step - loss: 1.3087 - accuracy: 0.4238 - val_loss: 1.2444 - val_accuracy: 0.4750\n",
            "Epoch 11/50\n",
            "500/500 [==============================] - 2s 4ms/step - loss: 1.2848 - accuracy: 0.4445 - val_loss: 1.2359 - val_accuracy: 0.5250\n",
            "Epoch 12/50\n",
            "500/500 [==============================] - 2s 4ms/step - loss: 1.2807 - accuracy: 0.4478 - val_loss: 1.2274 - val_accuracy: 0.5000\n",
            "Epoch 13/50\n",
            "500/500 [==============================] - 2s 4ms/step - loss: 1.2619 - accuracy: 0.4515 - val_loss: 1.2207 - val_accuracy: 0.4500\n",
            "Epoch 14/50\n",
            "500/500 [==============================] - 2s 4ms/step - loss: 1.2442 - accuracy: 0.4577 - val_loss: 1.2466 - val_accuracy: 0.5500\n",
            "Epoch 15/50\n",
            "500/500 [==============================] - 2s 4ms/step - loss: 1.2281 - accuracy: 0.4683 - val_loss: 1.1775 - val_accuracy: 0.5500\n",
            "Epoch 16/50\n",
            "500/500 [==============================] - 2s 4ms/step - loss: 1.2280 - accuracy: 0.4692 - val_loss: 1.1778 - val_accuracy: 0.5000\n",
            "Epoch 17/50\n",
            "500/500 [==============================] - 2s 4ms/step - loss: 1.2149 - accuracy: 0.4848 - val_loss: 1.1710 - val_accuracy: 0.5500\n",
            "Epoch 18/50\n",
            "500/500 [==============================] - 2s 4ms/step - loss: 1.1898 - accuracy: 0.5005 - val_loss: 1.1536 - val_accuracy: 0.5000\n",
            "Epoch 19/50\n",
            "500/500 [==============================] - 2s 4ms/step - loss: 1.1811 - accuracy: 0.4970 - val_loss: 1.1220 - val_accuracy: 0.5500\n",
            "Epoch 20/50\n",
            "500/500 [==============================] - 2s 4ms/step - loss: 1.1767 - accuracy: 0.4940 - val_loss: 1.1591 - val_accuracy: 0.5500\n",
            "Epoch 21/50\n",
            "500/500 [==============================] - 2s 4ms/step - loss: 1.1469 - accuracy: 0.5123 - val_loss: 1.1040 - val_accuracy: 0.6250\n",
            "Epoch 22/50\n",
            "500/500 [==============================] - 2s 4ms/step - loss: 1.1616 - accuracy: 0.5128 - val_loss: 1.1130 - val_accuracy: 0.5500\n",
            "Epoch 23/50\n",
            "500/500 [==============================] - 2s 4ms/step - loss: 1.1363 - accuracy: 0.5148 - val_loss: 1.0970 - val_accuracy: 0.5500\n",
            "Epoch 24/50\n",
            "500/500 [==============================] - 2s 4ms/step - loss: 1.1334 - accuracy: 0.5113 - val_loss: 1.1186 - val_accuracy: 0.5000\n",
            "Epoch 25/50\n",
            "500/500 [==============================] - 2s 4ms/step - loss: 1.1202 - accuracy: 0.5165 - val_loss: 1.0837 - val_accuracy: 0.6000\n",
            "Epoch 26/50\n",
            "500/500 [==============================] - 2s 4ms/step - loss: 1.1199 - accuracy: 0.5297 - val_loss: 1.1239 - val_accuracy: 0.5250\n",
            "Epoch 27/50\n",
            "500/500 [==============================] - 2s 4ms/step - loss: 1.0918 - accuracy: 0.5345 - val_loss: 1.0912 - val_accuracy: 0.5500\n",
            "Epoch 28/50\n",
            "500/500 [==============================] - 2s 4ms/step - loss: 1.0864 - accuracy: 0.5515 - val_loss: 1.0932 - val_accuracy: 0.5750\n",
            "Epoch 29/50\n",
            "500/500 [==============================] - 2s 4ms/step - loss: 1.0919 - accuracy: 0.5477 - val_loss: 1.1066 - val_accuracy: 0.5750\n",
            "Epoch 30/50\n",
            "500/500 [==============================] - 2s 4ms/step - loss: 1.0708 - accuracy: 0.5495 - val_loss: 1.1024 - val_accuracy: 0.5750\n",
            "Epoch 31/50\n",
            "500/500 [==============================] - 2s 4ms/step - loss: 1.0672 - accuracy: 0.5585 - val_loss: 1.0959 - val_accuracy: 0.5500\n",
            "Epoch 32/50\n",
            "500/500 [==============================] - 2s 4ms/step - loss: 1.0389 - accuracy: 0.5725 - val_loss: 1.0963 - val_accuracy: 0.5250\n",
            "Epoch 33/50\n",
            "500/500 [==============================] - 2s 4ms/step - loss: 1.0348 - accuracy: 0.5648 - val_loss: 1.0598 - val_accuracy: 0.6250\n",
            "Epoch 34/50\n",
            "500/500 [==============================] - 2s 4ms/step - loss: 1.0468 - accuracy: 0.5670 - val_loss: 1.0537 - val_accuracy: 0.6000\n",
            "Epoch 35/50\n",
            "500/500 [==============================] - 2s 4ms/step - loss: 1.0088 - accuracy: 0.5847 - val_loss: 1.0560 - val_accuracy: 0.6000\n",
            "Epoch 36/50\n",
            "500/500 [==============================] - 2s 4ms/step - loss: 0.9952 - accuracy: 0.5828 - val_loss: 1.0345 - val_accuracy: 0.6000\n",
            "Epoch 37/50\n",
            "500/500 [==============================] - 2s 4ms/step - loss: 0.9958 - accuracy: 0.5810 - val_loss: 1.0800 - val_accuracy: 0.5500\n",
            "Epoch 38/50\n",
            "500/500 [==============================] - 2s 4ms/step - loss: 0.9954 - accuracy: 0.5853 - val_loss: 1.0572 - val_accuracy: 0.5750\n",
            "Epoch 39/50\n",
            "500/500 [==============================] - 2s 4ms/step - loss: 0.9650 - accuracy: 0.6077 - val_loss: 1.0473 - val_accuracy: 0.5750\n",
            "Epoch 40/50\n",
            "500/500 [==============================] - 2s 4ms/step - loss: 0.9638 - accuracy: 0.6080 - val_loss: 1.0341 - val_accuracy: 0.6250\n",
            "Epoch 41/50\n",
            "500/500 [==============================] - 2s 4ms/step - loss: 0.9704 - accuracy: 0.5928 - val_loss: 1.0717 - val_accuracy: 0.6000\n",
            "Epoch 42/50\n",
            "500/500 [==============================] - 2s 4ms/step - loss: 0.9567 - accuracy: 0.6020 - val_loss: 1.0120 - val_accuracy: 0.6250\n",
            "Epoch 43/50\n",
            "500/500 [==============================] - 2s 4ms/step - loss: 0.9425 - accuracy: 0.6140 - val_loss: 1.0633 - val_accuracy: 0.5500\n",
            "Epoch 44/50\n",
            "500/500 [==============================] - 2s 4ms/step - loss: 0.9378 - accuracy: 0.6187 - val_loss: 1.0365 - val_accuracy: 0.5750\n",
            "Epoch 45/50\n",
            "500/500 [==============================] - 2s 4ms/step - loss: 0.9187 - accuracy: 0.6245 - val_loss: 1.0509 - val_accuracy: 0.6000\n",
            "Epoch 46/50\n",
            "500/500 [==============================] - 2s 4ms/step - loss: 0.9089 - accuracy: 0.6277 - val_loss: 1.0399 - val_accuracy: 0.5750\n",
            "Epoch 47/50\n",
            "500/500 [==============================] - 2s 4ms/step - loss: 0.9007 - accuracy: 0.6325 - val_loss: 1.0134 - val_accuracy: 0.6000\n",
            "Epoch 48/50\n",
            "500/500 [==============================] - 2s 4ms/step - loss: 0.8924 - accuracy: 0.6367 - val_loss: 1.0271 - val_accuracy: 0.5500\n",
            "Epoch 49/50\n",
            "500/500 [==============================] - 2s 4ms/step - loss: 0.8886 - accuracy: 0.6367 - val_loss: 1.0425 - val_accuracy: 0.5500\n",
            "Epoch 50/50\n",
            "237/500 [=============>................] - ETA: 1s - loss: 0.9006 - accuracy: 0.6303WARNING:tensorflow:Your input ran out of data; interrupting training. Make sure that your dataset or generator can generate at least `steps_per_epoch * epochs` batches (in this case, 25000 batches). You may need to use the repeat() function when building your dataset.\n",
            "500/500 [==============================] - 1s 2ms/step - loss: 0.8972 - accuracy: 0.6300 - val_loss: 1.0629 - val_accuracy: 0.5250\n"
          ]
        },
        {
          "output_type": "execute_result",
          "data": {
            "text/plain": [
              "<keras.callbacks.History at 0x7f24055d2910>"
            ]
          },
          "metadata": {},
          "execution_count": 27
        }
      ],
      "source": [
        "model = keras.Sequential([\n",
        "    keras.layers.Dense(input_shape = feature_train[0].shape, units=32, activation='relu'),\n",
        "    keras.layers.Dropout(0.5),\n",
        "    #keras.layers.Dense(units = 128, activation = \"sigmoid\"),\n",
        "    #keras.layers.Dropout(0.6),\n",
        "    keras.layers.Dense(units=6, activation='softmax')\n",
        "    \n",
        "    \n",
        "])\n",
        "#units1=32\n",
        "print(model.summary())\n",
        "model.compile(optimizer='adamax', \n",
        "              loss=tf.losses.CategoricalCrossentropy(),\n",
        "              metrics=['accuracy'])\n",
        "model.fit(np.asarray(feature_train), np.asarray(y2_train), epochs = 50, steps_per_epoch = 500, validation_split=0.01)\n"
      ],
      "id": "U2BkVwMiG15l"
    },
    {
      "cell_type": "code",
      "source": [
        "\n",
        "print(accuracy_4)"
      ],
      "metadata": {
        "colab": {
          "base_uri": "https://localhost:8080/"
        },
        "id": "mbpKWHprGomc",
        "outputId": "58ecd272-edb6-46aa-a190-57ddf804d0f2"
      },
      "id": "mbpKWHprGomc",
      "execution_count": 25,
      "outputs": [
        {
          "output_type": "stream",
          "name": "stdout",
          "text": [
            "0.44\n"
          ]
        }
      ]
    },
    {
      "cell_type": "code",
      "execution_count": 28,
      "metadata": {
        "id": "cuOPsD1Qfcvs"
      },
      "outputs": [],
      "source": [
        "\n",
        "pred_1=model.predict(feature_test)\n",
        "prediction_keras_1= []\n",
        "for i in pred_1:\n",
        "  prediction_keras_1.append(np.argmax(i))\n",
        "\n",
        "\n",
        "reverse={0:\"A1\", 1:\"A2\", 2:\"B1\",3:\"B2\",4:\"C1\", 5:\"C2\"}\n",
        "\n",
        "reversed_list=[reverse[k] for k in prediction_keras_1]\n",
        "\n"
      ],
      "id": "cuOPsD1Qfcvs"
    },
    {
      "cell_type": "code",
      "source": [
        "ids=[]\n",
        "\n",
        "for i in range(len(reversed_list)):\n",
        "  if prediction_keras_1[i]!=y1_test[i]:\n",
        "    ids.append(4000+i)\n",
        "\n",
        "comparaisons = pd.read_csv('training_data.csv')\n",
        "comparaisons = comparaisons.iloc[4000:]\n",
        "comparaisons = comparaisons.loc[comparaisons['id'].isin(ids)]    \n",
        "comparaisons.head(20)"
      ],
      "metadata": {
        "colab": {
          "base_uri": "https://localhost:8080/",
          "height": 677
        },
        "id": "js6v2xP46yuI",
        "outputId": "b1ec49cb-f1a9-4f6e-af08-edca13d0ac80"
      },
      "id": "js6v2xP46yuI",
      "execution_count": 39,
      "outputs": [
        {
          "output_type": "execute_result",
          "data": {
            "text/html": [
              "<div>\n",
              "<style scoped>\n",
              "    .dataframe tbody tr th:only-of-type {\n",
              "        vertical-align: middle;\n",
              "    }\n",
              "\n",
              "    .dataframe tbody tr th {\n",
              "        vertical-align: top;\n",
              "    }\n",
              "\n",
              "    .dataframe thead th {\n",
              "        text-align: right;\n",
              "    }\n",
              "</style>\n",
              "<table border=\"1\" class=\"dataframe\">\n",
              "  <thead>\n",
              "    <tr style=\"text-align: right;\">\n",
              "      <th></th>\n",
              "      <th>id</th>\n",
              "      <th>sentence</th>\n",
              "      <th>difficulty</th>\n",
              "    </tr>\n",
              "  </thead>\n",
              "  <tbody>\n",
              "    <tr>\n",
              "      <th>4002</th>\n",
              "      <td>4002</td>\n",
              "      <td>De nombreux reportages s'arrêtent sur ces père...</td>\n",
              "      <td>B2</td>\n",
              "    </tr>\n",
              "    <tr>\n",
              "      <th>4003</th>\n",
              "      <td>4003</td>\n",
              "      <td>On a beaucoup discuté de sa mère qui s'est cas...</td>\n",
              "      <td>A2</td>\n",
              "    </tr>\n",
              "    <tr>\n",
              "      <th>4005</th>\n",
              "      <td>4005</td>\n",
              "      <td>Je n'aime pas sortir la poubelle et je déteste...</td>\n",
              "      <td>A2</td>\n",
              "    </tr>\n",
              "    <tr>\n",
              "      <th>4006</th>\n",
              "      <td>4006</td>\n",
              "      <td>Gutrie (Petty, 2000) citent les initiatives ma...</td>\n",
              "      <td>C2</td>\n",
              "    </tr>\n",
              "    <tr>\n",
              "      <th>4009</th>\n",
              "      <td>4009</td>\n",
              "      <td>Pas d'efforts violents et courts mais des effo...</td>\n",
              "      <td>B2</td>\n",
              "    </tr>\n",
              "    <tr>\n",
              "      <th>4015</th>\n",
              "      <td>4015</td>\n",
              "      <td>J'en ferai d'autres plus avancées.</td>\n",
              "      <td>B1</td>\n",
              "    </tr>\n",
              "    <tr>\n",
              "      <th>4016</th>\n",
              "      <td>4016</td>\n",
              "      <td>Le gallinacé symbolise à la fois, la cérémonie...</td>\n",
              "      <td>B2</td>\n",
              "    </tr>\n",
              "    <tr>\n",
              "      <th>4021</th>\n",
              "      <td>4021</td>\n",
              "      <td>Je déconseille le blanc, les harmonies de blan...</td>\n",
              "      <td>B2</td>\n",
              "    </tr>\n",
              "    <tr>\n",
              "      <th>4024</th>\n",
              "      <td>4024</td>\n",
              "      <td>Ce n'était plus l'automne, c'était le printemps!</td>\n",
              "      <td>A2</td>\n",
              "    </tr>\n",
              "    <tr>\n",
              "      <th>4027</th>\n",
              "      <td>4027</td>\n",
              "      <td>Car Joe Manchin et Kyrsten Sinema s'étaient dé...</td>\n",
              "      <td>B2</td>\n",
              "    </tr>\n",
              "    <tr>\n",
              "      <th>4029</th>\n",
              "      <td>4029</td>\n",
              "      <td>Je vais te faire voyager, tu les reverras ces ...</td>\n",
              "      <td>C1</td>\n",
              "    </tr>\n",
              "    <tr>\n",
              "      <th>4031</th>\n",
              "      <td>4031</td>\n",
              "      <td>Pour beaucoup de cyclistes, la récompense aprè...</td>\n",
              "      <td>B1</td>\n",
              "    </tr>\n",
              "    <tr>\n",
              "      <th>4032</th>\n",
              "      <td>4032</td>\n",
              "      <td>Ce sont des jours fériés, c'est-à-dire des ...</td>\n",
              "      <td>A2</td>\n",
              "    </tr>\n",
              "    <tr>\n",
              "      <th>4033</th>\n",
              "      <td>4033</td>\n",
              "      <td>On le prenait pour un espion.</td>\n",
              "      <td>B1</td>\n",
              "    </tr>\n",
              "    <tr>\n",
              "      <th>4034</th>\n",
              "      <td>4034</td>\n",
              "      <td>Vous voulez écouter d'autres histoires de Noël ?</td>\n",
              "      <td>A1</td>\n",
              "    </tr>\n",
              "    <tr>\n",
              "      <th>4038</th>\n",
              "      <td>4038</td>\n",
              "      <td>Il la sentait défectueuse en tout, par les bot...</td>\n",
              "      <td>B2</td>\n",
              "    </tr>\n",
              "    <tr>\n",
              "      <th>4041</th>\n",
              "      <td>4041</td>\n",
              "      <td>Donc, pendant que je pédalais, ils étaient sûr...</td>\n",
              "      <td>A2</td>\n",
              "    </tr>\n",
              "    <tr>\n",
              "      <th>4043</th>\n",
              "      <td>4043</td>\n",
              "      <td>J'ai engagé la conversation pour briser le sil...</td>\n",
              "      <td>B1</td>\n",
              "    </tr>\n",
              "    <tr>\n",
              "      <th>4044</th>\n",
              "      <td>4044</td>\n",
              "      <td>Une fois utilisés, ou manipulés, les résultats...</td>\n",
              "      <td>C1</td>\n",
              "    </tr>\n",
              "    <tr>\n",
              "      <th>4045</th>\n",
              "      <td>4045</td>\n",
              "      <td>Il sera nécessaire de faire un effort de pédag...</td>\n",
              "      <td>C2</td>\n",
              "    </tr>\n",
              "  </tbody>\n",
              "</table>\n",
              "</div>"
            ],
            "text/plain": [
              "        id                                           sentence difficulty\n",
              "4002  4002  De nombreux reportages s'arrêtent sur ces père...         B2\n",
              "4003  4003  On a beaucoup discuté de sa mère qui s'est cas...         A2\n",
              "4005  4005  Je n'aime pas sortir la poubelle et je déteste...         A2\n",
              "4006  4006  Gutrie (Petty, 2000) citent les initiatives ma...         C2\n",
              "4009  4009  Pas d'efforts violents et courts mais des effo...         B2\n",
              "4015  4015                 J'en ferai d'autres plus avancées.         B1\n",
              "4016  4016  Le gallinacé symbolise à la fois, la cérémonie...         B2\n",
              "4021  4021  Je déconseille le blanc, les harmonies de blan...         B2\n",
              "4024  4024   Ce n'était plus l'automne, c'était le printemps!         A2\n",
              "4027  4027  Car Joe Manchin et Kyrsten Sinema s'étaient dé...         B2\n",
              "4029  4029  Je vais te faire voyager, tu les reverras ces ...         C1\n",
              "4031  4031  Pour beaucoup de cyclistes, la récompense aprè...         B1\n",
              "4032  4032  Ce sont des jours fériés, c'est-à-dire des ...         A2\n",
              "4033  4033                      On le prenait pour un espion.         B1\n",
              "4034  4034   Vous voulez écouter d'autres histoires de Noël ?         A1\n",
              "4038  4038  Il la sentait défectueuse en tout, par les bot...         B2\n",
              "4041  4041  Donc, pendant que je pédalais, ils étaient sûr...         A2\n",
              "4043  4043  J'ai engagé la conversation pour briser le sil...         B1\n",
              "4044  4044  Une fois utilisés, ou manipulés, les résultats...         C1\n",
              "4045  4045  Il sera nécessaire de faire un effort de pédag...         C2"
            ]
          },
          "metadata": {},
          "execution_count": 39
        }
      ]
    },
    {
      "cell_type": "code",
      "source": [
        "print(y1_test)"
      ],
      "metadata": {
        "colab": {
          "base_uri": "https://localhost:8080/"
        },
        "id": "l077tpM8IkPD",
        "outputId": "76cd25aa-df75-4766-9fae-ac4b45a720b5"
      },
      "id": "l077tpM8IkPD",
      "execution_count": 35,
      "outputs": [
        {
          "output_type": "stream",
          "name": "stdout",
          "text": [
            "[1, 4, 3, 1, 5, 1, 5, 2, 5, 3, 4, 4, 2, 5, 5, 2, 3, 4, 5, 5, 1, 3, 5, 4, 1, 0, 0, 3, 5, 4, 0, 2, 1, 2, 0, 0, 5, 4, 3, 0, 2, 1, 2, 2, 4, 5, 0, 2, 3, 4, 0, 1, 5, 5, 5, 0, 2, 3, 3, 4, 0, 2, 2, 4, 3, 3, 5, 3, 3, 2, 1, 1, 1, 4, 3, 0, 2, 3, 3, 4, 4, 3, 2, 2, 3, 0, 1, 3, 5, 4, 3, 5, 5, 1, 2, 1, 5, 5, 5, 2, 3, 4, 3, 3, 0, 2, 4, 3, 1, 2, 4, 2, 5, 4, 3, 5, 1, 4, 3, 3, 5, 5, 3, 4, 4, 2, 4, 1, 4, 2, 1, 3, 1, 5, 4, 0, 5, 4, 1, 0, 4, 2, 3, 2, 0, 5, 1, 1, 2, 3, 1, 2, 2, 0, 5, 0, 0, 1, 0, 3, 2, 3, 3, 5, 5, 2, 1, 5, 3, 1, 3, 4, 3, 0, 1, 0, 1, 1, 5, 2, 2, 0, 3, 0, 3, 0, 4, 3, 1, 3, 0, 0, 1, 2, 5, 1, 0, 5, 4, 1, 5, 3, 3, 1, 1, 5, 1, 5, 5, 1, 2, 0, 0, 4, 2, 4, 3, 2, 4, 1, 5, 0, 0, 3, 2, 1, 1, 0, 5, 1, 4, 3, 3, 1, 3, 0, 2, 2, 5, 4, 0, 2, 0, 3, 3, 0, 2, 5, 1, 0, 2, 2, 5, 4, 3, 4, 5, 5, 0, 4, 2, 4, 0, 4, 3, 3, 4, 0, 0, 1, 0, 3, 1, 2, 2, 3, 0, 3, 5, 3, 5, 2, 1, 2, 0, 5, 4, 3, 3, 5, 4, 4, 3, 5, 4, 1, 0, 4, 5, 3, 0, 1, 0, 3, 2, 0, 2, 1, 1, 4, 0, 1, 0, 4, 0, 4, 0, 3, 0, 5, 1, 0, 0, 1, 1, 2, 3, 0, 2, 3, 2, 3, 1, 5, 2, 3, 3, 5, 4, 0, 3, 1, 5, 1, 5, 3, 1, 3, 4, 2, 3, 5, 1, 2, 5, 2, 2, 3, 1, 3, 2, 2, 2, 4, 4, 1, 2, 5, 1, 4, 4, 1, 1, 5, 5, 5, 5, 1, 4, 5, 4, 3, 2, 4, 3, 4, 1, 4, 5, 4, 3, 2, 2, 2, 1, 1, 0, 2, 0, 2, 2, 5, 5, 5, 1, 0, 2, 2, 5, 4, 0, 1, 2, 3, 4, 3, 3, 3, 5, 0, 5, 3, 0, 4, 5, 1, 1, 1, 3, 3, 2, 2, 0, 1, 3, 3, 1, 1, 0, 4, 0, 4, 1, 3, 2, 4, 1, 5, 2, 4, 2, 1, 5, 5, 1, 2, 1, 1, 3, 3, 0, 5, 4, 5, 0, 2, 0, 0, 5, 5, 3, 5, 0, 0, 2, 2, 2, 0, 0, 3, 0, 4, 0, 1, 1, 0, 1, 5, 4, 5, 2, 1, 2, 1, 2, 3, 4, 1, 2, 2, 5, 5, 4, 0, 4, 0, 1, 0, 4, 4, 3, 5, 2, 4, 5, 2, 1, 3, 0, 2, 5, 2, 2, 1, 2, 0, 5, 1, 1, 4, 1, 3, 2, 3, 5, 2, 3, 2, 3, 1, 3, 3, 4, 5, 0, 5, 1, 2, 5, 4, 5, 2, 2, 1, 2, 4, 3, 1, 1, 5, 1, 5, 0, 4, 1, 3, 3, 0, 3, 3, 0, 2, 0, 0, 1, 4, 5, 0, 3, 0, 3, 4, 0, 0, 3, 0, 4, 5, 1, 2, 2, 4, 5, 2, 0, 1, 4, 4, 1, 1, 5, 0, 1, 1, 4, 2, 5, 2, 2, 4, 0, 3, 4, 3, 2, 4, 1, 4, 2, 5, 4, 4, 1, 0, 1, 5, 2, 0, 0, 5, 0, 4, 2, 2, 3, 4, 1, 1, 0, 4, 0, 4, 3, 0, 1, 4, 4, 2, 2, 2, 1, 4, 1, 2, 0, 4, 2, 1, 3, 4, 3, 1, 2, 2, 1, 0, 5, 2, 1, 4, 5, 3, 5, 5, 3, 2, 2, 3, 0, 4, 0, 4, 2, 4, 1, 3, 2, 4, 1, 2, 2, 5, 4, 0, 0, 2, 4, 5, 2, 4, 4, 4, 4, 3, 4, 2, 1, 3, 5, 4, 3, 5, 0, 0, 1, 2, 5, 5, 4, 5, 3, 1, 5, 5, 4, 1, 4, 1, 2, 4, 2, 5, 4, 5, 3, 5, 0, 1, 2, 0, 1, 3, 3, 0, 1, 3, 0, 2, 5, 4, 2, 5, 4, 1, 4, 3, 1, 2, 0, 4, 3, 4, 3, 2, 0, 3, 1, 1, 1, 4, 1, 5, 2, 3, 4, 0, 5, 4, 1, 5, 3, 3, 5, 0, 3, 2, 0, 3, 0, 1, 0, 2, 4, 3, 4, 3, 4, 1, 5, 5]\n"
          ]
        }
      ]
    }
  ],
  "metadata": {
    "colab": {
      "collapsed_sections": [],
      "name": "Phrase_level_classification_1.ipynb",
      "provenance": [],
      "include_colab_link": true
    },
    "kernelspec": {
      "display_name": "Python 3",
      "language": "python",
      "name": "python3"
    },
    "language_info": {
      "codemirror_mode": {
        "name": "ipython",
        "version": 3
      },
      "file_extension": ".py",
      "mimetype": "text/x-python",
      "name": "python",
      "nbconvert_exporter": "python",
      "pygments_lexer": "ipython3",
      "version": "3.9.7"
    }
  },
  "nbformat": 4,
  "nbformat_minor": 5
}